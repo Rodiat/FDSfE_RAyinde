{
  "nbformat": 4,
  "nbformat_minor": 0,
  "metadata": {
    "colab": {
      "provenance": [],
      "include_colab_link": true
    },
    "kernelspec": {
      "name": "python3",
      "display_name": "Python 3"
    },
    "language_info": {
      "name": "python"
    }
  },
  "cells": [
    {
      "cell_type": "markdown",
      "metadata": {
        "id": "view-in-github",
        "colab_type": "text"
      },
      "source": [
        "<a href=\"https://colab.research.google.com/github/Rodiat/FDSfE_RAyinde/blob/main/RODIAT_FDSfE2022_midterm_instructions.ipynb\" target=\"_parent\"><img src=\"https://colab.research.google.com/assets/colab-badge.svg\" alt=\"Open In Colab\"/></a>"
      ]
    },
    {
      "cell_type": "markdown",
      "source": [
        "# READ THESE INSTRUCTIONS CAREFULLY AND IN FULL BEFORE YOU PROCEED TO WORK! THERE ARE HINTS AND LINKS TO PARTIAL SOLUTIONS\n",
        "\n",
        "# CONTEXT : Investigation of sea level rise \n",
        "\n",
        "Sea level rise, associated with global warming, is a threat to people living in costal areas and to world sustainability. Sea level rise is caused primarily by two factors related to global warming: the added water from melting ice sheets and glaciers, and the expansion of seawater as it warms. The [data you are given access to is from NASA](https://climate.nasa.gov/vital-signs/sea-level/), which tracks the change in global sea level since 1993, as observed by satellites.\n",
        "\n",
        "**Objective**: modeling sea level rise to enable predictions and predict future sea levels and critical rise points.\n",
        "\n",
        "## RULES\n",
        "\n",
        "Work on your own! you will have a short \"interview\" with Dr. Bianco after the midterm. In that interview you will have to show that you can redo any piece of the midterm you did on the day of. If you copy you will not be able to redo the work and you will get 0 points for the midterm. Code that is similar is easily spotted and you will be asked about it. Whether you are the person that copied or the person that allows a classmate to copy you will get 0 points for the midterm.\n",
        "\n",
        "You can consult your old notebooks, my notebooks, stackoverflow, books, tarot cards... pretty much anything you want! This is an open-everything exam and anything that does not involve live interaction with a classmate (or another person that is not Dr. Bianco, Mr. Qamar, or Ms. Fortino) is allowed\n",
        "\n",
        "Use the #midterm slack channel to ask questions. Do not hesitate to ask for clarifications and do not stay stuck on any task too long! Give it an honest try and if you have questions ask in #midterm.\n",
        "\n",
        "You will receive points for each of the marked tasks and for the discussion of your findings.\n",
        "\n",
        "**Complete each pre-started ell of code and as many additional cells as you need with your code replacing \"...\" wherever you see it and answer all questions in the tasks**\n",
        "\n",
        "##Tasks:\n",
        "**Task 1: Data Acquisition(15 points)** The first task is to read in the data. The format of the dataset makes it tricky. This task may be time consuming. DO NOT STAY STUCK HERE! If you _cannot_ figure out how to do this, after an honest try,  you can [use this link for a better formatted dataset here . If you use this secondary link](https://raw.githubusercontent.com/fedhere/FDSfE_FBianco/main/test/searise.csv) instead. This is a properly formatted csv file. You will not receive full points for task 1, but if you have partial solutions in your notebook you may receive partial credits.\n",
        "\n",
        "\n",
        "**Task 2-6: Data Exploration (35 points)** are the exploratory data tasks: we did these kind of things in many notebooks together in class and in homeworks. Each thing I ask you to do has been done in a class or another. This is likely the most time consuming aspect of the midterm\n",
        "\n",
        "**Task 7: Data Visualization (20 points)** Data visualization tasks\n",
        "\n",
        "**Task 8-10: Model the data and make predictions (20 points)** Modeling tasks: you can choose whichever method you want to fit a line model to the data. The notebook we worked on in the past 4 classes contains the way to use each method. The \"solution\" to that homework is in https://github.com/fedhere/FDSfE_FBianco/blob/main/classdemo/linear_regression_in_detail.ipynb\n",
        "\n",
        "**Presentation (10 points)**\n",
        "The total number of points you can get is 90, 10 additional points will be awarded for your notebook being cleanly and neatly presented. **A cleanly presented notebook (among other things):\n",
        "- has limited number of decimal digits for floating point outpus, \n",
        "- embed code outputs into print statements and does not leave them hanging\n",
        "- make good thoughtful considerations about the results throughout\n",
        "- removes the instructions and provides the solution in their place - is named sensibly \n",
        "- uses good coding practices (encouraged but not grading on this last item)\n",
        "\n",
        "**Broken notebook (-15%)** If your notebook does not work when we receive it by \"Run all\" you will lose 15% of the points. Make sure you \"restart and run all\" before you submit\n",
        "\n",
        "**Do not stay stuck on the first task (acquiring the data) for too long! If you cannot read in the data you can skip that task and lose points for it but be able to proceed to the other tasks! and you can go back to it later!!**"
      ],
      "metadata": {
        "id": "o1E29JkVOKfY"
      }
    },
    {
      "cell_type": "code",
      "source": [
        "import pandas as pd\n",
        "import pylab as plt\n",
        "import statsmodels.api as sm\n",
        "import numpy as np\n",
        "# add other imports here"
      ],
      "metadata": {
        "id": "SVOOEp9W8_bt"
      },
      "execution_count": null,
      "outputs": []
    },
    {
      "cell_type": "markdown",
      "source": [
        "# Data acquisition (15 points)"
      ],
      "metadata": {
        "id": "-srn67-HLJYs"
      }
    },
    {
      "cell_type": "markdown",
      "source": [
        "## Task 1 (15 points)\n",
        "\n",
        "read in the data from the github repository for class\n",
        "https://github.com/fedhere/FDSfE_FBianco\n",
        "\n",
        "the data is in the folder \"data\" and it is called \"GMSL_TPJAOS_5.1_199209_202208.txt\"\n",
        "\n",
        "Use the pandas method ```read_csv()```. You will have to figure out how to:\n",
        "\n",
        "- skip the first 49 rows of the data\n",
        "- make sure the first row of numerical data is not read in as a header\n",
        "- pass the names to the variables. I provided the names in the cell above this one as a list called `column_names`\n",
        "- read in data separated by spaces - look for the delimiter keyword options on the help page of the method. \n",
        "\n",
        "**IF YOU CANNOT DO THIS TASK**: you can get a properly formatted dataset and use that. You will not get full points for this task but you may get points for partial solution if you made any way toward reading in the original link. This is a much better solution then getting stuck here and not being able to do any of the following tasks! so if its taking you a long time to do this task 1 go ahead and use [this link](https://raw.githubusercontent.com/fedhere/FDSfE_FBianco/main/test/searise.csv) (but remember you need to get the **raw** link from this webpage!!) you can go back to this and try to improve your answer later after you are all done with the rest of the tasks."
      ],
      "metadata": {
        "id": "Y1_uhaoLLMYb"
      }
    },
    {
      "cell_type": "code",
      "source": [
        "column_names = [\"altimeter type\", \"merged file cycle \", \"year\", \"number of observations\",\n",
        "       \"number of weighted observations\", \"GMSL variation no GIA (mm)\",\n",
        "       \"standard no GIA deviation of GMSL (mm)\", \"smoothed GMSL (mm)\", \n",
        "       \"GMSL variation (mm)\", \"standard deviation of GMSL (mm)\", \n",
        "       \"smoothed 60-day variation (mm)\",\n",
        "       \"smoothed (mm) annual and semi-annual signal removed\"]"
      ],
      "metadata": {
        "id": "Cx6XnGo02PDW"
      },
      "execution_count": null,
      "outputs": []
    },
    {
      "cell_type": "code",
      "source": [
        "#replace \"...\" with your code\n",
        "searise = pd.read_csv(\"https://github.com/fedhere/FDSfE_FBianco/raw/main/data/GMSL_TPJAOS_5.1_199209_202208.txt\", skiprows=49, header=None, names = column_names,  sep ='\\s+' )"
      ],
      "metadata": {
        "id": "BDcVH0Fh2LPj"
      },
      "execution_count": null,
      "outputs": []
    },
    {
      "cell_type": "markdown",
      "source": [
        "# Data Exploration : 35 points\n",
        "\n",
        "\n"
      ],
      "metadata": {
        "id": "CGdKsDqPD8cy"
      }
    },
    {
      "cell_type": "markdown",
      "source": [
        "## Task 2 (5 points)\n",
        "Show the first 5 rows and last 5 rows of the dataframe (5 points)\n"
      ],
      "metadata": {
        "id": "bDUzMj2QE9Te"
      }
    },
    {
      "cell_type": "code",
      "source": [
        "#replace \"...\" with your code\n",
        "searise.head(5)"
      ],
      "metadata": {
        "colab": {
          "base_uri": "https://localhost:8080/",
          "height": 320
        },
        "id": "K4oka4HjEiIz",
        "outputId": "fcbf5eea-a745-4f2b-9b4a-32ee953081fb"
      },
      "execution_count": null,
      "outputs": [
        {
          "output_type": "execute_result",
          "data": {
            "text/plain": [
              "   altimeter type  merged file cycle          year  number of observations  \\\n",
              "0               0                  11  1993.011526                  452600   \n",
              "1               0                  12  1993.038692                  447591   \n",
              "2               0                  13  1993.065858                  459462   \n",
              "3               0                  14  1993.093025                  410064   \n",
              "4               0                  15  1993.120191                  446813   \n",
              "\n",
              "   number of weighted observations  GMSL variation no GIA (mm)  \\\n",
              "0                        327401.31                      -38.61   \n",
              "1                        324498.41                      -42.01   \n",
              "2                        333018.19                      -41.97   \n",
              "3                        297483.19                      -42.71   \n",
              "4                        321635.81                      -37.88   \n",
              "\n",
              "   standard no GIA deviation of GMSL (mm)  smoothed GMSL (mm)  \\\n",
              "0                                   89.88              -38.78   \n",
              "1                                   90.93              -39.80   \n",
              "2                                   87.31              -39.65   \n",
              "3                                   90.79              -39.69   \n",
              "4                                   90.29              -38.78   \n",
              "\n",
              "   GMSL variation (mm)  standard deviation of GMSL (mm)  \\\n",
              "0               -38.61                            89.88   \n",
              "1               -42.00                            90.93   \n",
              "2               -41.96                            87.31   \n",
              "3               -42.69                            90.79   \n",
              "4               -37.85                            90.29   \n",
              "\n",
              "   smoothed 60-day variation (mm)  \\\n",
              "0                          -38.78   \n",
              "1                          -39.80   \n",
              "2                          -39.64   \n",
              "3                          -39.67   \n",
              "4                          -38.75   \n",
              "\n",
              "   smoothed (mm) annual and semi-annual signal removed  \n",
              "0                                             -38.56    \n",
              "1                                             -39.09    \n",
              "2                                             -38.56    \n",
              "3                                             -38.32    \n",
              "4                                             -37.20    "
            ],
            "text/html": [
              "\n",
              "  <div id=\"df-b4aeca2c-0280-4084-b24b-ccec7248ccbf\">\n",
              "    <div class=\"colab-df-container\">\n",
              "      <div>\n",
              "<style scoped>\n",
              "    .dataframe tbody tr th:only-of-type {\n",
              "        vertical-align: middle;\n",
              "    }\n",
              "\n",
              "    .dataframe tbody tr th {\n",
              "        vertical-align: top;\n",
              "    }\n",
              "\n",
              "    .dataframe thead th {\n",
              "        text-align: right;\n",
              "    }\n",
              "</style>\n",
              "<table border=\"1\" class=\"dataframe\">\n",
              "  <thead>\n",
              "    <tr style=\"text-align: right;\">\n",
              "      <th></th>\n",
              "      <th>altimeter type</th>\n",
              "      <th>merged file cycle</th>\n",
              "      <th>year</th>\n",
              "      <th>number of observations</th>\n",
              "      <th>number of weighted observations</th>\n",
              "      <th>GMSL variation no GIA (mm)</th>\n",
              "      <th>standard no GIA deviation of GMSL (mm)</th>\n",
              "      <th>smoothed GMSL (mm)</th>\n",
              "      <th>GMSL variation (mm)</th>\n",
              "      <th>standard deviation of GMSL (mm)</th>\n",
              "      <th>smoothed 60-day variation (mm)</th>\n",
              "      <th>smoothed (mm) annual and semi-annual signal removed</th>\n",
              "    </tr>\n",
              "  </thead>\n",
              "  <tbody>\n",
              "    <tr>\n",
              "      <th>0</th>\n",
              "      <td>0</td>\n",
              "      <td>11</td>\n",
              "      <td>1993.011526</td>\n",
              "      <td>452600</td>\n",
              "      <td>327401.31</td>\n",
              "      <td>-38.61</td>\n",
              "      <td>89.88</td>\n",
              "      <td>-38.78</td>\n",
              "      <td>-38.61</td>\n",
              "      <td>89.88</td>\n",
              "      <td>-38.78</td>\n",
              "      <td>-38.56</td>\n",
              "    </tr>\n",
              "    <tr>\n",
              "      <th>1</th>\n",
              "      <td>0</td>\n",
              "      <td>12</td>\n",
              "      <td>1993.038692</td>\n",
              "      <td>447591</td>\n",
              "      <td>324498.41</td>\n",
              "      <td>-42.01</td>\n",
              "      <td>90.93</td>\n",
              "      <td>-39.80</td>\n",
              "      <td>-42.00</td>\n",
              "      <td>90.93</td>\n",
              "      <td>-39.80</td>\n",
              "      <td>-39.09</td>\n",
              "    </tr>\n",
              "    <tr>\n",
              "      <th>2</th>\n",
              "      <td>0</td>\n",
              "      <td>13</td>\n",
              "      <td>1993.065858</td>\n",
              "      <td>459462</td>\n",
              "      <td>333018.19</td>\n",
              "      <td>-41.97</td>\n",
              "      <td>87.31</td>\n",
              "      <td>-39.65</td>\n",
              "      <td>-41.96</td>\n",
              "      <td>87.31</td>\n",
              "      <td>-39.64</td>\n",
              "      <td>-38.56</td>\n",
              "    </tr>\n",
              "    <tr>\n",
              "      <th>3</th>\n",
              "      <td>0</td>\n",
              "      <td>14</td>\n",
              "      <td>1993.093025</td>\n",
              "      <td>410064</td>\n",
              "      <td>297483.19</td>\n",
              "      <td>-42.71</td>\n",
              "      <td>90.79</td>\n",
              "      <td>-39.69</td>\n",
              "      <td>-42.69</td>\n",
              "      <td>90.79</td>\n",
              "      <td>-39.67</td>\n",
              "      <td>-38.32</td>\n",
              "    </tr>\n",
              "    <tr>\n",
              "      <th>4</th>\n",
              "      <td>0</td>\n",
              "      <td>15</td>\n",
              "      <td>1993.120191</td>\n",
              "      <td>446813</td>\n",
              "      <td>321635.81</td>\n",
              "      <td>-37.88</td>\n",
              "      <td>90.29</td>\n",
              "      <td>-38.78</td>\n",
              "      <td>-37.85</td>\n",
              "      <td>90.29</td>\n",
              "      <td>-38.75</td>\n",
              "      <td>-37.20</td>\n",
              "    </tr>\n",
              "  </tbody>\n",
              "</table>\n",
              "</div>\n",
              "      <button class=\"colab-df-convert\" onclick=\"convertToInteractive('df-b4aeca2c-0280-4084-b24b-ccec7248ccbf')\"\n",
              "              title=\"Convert this dataframe to an interactive table.\"\n",
              "              style=\"display:none;\">\n",
              "        \n",
              "  <svg xmlns=\"http://www.w3.org/2000/svg\" height=\"24px\"viewBox=\"0 0 24 24\"\n",
              "       width=\"24px\">\n",
              "    <path d=\"M0 0h24v24H0V0z\" fill=\"none\"/>\n",
              "    <path d=\"M18.56 5.44l.94 2.06.94-2.06 2.06-.94-2.06-.94-.94-2.06-.94 2.06-2.06.94zm-11 1L8.5 8.5l.94-2.06 2.06-.94-2.06-.94L8.5 2.5l-.94 2.06-2.06.94zm10 10l.94 2.06.94-2.06 2.06-.94-2.06-.94-.94-2.06-.94 2.06-2.06.94z\"/><path d=\"M17.41 7.96l-1.37-1.37c-.4-.4-.92-.59-1.43-.59-.52 0-1.04.2-1.43.59L10.3 9.45l-7.72 7.72c-.78.78-.78 2.05 0 2.83L4 21.41c.39.39.9.59 1.41.59.51 0 1.02-.2 1.41-.59l7.78-7.78 2.81-2.81c.8-.78.8-2.07 0-2.86zM5.41 20L4 18.59l7.72-7.72 1.47 1.35L5.41 20z\"/>\n",
              "  </svg>\n",
              "      </button>\n",
              "      \n",
              "  <style>\n",
              "    .colab-df-container {\n",
              "      display:flex;\n",
              "      flex-wrap:wrap;\n",
              "      gap: 12px;\n",
              "    }\n",
              "\n",
              "    .colab-df-convert {\n",
              "      background-color: #E8F0FE;\n",
              "      border: none;\n",
              "      border-radius: 50%;\n",
              "      cursor: pointer;\n",
              "      display: none;\n",
              "      fill: #1967D2;\n",
              "      height: 32px;\n",
              "      padding: 0 0 0 0;\n",
              "      width: 32px;\n",
              "    }\n",
              "\n",
              "    .colab-df-convert:hover {\n",
              "      background-color: #E2EBFA;\n",
              "      box-shadow: 0px 1px 2px rgba(60, 64, 67, 0.3), 0px 1px 3px 1px rgba(60, 64, 67, 0.15);\n",
              "      fill: #174EA6;\n",
              "    }\n",
              "\n",
              "    [theme=dark] .colab-df-convert {\n",
              "      background-color: #3B4455;\n",
              "      fill: #D2E3FC;\n",
              "    }\n",
              "\n",
              "    [theme=dark] .colab-df-convert:hover {\n",
              "      background-color: #434B5C;\n",
              "      box-shadow: 0px 1px 3px 1px rgba(0, 0, 0, 0.15);\n",
              "      filter: drop-shadow(0px 1px 2px rgba(0, 0, 0, 0.3));\n",
              "      fill: #FFFFFF;\n",
              "    }\n",
              "  </style>\n",
              "\n",
              "      <script>\n",
              "        const buttonEl =\n",
              "          document.querySelector('#df-b4aeca2c-0280-4084-b24b-ccec7248ccbf button.colab-df-convert');\n",
              "        buttonEl.style.display =\n",
              "          google.colab.kernel.accessAllowed ? 'block' : 'none';\n",
              "\n",
              "        async function convertToInteractive(key) {\n",
              "          const element = document.querySelector('#df-b4aeca2c-0280-4084-b24b-ccec7248ccbf');\n",
              "          const dataTable =\n",
              "            await google.colab.kernel.invokeFunction('convertToInteractive',\n",
              "                                                     [key], {});\n",
              "          if (!dataTable) return;\n",
              "\n",
              "          const docLinkHtml = 'Like what you see? Visit the ' +\n",
              "            '<a target=\"_blank\" href=https://colab.research.google.com/notebooks/data_table.ipynb>data table notebook</a>'\n",
              "            + ' to learn more about interactive tables.';\n",
              "          element.innerHTML = '';\n",
              "          dataTable['output_type'] = 'display_data';\n",
              "          await google.colab.output.renderOutput(dataTable, element);\n",
              "          const docLink = document.createElement('div');\n",
              "          docLink.innerHTML = docLinkHtml;\n",
              "          element.appendChild(docLink);\n",
              "        }\n",
              "      </script>\n",
              "    </div>\n",
              "  </div>\n",
              "  "
            ]
          },
          "metadata": {},
          "execution_count": 171
        }
      ]
    },
    {
      "cell_type": "code",
      "source": [
        "#replace \"...\" with your code\n",
        "searise.tail(5)"
      ],
      "metadata": {
        "colab": {
          "base_uri": "https://localhost:8080/",
          "height": 320
        },
        "id": "zbSqa2vKEkWB",
        "outputId": "57d22115-1d21-42fe-9de7-17ef16c4b12f"
      },
      "execution_count": null,
      "outputs": [
        {
          "output_type": "execute_result",
          "data": {
            "text/plain": [
              "      altimeter type  merged file cycle          year  number of observations  \\\n",
              "1084               0                1096  2022.467623                  462288   \n",
              "1085               0                1097  2022.494789                  460618   \n",
              "1086               0                1098  2022.521956                  458096   \n",
              "1087               0                1099  2022.549122                  457505   \n",
              "1088               0                1100  2022.576288                  457679   \n",
              "\n",
              "      number of weighted observations  GMSL variation no GIA (mm)  \\\n",
              "1084                        334304.59                       48.93   \n",
              "1085                        335014.81                       54.04   \n",
              "1086                        334752.69                       57.35   \n",
              "1087                        334376.81                       57.75   \n",
              "1088                        336350.31                       54.41   \n",
              "\n",
              "      standard no GIA deviation of GMSL (mm)  smoothed GMSL (mm)  \\\n",
              "1084                                   86.03               52.06   \n",
              "1085                                   87.20               52.78   \n",
              "1086                                   86.67               53.26   \n",
              "1087                                   86.06               53.57   \n",
              "1088                                   85.62               53.76   \n",
              "\n",
              "      GMSL variation (mm)  standard deviation of GMSL (mm)  \\\n",
              "1084                56.12                            86.07   \n",
              "1085                61.21                            87.43   \n",
              "1086                64.58                            86.81   \n",
              "1087                64.93                            86.41   \n",
              "1088                61.67                            85.93   \n",
              "\n",
              "      smoothed 60-day variation (mm)  \\\n",
              "1084                           59.25   \n",
              "1085                           59.98   \n",
              "1086                           60.46   \n",
              "1087                           60.77   \n",
              "1088                           60.96   \n",
              "\n",
              "      smoothed (mm) annual and semi-annual signal removed  \n",
              "1084                                              62.70    \n",
              "1085                                              62.84    \n",
              "1086                                              62.53    \n",
              "1087                                              61.88    \n",
              "1088                                              61.00    "
            ],
            "text/html": [
              "\n",
              "  <div id=\"df-0e119d8f-56ac-40d2-ad4d-d09468affbf5\">\n",
              "    <div class=\"colab-df-container\">\n",
              "      <div>\n",
              "<style scoped>\n",
              "    .dataframe tbody tr th:only-of-type {\n",
              "        vertical-align: middle;\n",
              "    }\n",
              "\n",
              "    .dataframe tbody tr th {\n",
              "        vertical-align: top;\n",
              "    }\n",
              "\n",
              "    .dataframe thead th {\n",
              "        text-align: right;\n",
              "    }\n",
              "</style>\n",
              "<table border=\"1\" class=\"dataframe\">\n",
              "  <thead>\n",
              "    <tr style=\"text-align: right;\">\n",
              "      <th></th>\n",
              "      <th>altimeter type</th>\n",
              "      <th>merged file cycle</th>\n",
              "      <th>year</th>\n",
              "      <th>number of observations</th>\n",
              "      <th>number of weighted observations</th>\n",
              "      <th>GMSL variation no GIA (mm)</th>\n",
              "      <th>standard no GIA deviation of GMSL (mm)</th>\n",
              "      <th>smoothed GMSL (mm)</th>\n",
              "      <th>GMSL variation (mm)</th>\n",
              "      <th>standard deviation of GMSL (mm)</th>\n",
              "      <th>smoothed 60-day variation (mm)</th>\n",
              "      <th>smoothed (mm) annual and semi-annual signal removed</th>\n",
              "    </tr>\n",
              "  </thead>\n",
              "  <tbody>\n",
              "    <tr>\n",
              "      <th>1084</th>\n",
              "      <td>0</td>\n",
              "      <td>1096</td>\n",
              "      <td>2022.467623</td>\n",
              "      <td>462288</td>\n",
              "      <td>334304.59</td>\n",
              "      <td>48.93</td>\n",
              "      <td>86.03</td>\n",
              "      <td>52.06</td>\n",
              "      <td>56.12</td>\n",
              "      <td>86.07</td>\n",
              "      <td>59.25</td>\n",
              "      <td>62.70</td>\n",
              "    </tr>\n",
              "    <tr>\n",
              "      <th>1085</th>\n",
              "      <td>0</td>\n",
              "      <td>1097</td>\n",
              "      <td>2022.494789</td>\n",
              "      <td>460618</td>\n",
              "      <td>335014.81</td>\n",
              "      <td>54.04</td>\n",
              "      <td>87.20</td>\n",
              "      <td>52.78</td>\n",
              "      <td>61.21</td>\n",
              "      <td>87.43</td>\n",
              "      <td>59.98</td>\n",
              "      <td>62.84</td>\n",
              "    </tr>\n",
              "    <tr>\n",
              "      <th>1086</th>\n",
              "      <td>0</td>\n",
              "      <td>1098</td>\n",
              "      <td>2022.521956</td>\n",
              "      <td>458096</td>\n",
              "      <td>334752.69</td>\n",
              "      <td>57.35</td>\n",
              "      <td>86.67</td>\n",
              "      <td>53.26</td>\n",
              "      <td>64.58</td>\n",
              "      <td>86.81</td>\n",
              "      <td>60.46</td>\n",
              "      <td>62.53</td>\n",
              "    </tr>\n",
              "    <tr>\n",
              "      <th>1087</th>\n",
              "      <td>0</td>\n",
              "      <td>1099</td>\n",
              "      <td>2022.549122</td>\n",
              "      <td>457505</td>\n",
              "      <td>334376.81</td>\n",
              "      <td>57.75</td>\n",
              "      <td>86.06</td>\n",
              "      <td>53.57</td>\n",
              "      <td>64.93</td>\n",
              "      <td>86.41</td>\n",
              "      <td>60.77</td>\n",
              "      <td>61.88</td>\n",
              "    </tr>\n",
              "    <tr>\n",
              "      <th>1088</th>\n",
              "      <td>0</td>\n",
              "      <td>1100</td>\n",
              "      <td>2022.576288</td>\n",
              "      <td>457679</td>\n",
              "      <td>336350.31</td>\n",
              "      <td>54.41</td>\n",
              "      <td>85.62</td>\n",
              "      <td>53.76</td>\n",
              "      <td>61.67</td>\n",
              "      <td>85.93</td>\n",
              "      <td>60.96</td>\n",
              "      <td>61.00</td>\n",
              "    </tr>\n",
              "  </tbody>\n",
              "</table>\n",
              "</div>\n",
              "      <button class=\"colab-df-convert\" onclick=\"convertToInteractive('df-0e119d8f-56ac-40d2-ad4d-d09468affbf5')\"\n",
              "              title=\"Convert this dataframe to an interactive table.\"\n",
              "              style=\"display:none;\">\n",
              "        \n",
              "  <svg xmlns=\"http://www.w3.org/2000/svg\" height=\"24px\"viewBox=\"0 0 24 24\"\n",
              "       width=\"24px\">\n",
              "    <path d=\"M0 0h24v24H0V0z\" fill=\"none\"/>\n",
              "    <path d=\"M18.56 5.44l.94 2.06.94-2.06 2.06-.94-2.06-.94-.94-2.06-.94 2.06-2.06.94zm-11 1L8.5 8.5l.94-2.06 2.06-.94-2.06-.94L8.5 2.5l-.94 2.06-2.06.94zm10 10l.94 2.06.94-2.06 2.06-.94-2.06-.94-.94-2.06-.94 2.06-2.06.94z\"/><path d=\"M17.41 7.96l-1.37-1.37c-.4-.4-.92-.59-1.43-.59-.52 0-1.04.2-1.43.59L10.3 9.45l-7.72 7.72c-.78.78-.78 2.05 0 2.83L4 21.41c.39.39.9.59 1.41.59.51 0 1.02-.2 1.41-.59l7.78-7.78 2.81-2.81c.8-.78.8-2.07 0-2.86zM5.41 20L4 18.59l7.72-7.72 1.47 1.35L5.41 20z\"/>\n",
              "  </svg>\n",
              "      </button>\n",
              "      \n",
              "  <style>\n",
              "    .colab-df-container {\n",
              "      display:flex;\n",
              "      flex-wrap:wrap;\n",
              "      gap: 12px;\n",
              "    }\n",
              "\n",
              "    .colab-df-convert {\n",
              "      background-color: #E8F0FE;\n",
              "      border: none;\n",
              "      border-radius: 50%;\n",
              "      cursor: pointer;\n",
              "      display: none;\n",
              "      fill: #1967D2;\n",
              "      height: 32px;\n",
              "      padding: 0 0 0 0;\n",
              "      width: 32px;\n",
              "    }\n",
              "\n",
              "    .colab-df-convert:hover {\n",
              "      background-color: #E2EBFA;\n",
              "      box-shadow: 0px 1px 2px rgba(60, 64, 67, 0.3), 0px 1px 3px 1px rgba(60, 64, 67, 0.15);\n",
              "      fill: #174EA6;\n",
              "    }\n",
              "\n",
              "    [theme=dark] .colab-df-convert {\n",
              "      background-color: #3B4455;\n",
              "      fill: #D2E3FC;\n",
              "    }\n",
              "\n",
              "    [theme=dark] .colab-df-convert:hover {\n",
              "      background-color: #434B5C;\n",
              "      box-shadow: 0px 1px 3px 1px rgba(0, 0, 0, 0.15);\n",
              "      filter: drop-shadow(0px 1px 2px rgba(0, 0, 0, 0.3));\n",
              "      fill: #FFFFFF;\n",
              "    }\n",
              "  </style>\n",
              "\n",
              "      <script>\n",
              "        const buttonEl =\n",
              "          document.querySelector('#df-0e119d8f-56ac-40d2-ad4d-d09468affbf5 button.colab-df-convert');\n",
              "        buttonEl.style.display =\n",
              "          google.colab.kernel.accessAllowed ? 'block' : 'none';\n",
              "\n",
              "        async function convertToInteractive(key) {\n",
              "          const element = document.querySelector('#df-0e119d8f-56ac-40d2-ad4d-d09468affbf5');\n",
              "          const dataTable =\n",
              "            await google.colab.kernel.invokeFunction('convertToInteractive',\n",
              "                                                     [key], {});\n",
              "          if (!dataTable) return;\n",
              "\n",
              "          const docLinkHtml = 'Like what you see? Visit the ' +\n",
              "            '<a target=\"_blank\" href=https://colab.research.google.com/notebooks/data_table.ipynb>data table notebook</a>'\n",
              "            + ' to learn more about interactive tables.';\n",
              "          element.innerHTML = '';\n",
              "          dataTable['output_type'] = 'display_data';\n",
              "          await google.colab.output.renderOutput(dataTable, element);\n",
              "          const docLink = document.createElement('div');\n",
              "          docLink.innerHTML = docLinkHtml;\n",
              "          element.appendChild(docLink);\n",
              "        }\n",
              "      </script>\n",
              "    </div>\n",
              "  </div>\n",
              "  "
            ]
          },
          "metadata": {},
          "execution_count": 172
        }
      ]
    },
    {
      "cell_type": "markdown",
      "source": [
        "## Task 3 (6 points)\n",
        "How many columns and rows are in the dataframe (2 points), what are the data types (2 points), are there missing value (2 points)? \n",
        "\n",
        "*HINT: remember to wrap your answers in print statements, not just throw around outputs of code*"
      ],
      "metadata": {
        "id": "1IkvqVCREpOU"
      }
    },
    {
      "cell_type": "code",
      "source": [
        "#replace \"...\" with your code (you may need more than one cell of code to answer this question)\n",
        "searise.shape"
      ],
      "metadata": {
        "id": "3Gli5lav8mv1",
        "colab": {
          "base_uri": "https://localhost:8080/"
        },
        "outputId": "94465cc8-b7ce-4306-b5ea-decf9c6a1ee9"
      },
      "execution_count": null,
      "outputs": [
        {
          "output_type": "execute_result",
          "data": {
            "text/plain": [
              "(1089, 12)"
            ]
          },
          "metadata": {},
          "execution_count": 173
        }
      ]
    },
    {
      "cell_type": "code",
      "source": [
        "print(\"The searise dataframe has dimensions \" + format(searise.shape ))"
      ],
      "metadata": {
        "colab": {
          "base_uri": "https://localhost:8080/"
        },
        "id": "Afak_jwfuNsW",
        "outputId": "4de88126-0212-446b-8a30-04ede76d5e64"
      },
      "execution_count": null,
      "outputs": [
        {
          "output_type": "stream",
          "name": "stdout",
          "text": [
            "The searise dataframe has dimensions (1089, 12)\n"
          ]
        }
      ]
    },
    {
      "cell_type": "code",
      "source": [
        "print(\"The searise dataframe has \" + format(searise.shape[0] ) + \" rows\")"
      ],
      "metadata": {
        "colab": {
          "base_uri": "https://localhost:8080/"
        },
        "id": "wkvRaAC9ud-l",
        "outputId": "901b8107-f924-4c37-c105-7db070564c47"
      },
      "execution_count": null,
      "outputs": [
        {
          "output_type": "stream",
          "name": "stdout",
          "text": [
            "The searise dataframe has 1089 rows\n"
          ]
        }
      ]
    },
    {
      "cell_type": "code",
      "source": [
        "print(\"The searise dataframe has \" + format(searise.shape[1] ) + \" columns\")"
      ],
      "metadata": {
        "colab": {
          "base_uri": "https://localhost:8080/"
        },
        "id": "D3UiYRcOvDz8",
        "outputId": "3bda4d9c-f319-45e2-c0c5-1e06fe47db0b"
      },
      "execution_count": null,
      "outputs": [
        {
          "output_type": "stream",
          "name": "stdout",
          "text": [
            "The searise dataframe has 12 columns\n"
          ]
        }
      ]
    },
    {
      "cell_type": "code",
      "source": [
        "searise.dtypes\n"
      ],
      "metadata": {
        "colab": {
          "base_uri": "https://localhost:8080/"
        },
        "id": "I409lg-tvNRm",
        "outputId": "1b44e3f7-c32d-44b1-927d-49343fdbf3c1"
      },
      "execution_count": null,
      "outputs": [
        {
          "output_type": "execute_result",
          "data": {
            "text/plain": [
              "altimeter type                                           int64\n",
              "merged file cycle                                        int64\n",
              "year                                                   float64\n",
              "number of observations                                   int64\n",
              "number of weighted observations                        float64\n",
              "GMSL variation no GIA (mm)                             float64\n",
              "standard no GIA deviation of GMSL (mm)                 float64\n",
              "smoothed GMSL (mm)                                     float64\n",
              "GMSL variation (mm)                                    float64\n",
              "standard deviation of GMSL (mm)                        float64\n",
              "smoothed 60-day variation (mm)                         float64\n",
              "smoothed (mm) annual and semi-annual signal removed    float64\n",
              "dtype: object"
            ]
          },
          "metadata": {},
          "execution_count": 177
        }
      ]
    },
    {
      "cell_type": "code",
      "source": [
        "print(\"The code above shows the data type of each column in the searise dataframe.\")"
      ],
      "metadata": {
        "colab": {
          "base_uri": "https://localhost:8080/"
        },
        "id": "fcIGWezVvhds",
        "outputId": "5e40a415-795c-4a6e-f9e2-0ebc8dbf0b28"
      },
      "execution_count": null,
      "outputs": [
        {
          "output_type": "stream",
          "name": "stdout",
          "text": [
            "The code above shows the data type of each column in the searise dataframe.\n"
          ]
        }
      ]
    },
    {
      "cell_type": "code",
      "source": [
        "searise.isnull().sum(axis=0)"
      ],
      "metadata": {
        "colab": {
          "base_uri": "https://localhost:8080/"
        },
        "id": "xvbD-sQYv2nT",
        "outputId": "801841b6-ea95-4b93-8a10-d3e2aa536766"
      },
      "execution_count": null,
      "outputs": [
        {
          "output_type": "execute_result",
          "data": {
            "text/plain": [
              "altimeter type                                         0\n",
              "merged file cycle                                      0\n",
              "year                                                   0\n",
              "number of observations                                 0\n",
              "number of weighted observations                        0\n",
              "GMSL variation no GIA (mm)                             0\n",
              "standard no GIA deviation of GMSL (mm)                 0\n",
              "smoothed GMSL (mm)                                     0\n",
              "GMSL variation (mm)                                    0\n",
              "standard deviation of GMSL (mm)                        0\n",
              "smoothed 60-day variation (mm)                         0\n",
              "smoothed (mm) annual and semi-annual signal removed    0\n",
              "dtype: int64"
            ]
          },
          "metadata": {},
          "execution_count": 179
        }
      ]
    },
    {
      "cell_type": "code",
      "source": [
        "print(\"There are no missing values in the daframe.\")"
      ],
      "metadata": {
        "colab": {
          "base_uri": "https://localhost:8080/"
        },
        "id": "evoF9RKNwEpr",
        "outputId": "414f0285-2dd3-4177-97bd-06ec8db97e67"
      },
      "execution_count": null,
      "outputs": [
        {
          "output_type": "stream",
          "name": "stdout",
          "text": [
            "There are no missing values in the daframe.\n"
          ]
        }
      ]
    },
    {
      "cell_type": "markdown",
      "source": [
        "## Task 4 (9 points)\n",
        "What is the year range over which data is available? print the first year and final year, ignoring the fraction of year (4 points)\n",
        "\n",
        "What is the total water rise _in inches_ over the time span of the data? Use the \"smoothed GMSL (mm)\"   column (5 points)\n",
        "\n",
        "*Hint: `smoothed GMSL (mm)` is measured in mm, and you can google up how many mm are in 1 inch*"
      ],
      "metadata": {
        "id": "e02CpB-sAfmt"
      }
    },
    {
      "cell_type": "code",
      "source": [
        "#replace \"...\" with your code\n",
        "firstyear = int(searise[\"year\"].values[0])\n",
        "lastyear = int(searise[\"year\"].values[1088])\n",
        "print(\"The year range of the data available from\", firstyear, \"to\" ,lastyear )"
      ],
      "metadata": {
        "id": "9x1EaKgmAkSB",
        "colab": {
          "base_uri": "https://localhost:8080/"
        },
        "outputId": "f7690160-5716-435d-c6d9-299a0c4054b9"
      },
      "execution_count": null,
      "outputs": [
        {
          "output_type": "stream",
          "name": "stdout",
          "text": [
            "The year range of the data available from 1993 to 2022\n"
          ]
        }
      ]
    },
    {
      "cell_type": "code",
      "source": [
        "range = lastyear - firstyear\n",
        "range"
      ],
      "metadata": {
        "colab": {
          "base_uri": "https://localhost:8080/"
        },
        "id": "lykkd_F2Ppol",
        "outputId": "680184c5-ecff-4620-88dd-999d2b0e95c4"
      },
      "execution_count": null,
      "outputs": [
        {
          "output_type": "execute_result",
          "data": {
            "text/plain": [
              "29"
            ]
          },
          "metadata": {},
          "execution_count": 182
        }
      ]
    },
    {
      "cell_type": "code",
      "source": [
        "#replace \"...\" with your code\n",
        "#ssgml = sum of smoothed SMSL\n",
        "#range = range of the years in the dataframe\n",
        "ssggml = searise[\"smoothed GMSL (mm)\"].sum()\n",
        "ssggml * range"
      ],
      "metadata": {
        "id": "QT-ImVB8GmGs",
        "colab": {
          "base_uri": "https://localhost:8080/"
        },
        "outputId": "d009d3fd-c218-4f35-add3-e48172697c26"
      },
      "execution_count": null,
      "outputs": [
        {
          "output_type": "execute_result",
          "data": {
            "text/plain": [
              "207955.81"
            ]
          },
          "metadata": {},
          "execution_count": 183
        }
      ]
    },
    {
      "cell_type": "markdown",
      "source": [
        "This is the total rise in inches over the span of the dataframe."
      ],
      "metadata": {
        "id": "-G_2U-XxNMw3"
      }
    },
    {
      "cell_type": "markdown",
      "source": [
        "##Task 5 (5 points)\n",
        "\n",
        "The column \"number of observations\" records the number of observations that went into every measurement (every row). What is the total number of observations used? (5 points)"
      ],
      "metadata": {
        "id": "rXr4FY3yA6xI"
      }
    },
    {
      "cell_type": "code",
      "source": [
        "#replace \"...\" with your code\n",
        "#noos = sum of the number of observations.\n",
        "noos = searise[\"number of observations\"].sum()\n",
        "print(\"The total number of observations is\" , noos)"
      ],
      "metadata": {
        "id": "OXMCjXGgAzEQ",
        "colab": {
          "base_uri": "https://localhost:8080/"
        },
        "outputId": "000b81e2-9d7b-4896-dbc7-2648666eb3b1"
      },
      "execution_count": null,
      "outputs": [
        {
          "output_type": "stream",
          "name": "stdout",
          "text": [
            "The total number of observations is 488912156\n"
          ]
        }
      ]
    },
    {
      "cell_type": "markdown",
      "source": [
        "##Task 6 (15 points)\n",
        "What columns are correlated above 75% (have a higher Pearson's correlation coefficient than 0.75) with `smoothed GMSL (mm)`\n",
        "\n",
        "1.   measure the correlation of all columns with each other (we did it with the movies dataset, videos, etc....) (5 points)\n",
        "2.   plot the correlation matrix (we did it in the same notebooks) (5 points)\n",
        "3.   list the column names for each column that has a higher correlation than 0.75 with `smoothed GMSL (mm)`  (5 points)\n",
        "\n",
        "*HINTS:*\n",
        "1. your plot should \n",
        "- have tick labels corrsponding to the name columns (you may want to look at the rotation=90 or rot=90 arguments in the xticks or xtick_labels and yticks or ytick_labels calls)\n",
        "- show a colorbar displaying the meaning of each color\n",
        "- use a divergent color map, e.g. \"Spectral\"\n",
        "- the limits of the colors should be the min and max mossible values of Pearson's correlation: (-1, 1) (look at the `clim()` argument)\n",
        "- Figures without captions do not get points. Make sure you write a caption (as a text cell) for each plot describing what the plot shows and anything that you think is noticeable about it\n",
        "\n",
        "2. you can do this by selecting the row corresponding to the `smoothed GMSL` for example using the `.loc[]` method of the dataframe. If you call that dataframe row (for example) `smoothedGMSL`, then you can select the column by a condition `df.smoothedGMSL > 0.75` \n",
        "\n",
        "\n"
      ],
      "metadata": {
        "id": "qBJNJIwDCfMf"
      }
    },
    {
      "cell_type": "code",
      "source": [
        "searise[[\"altimeter type\", \"merged file cycle \", \"year\", \"number of observations\",\n",
        "       \"number of weighted observations\", \"GMSL variation no GIA (mm)\",\n",
        "       \"standard no GIA deviation of GMSL (mm)\", \"smoothed GMSL (mm)\", \n",
        "       \"GMSL variation (mm)\", \"standard deviation of GMSL (mm)\", \n",
        "       \"smoothed 60-day variation (mm)\",\n",
        "       \"smoothed (mm) annual and semi-annual signal removed\"]].corr()\n"
      ],
      "metadata": {
        "colab": {
          "base_uri": "https://localhost:8080/",
          "height": 834
        },
        "id": "OGE-mErs87S0",
        "outputId": "de449b12-543d-4ffa-ba61-edeb5bbccb24"
      },
      "execution_count": null,
      "outputs": [
        {
          "output_type": "execute_result",
          "data": {
            "text/plain": [
              "                                                    altimeter type  \\\n",
              "altimeter type                                            1.000000   \n",
              "merged file cycle                                        -0.208838   \n",
              "year                                                     -0.208838   \n",
              "number of observations                                   -0.255563   \n",
              "number of weighted observations                          -0.241595   \n",
              "GMSL variation no GIA (mm)                               -0.205996   \n",
              "standard no GIA deviation of GMSL (mm)                    0.209119   \n",
              "smoothed GMSL (mm)                                       -0.196032   \n",
              "GMSL variation (mm)                                      -0.206371   \n",
              "standard deviation of GMSL (mm)                           0.206120   \n",
              "smoothed 60-day variation (mm)                           -0.197177   \n",
              "smoothed (mm) annual and semi-annual signal rem...       -0.198688   \n",
              "\n",
              "                                                    merged file cycle   \\\n",
              "altimeter type                                               -0.208838   \n",
              "merged file cycle                                             1.000000   \n",
              "year                                                          1.000000   \n",
              "number of observations                                        0.115811   \n",
              "number of weighted observations                               0.124768   \n",
              "GMSL variation no GIA (mm)                                    0.979012   \n",
              "standard no GIA deviation of GMSL (mm)                       -0.059567   \n",
              "smoothed GMSL (mm)                                            0.982479   \n",
              "GMSL variation (mm)                                           0.981844   \n",
              "standard deviation of GMSL (mm)                              -0.049164   \n",
              "smoothed 60-day variation (mm)                                0.984856   \n",
              "smoothed (mm) annual and semi-annual signal rem...            0.990111   \n",
              "\n",
              "                                                        year  \\\n",
              "altimeter type                                     -0.208838   \n",
              "merged file cycle                                   1.000000   \n",
              "year                                                1.000000   \n",
              "number of observations                              0.115808   \n",
              "number of weighted observations                     0.124765   \n",
              "GMSL variation no GIA (mm)                          0.979011   \n",
              "standard no GIA deviation of GMSL (mm)             -0.059559   \n",
              "smoothed GMSL (mm)                                  0.982479   \n",
              "GMSL variation (mm)                                 0.981843   \n",
              "standard deviation of GMSL (mm)                    -0.049156   \n",
              "smoothed 60-day variation (mm)                      0.984855   \n",
              "smoothed (mm) annual and semi-annual signal rem...  0.990110   \n",
              "\n",
              "                                                    number of observations  \\\n",
              "altimeter type                                                   -0.255563   \n",
              "merged file cycle                                                 0.115811   \n",
              "year                                                              0.115808   \n",
              "number of observations                                            1.000000   \n",
              "number of weighted observations                                   0.990815   \n",
              "GMSL variation no GIA (mm)                                        0.101228   \n",
              "standard no GIA deviation of GMSL (mm)                           -0.079837   \n",
              "smoothed GMSL (mm)                                                0.092191   \n",
              "GMSL variation (mm)                                               0.102055   \n",
              "standard deviation of GMSL (mm)                                  -0.081481   \n",
              "smoothed 60-day variation (mm)                                    0.093925   \n",
              "smoothed (mm) annual and semi-annual signal rem...                0.110930   \n",
              "\n",
              "                                                    number of weighted observations  \\\n",
              "altimeter type                                                            -0.241595   \n",
              "merged file cycle                                                          0.124768   \n",
              "year                                                                       0.124765   \n",
              "number of observations                                                     0.990815   \n",
              "number of weighted observations                                            1.000000   \n",
              "GMSL variation no GIA (mm)                                                 0.120233   \n",
              "standard no GIA deviation of GMSL (mm)                                    -0.067049   \n",
              "smoothed GMSL (mm)                                                         0.110352   \n",
              "GMSL variation (mm)                                                        0.120398   \n",
              "standard deviation of GMSL (mm)                                           -0.065422   \n",
              "smoothed 60-day variation (mm)                                             0.111476   \n",
              "smoothed (mm) annual and semi-annual signal rem...                         0.118179   \n",
              "\n",
              "                                                    GMSL variation no GIA (mm)  \\\n",
              "altimeter type                                                       -0.205996   \n",
              "merged file cycle                                                     0.979012   \n",
              "year                                                                  0.979011   \n",
              "number of observations                                                0.101228   \n",
              "number of weighted observations                                       0.120233   \n",
              "GMSL variation no GIA (mm)                                            1.000000   \n",
              "standard no GIA deviation of GMSL (mm)                                0.014801   \n",
              "smoothed GMSL (mm)                                                    0.997839   \n",
              "GMSL variation (mm)                                                   0.999896   \n",
              "standard deviation of GMSL (mm)                                       0.028592   \n",
              "smoothed 60-day variation (mm)                                        0.997658   \n",
              "smoothed (mm) annual and semi-annual signal rem...                    0.990525   \n",
              "\n",
              "                                                    standard no GIA deviation of GMSL (mm)  \\\n",
              "altimeter type                                                                    0.209119   \n",
              "merged file cycle                                                                -0.059567   \n",
              "year                                                                             -0.059559   \n",
              "number of observations                                                           -0.079837   \n",
              "number of weighted observations                                                  -0.067049   \n",
              "GMSL variation no GIA (mm)                                                        0.014801   \n",
              "standard no GIA deviation of GMSL (mm)                                            1.000000   \n",
              "smoothed GMSL (mm)                                                                0.010004   \n",
              "GMSL variation (mm)                                                               0.009547   \n",
              "standard deviation of GMSL (mm)                                                   0.999264   \n",
              "smoothed 60-day variation (mm)                                                    0.005065   \n",
              "smoothed (mm) annual and semi-annual signal rem...                               -0.020512   \n",
              "\n",
              "                                                    smoothed GMSL (mm)  \\\n",
              "altimeter type                                               -0.196032   \n",
              "merged file cycle                                             0.982479   \n",
              "year                                                          0.982479   \n",
              "number of observations                                        0.092191   \n",
              "number of weighted observations                               0.110352   \n",
              "GMSL variation no GIA (mm)                                    0.997839   \n",
              "standard no GIA deviation of GMSL (mm)                        0.010004   \n",
              "smoothed GMSL (mm)                                            1.000000   \n",
              "GMSL variation (mm)                                           0.998140   \n",
              "standard deviation of GMSL (mm)                               0.023752   \n",
              "smoothed 60-day variation (mm)                                0.999913   \n",
              "smoothed (mm) annual and semi-annual signal rem...            0.993694   \n",
              "\n",
              "                                                    GMSL variation (mm)  \\\n",
              "altimeter type                                                -0.206371   \n",
              "merged file cycle                                              0.981844   \n",
              "year                                                           0.981843   \n",
              "number of observations                                         0.102055   \n",
              "number of weighted observations                                0.120398   \n",
              "GMSL variation no GIA (mm)                                     0.999896   \n",
              "standard no GIA deviation of GMSL (mm)                         0.009547   \n",
              "smoothed GMSL (mm)                                             0.998140   \n",
              "GMSL variation (mm)                                            1.000000   \n",
              "standard deviation of GMSL (mm)                                0.023121   \n",
              "smoothed 60-day variation (mm)                                 0.998139   \n",
              "smoothed (mm) annual and semi-annual signal rem...             0.991863   \n",
              "\n",
              "                                                    standard deviation of GMSL (mm)  \\\n",
              "altimeter type                                                             0.206120   \n",
              "merged file cycle                                                         -0.049164   \n",
              "year                                                                      -0.049156   \n",
              "number of observations                                                    -0.081481   \n",
              "number of weighted observations                                           -0.065422   \n",
              "GMSL variation no GIA (mm)                                                 0.028592   \n",
              "standard no GIA deviation of GMSL (mm)                                     0.999264   \n",
              "smoothed GMSL (mm)                                                         0.023752   \n",
              "GMSL variation (mm)                                                        0.023121   \n",
              "standard deviation of GMSL (mm)                                            1.000000   \n",
              "smoothed 60-day variation (mm)                                             0.018595   \n",
              "smoothed (mm) annual and semi-annual signal rem...                        -0.009340   \n",
              "\n",
              "                                                    smoothed 60-day variation (mm)  \\\n",
              "altimeter type                                                           -0.197177   \n",
              "merged file cycle                                                         0.984856   \n",
              "year                                                                      0.984855   \n",
              "number of observations                                                    0.093925   \n",
              "number of weighted observations                                           0.111476   \n",
              "GMSL variation no GIA (mm)                                                0.997658   \n",
              "standard no GIA deviation of GMSL (mm)                                    0.005065   \n",
              "smoothed GMSL (mm)                                                        0.999913   \n",
              "GMSL variation (mm)                                                       0.998139   \n",
              "standard deviation of GMSL (mm)                                           0.018595   \n",
              "smoothed 60-day variation (mm)                                            1.000000   \n",
              "smoothed (mm) annual and semi-annual signal rem...                        0.994584   \n",
              "\n",
              "                                                    smoothed (mm) annual and semi-annual signal removed  \n",
              "altimeter type                                                                              -0.198688    \n",
              "merged file cycle                                                                            0.990111    \n",
              "year                                                                                         0.990110    \n",
              "number of observations                                                                       0.110930    \n",
              "number of weighted observations                                                              0.118179    \n",
              "GMSL variation no GIA (mm)                                                                   0.990525    \n",
              "standard no GIA deviation of GMSL (mm)                                                      -0.020512    \n",
              "smoothed GMSL (mm)                                                                           0.993694    \n",
              "GMSL variation (mm)                                                                          0.991863    \n",
              "standard deviation of GMSL (mm)                                                             -0.009340    \n",
              "smoothed 60-day variation (mm)                                                               0.994584    \n",
              "smoothed (mm) annual and semi-annual signal rem...                                           1.000000    "
            ],
            "text/html": [
              "\n",
              "  <div id=\"df-093588ec-d147-4e3e-81be-329d3673a1fc\">\n",
              "    <div class=\"colab-df-container\">\n",
              "      <div>\n",
              "<style scoped>\n",
              "    .dataframe tbody tr th:only-of-type {\n",
              "        vertical-align: middle;\n",
              "    }\n",
              "\n",
              "    .dataframe tbody tr th {\n",
              "        vertical-align: top;\n",
              "    }\n",
              "\n",
              "    .dataframe thead th {\n",
              "        text-align: right;\n",
              "    }\n",
              "</style>\n",
              "<table border=\"1\" class=\"dataframe\">\n",
              "  <thead>\n",
              "    <tr style=\"text-align: right;\">\n",
              "      <th></th>\n",
              "      <th>altimeter type</th>\n",
              "      <th>merged file cycle</th>\n",
              "      <th>year</th>\n",
              "      <th>number of observations</th>\n",
              "      <th>number of weighted observations</th>\n",
              "      <th>GMSL variation no GIA (mm)</th>\n",
              "      <th>standard no GIA deviation of GMSL (mm)</th>\n",
              "      <th>smoothed GMSL (mm)</th>\n",
              "      <th>GMSL variation (mm)</th>\n",
              "      <th>standard deviation of GMSL (mm)</th>\n",
              "      <th>smoothed 60-day variation (mm)</th>\n",
              "      <th>smoothed (mm) annual and semi-annual signal removed</th>\n",
              "    </tr>\n",
              "  </thead>\n",
              "  <tbody>\n",
              "    <tr>\n",
              "      <th>altimeter type</th>\n",
              "      <td>1.000000</td>\n",
              "      <td>-0.208838</td>\n",
              "      <td>-0.208838</td>\n",
              "      <td>-0.255563</td>\n",
              "      <td>-0.241595</td>\n",
              "      <td>-0.205996</td>\n",
              "      <td>0.209119</td>\n",
              "      <td>-0.196032</td>\n",
              "      <td>-0.206371</td>\n",
              "      <td>0.206120</td>\n",
              "      <td>-0.197177</td>\n",
              "      <td>-0.198688</td>\n",
              "    </tr>\n",
              "    <tr>\n",
              "      <th>merged file cycle</th>\n",
              "      <td>-0.208838</td>\n",
              "      <td>1.000000</td>\n",
              "      <td>1.000000</td>\n",
              "      <td>0.115811</td>\n",
              "      <td>0.124768</td>\n",
              "      <td>0.979012</td>\n",
              "      <td>-0.059567</td>\n",
              "      <td>0.982479</td>\n",
              "      <td>0.981844</td>\n",
              "      <td>-0.049164</td>\n",
              "      <td>0.984856</td>\n",
              "      <td>0.990111</td>\n",
              "    </tr>\n",
              "    <tr>\n",
              "      <th>year</th>\n",
              "      <td>-0.208838</td>\n",
              "      <td>1.000000</td>\n",
              "      <td>1.000000</td>\n",
              "      <td>0.115808</td>\n",
              "      <td>0.124765</td>\n",
              "      <td>0.979011</td>\n",
              "      <td>-0.059559</td>\n",
              "      <td>0.982479</td>\n",
              "      <td>0.981843</td>\n",
              "      <td>-0.049156</td>\n",
              "      <td>0.984855</td>\n",
              "      <td>0.990110</td>\n",
              "    </tr>\n",
              "    <tr>\n",
              "      <th>number of observations</th>\n",
              "      <td>-0.255563</td>\n",
              "      <td>0.115811</td>\n",
              "      <td>0.115808</td>\n",
              "      <td>1.000000</td>\n",
              "      <td>0.990815</td>\n",
              "      <td>0.101228</td>\n",
              "      <td>-0.079837</td>\n",
              "      <td>0.092191</td>\n",
              "      <td>0.102055</td>\n",
              "      <td>-0.081481</td>\n",
              "      <td>0.093925</td>\n",
              "      <td>0.110930</td>\n",
              "    </tr>\n",
              "    <tr>\n",
              "      <th>number of weighted observations</th>\n",
              "      <td>-0.241595</td>\n",
              "      <td>0.124768</td>\n",
              "      <td>0.124765</td>\n",
              "      <td>0.990815</td>\n",
              "      <td>1.000000</td>\n",
              "      <td>0.120233</td>\n",
              "      <td>-0.067049</td>\n",
              "      <td>0.110352</td>\n",
              "      <td>0.120398</td>\n",
              "      <td>-0.065422</td>\n",
              "      <td>0.111476</td>\n",
              "      <td>0.118179</td>\n",
              "    </tr>\n",
              "    <tr>\n",
              "      <th>GMSL variation no GIA (mm)</th>\n",
              "      <td>-0.205996</td>\n",
              "      <td>0.979012</td>\n",
              "      <td>0.979011</td>\n",
              "      <td>0.101228</td>\n",
              "      <td>0.120233</td>\n",
              "      <td>1.000000</td>\n",
              "      <td>0.014801</td>\n",
              "      <td>0.997839</td>\n",
              "      <td>0.999896</td>\n",
              "      <td>0.028592</td>\n",
              "      <td>0.997658</td>\n",
              "      <td>0.990525</td>\n",
              "    </tr>\n",
              "    <tr>\n",
              "      <th>standard no GIA deviation of GMSL (mm)</th>\n",
              "      <td>0.209119</td>\n",
              "      <td>-0.059567</td>\n",
              "      <td>-0.059559</td>\n",
              "      <td>-0.079837</td>\n",
              "      <td>-0.067049</td>\n",
              "      <td>0.014801</td>\n",
              "      <td>1.000000</td>\n",
              "      <td>0.010004</td>\n",
              "      <td>0.009547</td>\n",
              "      <td>0.999264</td>\n",
              "      <td>0.005065</td>\n",
              "      <td>-0.020512</td>\n",
              "    </tr>\n",
              "    <tr>\n",
              "      <th>smoothed GMSL (mm)</th>\n",
              "      <td>-0.196032</td>\n",
              "      <td>0.982479</td>\n",
              "      <td>0.982479</td>\n",
              "      <td>0.092191</td>\n",
              "      <td>0.110352</td>\n",
              "      <td>0.997839</td>\n",
              "      <td>0.010004</td>\n",
              "      <td>1.000000</td>\n",
              "      <td>0.998140</td>\n",
              "      <td>0.023752</td>\n",
              "      <td>0.999913</td>\n",
              "      <td>0.993694</td>\n",
              "    </tr>\n",
              "    <tr>\n",
              "      <th>GMSL variation (mm)</th>\n",
              "      <td>-0.206371</td>\n",
              "      <td>0.981844</td>\n",
              "      <td>0.981843</td>\n",
              "      <td>0.102055</td>\n",
              "      <td>0.120398</td>\n",
              "      <td>0.999896</td>\n",
              "      <td>0.009547</td>\n",
              "      <td>0.998140</td>\n",
              "      <td>1.000000</td>\n",
              "      <td>0.023121</td>\n",
              "      <td>0.998139</td>\n",
              "      <td>0.991863</td>\n",
              "    </tr>\n",
              "    <tr>\n",
              "      <th>standard deviation of GMSL (mm)</th>\n",
              "      <td>0.206120</td>\n",
              "      <td>-0.049164</td>\n",
              "      <td>-0.049156</td>\n",
              "      <td>-0.081481</td>\n",
              "      <td>-0.065422</td>\n",
              "      <td>0.028592</td>\n",
              "      <td>0.999264</td>\n",
              "      <td>0.023752</td>\n",
              "      <td>0.023121</td>\n",
              "      <td>1.000000</td>\n",
              "      <td>0.018595</td>\n",
              "      <td>-0.009340</td>\n",
              "    </tr>\n",
              "    <tr>\n",
              "      <th>smoothed 60-day variation (mm)</th>\n",
              "      <td>-0.197177</td>\n",
              "      <td>0.984856</td>\n",
              "      <td>0.984855</td>\n",
              "      <td>0.093925</td>\n",
              "      <td>0.111476</td>\n",
              "      <td>0.997658</td>\n",
              "      <td>0.005065</td>\n",
              "      <td>0.999913</td>\n",
              "      <td>0.998139</td>\n",
              "      <td>0.018595</td>\n",
              "      <td>1.000000</td>\n",
              "      <td>0.994584</td>\n",
              "    </tr>\n",
              "    <tr>\n",
              "      <th>smoothed (mm) annual and semi-annual signal removed</th>\n",
              "      <td>-0.198688</td>\n",
              "      <td>0.990111</td>\n",
              "      <td>0.990110</td>\n",
              "      <td>0.110930</td>\n",
              "      <td>0.118179</td>\n",
              "      <td>0.990525</td>\n",
              "      <td>-0.020512</td>\n",
              "      <td>0.993694</td>\n",
              "      <td>0.991863</td>\n",
              "      <td>-0.009340</td>\n",
              "      <td>0.994584</td>\n",
              "      <td>1.000000</td>\n",
              "    </tr>\n",
              "  </tbody>\n",
              "</table>\n",
              "</div>\n",
              "      <button class=\"colab-df-convert\" onclick=\"convertToInteractive('df-093588ec-d147-4e3e-81be-329d3673a1fc')\"\n",
              "              title=\"Convert this dataframe to an interactive table.\"\n",
              "              style=\"display:none;\">\n",
              "        \n",
              "  <svg xmlns=\"http://www.w3.org/2000/svg\" height=\"24px\"viewBox=\"0 0 24 24\"\n",
              "       width=\"24px\">\n",
              "    <path d=\"M0 0h24v24H0V0z\" fill=\"none\"/>\n",
              "    <path d=\"M18.56 5.44l.94 2.06.94-2.06 2.06-.94-2.06-.94-.94-2.06-.94 2.06-2.06.94zm-11 1L8.5 8.5l.94-2.06 2.06-.94-2.06-.94L8.5 2.5l-.94 2.06-2.06.94zm10 10l.94 2.06.94-2.06 2.06-.94-2.06-.94-.94-2.06-.94 2.06-2.06.94z\"/><path d=\"M17.41 7.96l-1.37-1.37c-.4-.4-.92-.59-1.43-.59-.52 0-1.04.2-1.43.59L10.3 9.45l-7.72 7.72c-.78.78-.78 2.05 0 2.83L4 21.41c.39.39.9.59 1.41.59.51 0 1.02-.2 1.41-.59l7.78-7.78 2.81-2.81c.8-.78.8-2.07 0-2.86zM5.41 20L4 18.59l7.72-7.72 1.47 1.35L5.41 20z\"/>\n",
              "  </svg>\n",
              "      </button>\n",
              "      \n",
              "  <style>\n",
              "    .colab-df-container {\n",
              "      display:flex;\n",
              "      flex-wrap:wrap;\n",
              "      gap: 12px;\n",
              "    }\n",
              "\n",
              "    .colab-df-convert {\n",
              "      background-color: #E8F0FE;\n",
              "      border: none;\n",
              "      border-radius: 50%;\n",
              "      cursor: pointer;\n",
              "      display: none;\n",
              "      fill: #1967D2;\n",
              "      height: 32px;\n",
              "      padding: 0 0 0 0;\n",
              "      width: 32px;\n",
              "    }\n",
              "\n",
              "    .colab-df-convert:hover {\n",
              "      background-color: #E2EBFA;\n",
              "      box-shadow: 0px 1px 2px rgba(60, 64, 67, 0.3), 0px 1px 3px 1px rgba(60, 64, 67, 0.15);\n",
              "      fill: #174EA6;\n",
              "    }\n",
              "\n",
              "    [theme=dark] .colab-df-convert {\n",
              "      background-color: #3B4455;\n",
              "      fill: #D2E3FC;\n",
              "    }\n",
              "\n",
              "    [theme=dark] .colab-df-convert:hover {\n",
              "      background-color: #434B5C;\n",
              "      box-shadow: 0px 1px 3px 1px rgba(0, 0, 0, 0.15);\n",
              "      filter: drop-shadow(0px 1px 2px rgba(0, 0, 0, 0.3));\n",
              "      fill: #FFFFFF;\n",
              "    }\n",
              "  </style>\n",
              "\n",
              "      <script>\n",
              "        const buttonEl =\n",
              "          document.querySelector('#df-093588ec-d147-4e3e-81be-329d3673a1fc button.colab-df-convert');\n",
              "        buttonEl.style.display =\n",
              "          google.colab.kernel.accessAllowed ? 'block' : 'none';\n",
              "\n",
              "        async function convertToInteractive(key) {\n",
              "          const element = document.querySelector('#df-093588ec-d147-4e3e-81be-329d3673a1fc');\n",
              "          const dataTable =\n",
              "            await google.colab.kernel.invokeFunction('convertToInteractive',\n",
              "                                                     [key], {});\n",
              "          if (!dataTable) return;\n",
              "\n",
              "          const docLinkHtml = 'Like what you see? Visit the ' +\n",
              "            '<a target=\"_blank\" href=https://colab.research.google.com/notebooks/data_table.ipynb>data table notebook</a>'\n",
              "            + ' to learn more about interactive tables.';\n",
              "          element.innerHTML = '';\n",
              "          dataTable['output_type'] = 'display_data';\n",
              "          await google.colab.output.renderOutput(dataTable, element);\n",
              "          const docLink = document.createElement('div');\n",
              "          docLink.innerHTML = docLinkHtml;\n",
              "          element.appendChild(docLink);\n",
              "        }\n",
              "      </script>\n",
              "    </div>\n",
              "  </div>\n",
              "  "
            ]
          },
          "metadata": {},
          "execution_count": 185
        }
      ]
    },
    {
      "cell_type": "code",
      "source": [
        "#replace \"...\" with your code to make a figure here\n",
        "plt.imshow (searise[[\"altimeter type\", \"merged file cycle \", \"year\", \"number of observations\",\n",
        "       \"number of weighted observations\", \"GMSL variation no GIA (mm)\",\n",
        "       \"standard no GIA deviation of GMSL (mm)\", \"smoothed GMSL (mm)\", \n",
        "       \"GMSL variation (mm)\", \"standard deviation of GMSL (mm)\", \n",
        "       \"smoothed 60-day variation (mm)\",\n",
        "       \"smoothed (mm) annual and semi-annual signal removed\"]].corr(), clim=(-1, 1), cmap = \"RdBu\")\n",
        "plt.xticks([0, 1, 2, 3, 4, 5, 6, 7, 8, 9, 10, 11],[\"altimeter type\", \"merged file cycle \", \"year\", \"number of observations\",\n",
        "       \"number of weighted observations\", \"GMSL variation no GIA (mm)\",\n",
        "       \"standard no GIA deviation of GMSL (mm)\", \"smoothed GMSL (mm)\", \n",
        "       \"GMSL variation (mm)\", \"standard deviation of GMSL (mm)\", \n",
        "       \"smoothed 60-day variation (mm)\",\n",
        "       \"smoothed (mm) annual and semi-annual signal removed\"], rotation = 85)\n",
        "plt.yticks([0, 1, 2, 3, 4, 5, 6, 7, 8, 9, 10, 11],[\"altimeter type\", \"merged file cycle \", \"year\", \"number of observations\",\n",
        "       \"number of weighted observations\", \"GMSL variation no GIA (mm)\",\n",
        "       \"standard no GIA deviation of GMSL (mm)\", \"smoothed GMSL (mm)\", \n",
        "       \"GMSL variation (mm)\", \"standard deviation of GMSL (mm)\", \n",
        "       \"smoothed 60-day variation (mm)\",\n",
        "       \"smoothed (mm) annual and semi-annual signal removed\"], rotation = 30)\n",
        "plt.colorbar();"
      ],
      "metadata": {
        "id": "00CKJlhi9CZ3",
        "colab": {
          "base_uri": "https://localhost:8080/",
          "height": 543
        },
        "outputId": "ba4c062e-e557-48de-ed5f-c0ecaeee08b1"
      },
      "execution_count": null,
      "outputs": [
        {
          "output_type": "display_data",
          "data": {
            "text/plain": [
              "<Figure size 432x288 with 2 Axes>"
            ],
            "image/png": "[encoded data removed]"
          },
          "metadata": {
            "needs_background": "light"
          }
        }
      ]
    },
    {
      "cell_type": "markdown",
      "source": [
        "This figure shows the correlation between the columns of the dataframe. The deep blue color represents a correlation of 1, and the deep red represents a correlation of -1. There are 12 yticks and 12 xticks."
      ],
      "metadata": {
        "id": "m4xIz6FscBRz"
      }
    },
    {
      "cell_type": "code",
      "source": [
        "corr_Searise = searise.corr() > 0.75;\n",
        "corr_Searise"
      ],
      "metadata": {
        "colab": {
          "base_uri": "https://localhost:8080/",
          "height": 817
        },
        "id": "MibAbkSFWk4j",
        "outputId": "f26c2f60-5e93-4810-f962-21d5f38b8ae9"
      },
      "execution_count": null,
      "outputs": [
        {
          "output_type": "execute_result",
          "data": {
            "text/plain": [
              "                                                    altimeter type  \\\n",
              "altimeter type                                                True   \n",
              "merged file cycle                                            False   \n",
              "year                                                         False   \n",
              "number of observations                                       False   \n",
              "number of weighted observations                              False   \n",
              "GMSL variation no GIA (mm)                                   False   \n",
              "standard no GIA deviation of GMSL (mm)                       False   \n",
              "smoothed GMSL (mm)                                           False   \n",
              "GMSL variation (mm)                                          False   \n",
              "standard deviation of GMSL (mm)                              False   \n",
              "smoothed 60-day variation (mm)                               False   \n",
              "smoothed (mm) annual and semi-annual signal rem...           False   \n",
              "\n",
              "                                                    merged file cycle    year  \\\n",
              "altimeter type                                                   False  False   \n",
              "merged file cycle                                                 True   True   \n",
              "year                                                              True   True   \n",
              "number of observations                                           False  False   \n",
              "number of weighted observations                                  False  False   \n",
              "GMSL variation no GIA (mm)                                        True   True   \n",
              "standard no GIA deviation of GMSL (mm)                           False  False   \n",
              "smoothed GMSL (mm)                                                True   True   \n",
              "GMSL variation (mm)                                               True   True   \n",
              "standard deviation of GMSL (mm)                                  False  False   \n",
              "smoothed 60-day variation (mm)                                    True   True   \n",
              "smoothed (mm) annual and semi-annual signal rem...                True   True   \n",
              "\n",
              "                                                    number of observations  \\\n",
              "altimeter type                                                       False   \n",
              "merged file cycle                                                    False   \n",
              "year                                                                 False   \n",
              "number of observations                                                True   \n",
              "number of weighted observations                                       True   \n",
              "GMSL variation no GIA (mm)                                           False   \n",
              "standard no GIA deviation of GMSL (mm)                               False   \n",
              "smoothed GMSL (mm)                                                   False   \n",
              "GMSL variation (mm)                                                  False   \n",
              "standard deviation of GMSL (mm)                                      False   \n",
              "smoothed 60-day variation (mm)                                       False   \n",
              "smoothed (mm) annual and semi-annual signal rem...                   False   \n",
              "\n",
              "                                                    number of weighted observations  \\\n",
              "altimeter type                                                                False   \n",
              "merged file cycle                                                             False   \n",
              "year                                                                          False   \n",
              "number of observations                                                         True   \n",
              "number of weighted observations                                                True   \n",
              "GMSL variation no GIA (mm)                                                    False   \n",
              "standard no GIA deviation of GMSL (mm)                                        False   \n",
              "smoothed GMSL (mm)                                                            False   \n",
              "GMSL variation (mm)                                                           False   \n",
              "standard deviation of GMSL (mm)                                               False   \n",
              "smoothed 60-day variation (mm)                                                False   \n",
              "smoothed (mm) annual and semi-annual signal rem...                            False   \n",
              "\n",
              "                                                    GMSL variation no GIA (mm)  \\\n",
              "altimeter type                                                           False   \n",
              "merged file cycle                                                         True   \n",
              "year                                                                      True   \n",
              "number of observations                                                   False   \n",
              "number of weighted observations                                          False   \n",
              "GMSL variation no GIA (mm)                                                True   \n",
              "standard no GIA deviation of GMSL (mm)                                   False   \n",
              "smoothed GMSL (mm)                                                        True   \n",
              "GMSL variation (mm)                                                       True   \n",
              "standard deviation of GMSL (mm)                                          False   \n",
              "smoothed 60-day variation (mm)                                            True   \n",
              "smoothed (mm) annual and semi-annual signal rem...                        True   \n",
              "\n",
              "                                                    standard no GIA deviation of GMSL (mm)  \\\n",
              "altimeter type                                                                       False   \n",
              "merged file cycle                                                                    False   \n",
              "year                                                                                 False   \n",
              "number of observations                                                               False   \n",
              "number of weighted observations                                                      False   \n",
              "GMSL variation no GIA (mm)                                                           False   \n",
              "standard no GIA deviation of GMSL (mm)                                                True   \n",
              "smoothed GMSL (mm)                                                                   False   \n",
              "GMSL variation (mm)                                                                  False   \n",
              "standard deviation of GMSL (mm)                                                       True   \n",
              "smoothed 60-day variation (mm)                                                       False   \n",
              "smoothed (mm) annual and semi-annual signal rem...                                   False   \n",
              "\n",
              "                                                    smoothed GMSL (mm)  \\\n",
              "altimeter type                                                   False   \n",
              "merged file cycle                                                 True   \n",
              "year                                                              True   \n",
              "number of observations                                           False   \n",
              "number of weighted observations                                  False   \n",
              "GMSL variation no GIA (mm)                                        True   \n",
              "standard no GIA deviation of GMSL (mm)                           False   \n",
              "smoothed GMSL (mm)                                                True   \n",
              "GMSL variation (mm)                                               True   \n",
              "standard deviation of GMSL (mm)                                  False   \n",
              "smoothed 60-day variation (mm)                                    True   \n",
              "smoothed (mm) annual and semi-annual signal rem...                True   \n",
              "\n",
              "                                                    GMSL variation (mm)  \\\n",
              "altimeter type                                                    False   \n",
              "merged file cycle                                                  True   \n",
              "year                                                               True   \n",
              "number of observations                                            False   \n",
              "number of weighted observations                                   False   \n",
              "GMSL variation no GIA (mm)                                         True   \n",
              "standard no GIA deviation of GMSL (mm)                            False   \n",
              "smoothed GMSL (mm)                                                 True   \n",
              "GMSL variation (mm)                                                True   \n",
              "standard deviation of GMSL (mm)                                   False   \n",
              "smoothed 60-day variation (mm)                                     True   \n",
              "smoothed (mm) annual and semi-annual signal rem...                 True   \n",
              "\n",
              "                                                    standard deviation of GMSL (mm)  \\\n",
              "altimeter type                                                                False   \n",
              "merged file cycle                                                             False   \n",
              "year                                                                          False   \n",
              "number of observations                                                        False   \n",
              "number of weighted observations                                               False   \n",
              "GMSL variation no GIA (mm)                                                    False   \n",
              "standard no GIA deviation of GMSL (mm)                                         True   \n",
              "smoothed GMSL (mm)                                                            False   \n",
              "GMSL variation (mm)                                                           False   \n",
              "standard deviation of GMSL (mm)                                                True   \n",
              "smoothed 60-day variation (mm)                                                False   \n",
              "smoothed (mm) annual and semi-annual signal rem...                            False   \n",
              "\n",
              "                                                    smoothed 60-day variation (mm)  \\\n",
              "altimeter type                                                               False   \n",
              "merged file cycle                                                             True   \n",
              "year                                                                          True   \n",
              "number of observations                                                       False   \n",
              "number of weighted observations                                              False   \n",
              "GMSL variation no GIA (mm)                                                    True   \n",
              "standard no GIA deviation of GMSL (mm)                                       False   \n",
              "smoothed GMSL (mm)                                                            True   \n",
              "GMSL variation (mm)                                                           True   \n",
              "standard deviation of GMSL (mm)                                              False   \n",
              "smoothed 60-day variation (mm)                                                True   \n",
              "smoothed (mm) annual and semi-annual signal rem...                            True   \n",
              "\n",
              "                                                    smoothed (mm) annual and semi-annual signal removed  \n",
              "altimeter type                                                                                  False    \n",
              "merged file cycle                                                                                True    \n",
              "year                                                                                             True    \n",
              "number of observations                                                                          False    \n",
              "number of weighted observations                                                                 False    \n",
              "GMSL variation no GIA (mm)                                                                       True    \n",
              "standard no GIA deviation of GMSL (mm)                                                          False    \n",
              "smoothed GMSL (mm)                                                                               True    \n",
              "GMSL variation (mm)                                                                              True    \n",
              "standard deviation of GMSL (mm)                                                                 False    \n",
              "smoothed 60-day variation (mm)                                                                   True    \n",
              "smoothed (mm) annual and semi-annual signal rem...                                               True    "
            ],
            "text/html": [
              "\n",
              "  <div id=\"df-3a90d303-8105-431b-a5aa-fd445f0da1ee\">\n",
              "    <div class=\"colab-df-container\">\n",
              "      <div>\n",
              "<style scoped>\n",
              "    .dataframe tbody tr th:only-of-type {\n",
              "        vertical-align: middle;\n",
              "    }\n",
              "\n",
              "    .dataframe tbody tr th {\n",
              "        vertical-align: top;\n",
              "    }\n",
              "\n",
              "    .dataframe thead th {\n",
              "        text-align: right;\n",
              "    }\n",
              "</style>\n",
              "<table border=\"1\" class=\"dataframe\">\n",
              "  <thead>\n",
              "    <tr style=\"text-align: right;\">\n",
              "      <th></th>\n",
              "      <th>altimeter type</th>\n",
              "      <th>merged file cycle</th>\n",
              "      <th>year</th>\n",
              "      <th>number of observations</th>\n",
              "      <th>number of weighted observations</th>\n",
              "      <th>GMSL variation no GIA (mm)</th>\n",
              "      <th>standard no GIA deviation of GMSL (mm)</th>\n",
              "      <th>smoothed GMSL (mm)</th>\n",
              "      <th>GMSL variation (mm)</th>\n",
              "      <th>standard deviation of GMSL (mm)</th>\n",
              "      <th>smoothed 60-day variation (mm)</th>\n",
              "      <th>smoothed (mm) annual and semi-annual signal removed</th>\n",
              "    </tr>\n",
              "  </thead>\n",
              "  <tbody>\n",
              "    <tr>\n",
              "      <th>altimeter type</th>\n",
              "      <td>True</td>\n",
              "      <td>False</td>\n",
              "      <td>False</td>\n",
              "      <td>False</td>\n",
              "      <td>False</td>\n",
              "      <td>False</td>\n",
              "      <td>False</td>\n",
              "      <td>False</td>\n",
              "      <td>False</td>\n",
              "      <td>False</td>\n",
              "      <td>False</td>\n",
              "      <td>False</td>\n",
              "    </tr>\n",
              "    <tr>\n",
              "      <th>merged file cycle</th>\n",
              "      <td>False</td>\n",
              "      <td>True</td>\n",
              "      <td>True</td>\n",
              "      <td>False</td>\n",
              "      <td>False</td>\n",
              "      <td>True</td>\n",
              "      <td>False</td>\n",
              "      <td>True</td>\n",
              "      <td>True</td>\n",
              "      <td>False</td>\n",
              "      <td>True</td>\n",
              "      <td>True</td>\n",
              "    </tr>\n",
              "    <tr>\n",
              "      <th>year</th>\n",
              "      <td>False</td>\n",
              "      <td>True</td>\n",
              "      <td>True</td>\n",
              "      <td>False</td>\n",
              "      <td>False</td>\n",
              "      <td>True</td>\n",
              "      <td>False</td>\n",
              "      <td>True</td>\n",
              "      <td>True</td>\n",
              "      <td>False</td>\n",
              "      <td>True</td>\n",
              "      <td>True</td>\n",
              "    </tr>\n",
              "    <tr>\n",
              "      <th>number of observations</th>\n",
              "      <td>False</td>\n",
              "      <td>False</td>\n",
              "      <td>False</td>\n",
              "      <td>True</td>\n",
              "      <td>True</td>\n",
              "      <td>False</td>\n",
              "      <td>False</td>\n",
              "      <td>False</td>\n",
              "      <td>False</td>\n",
              "      <td>False</td>\n",
              "      <td>False</td>\n",
              "      <td>False</td>\n",
              "    </tr>\n",
              "    <tr>\n",
              "      <th>number of weighted observations</th>\n",
              "      <td>False</td>\n",
              "      <td>False</td>\n",
              "      <td>False</td>\n",
              "      <td>True</td>\n",
              "      <td>True</td>\n",
              "      <td>False</td>\n",
              "      <td>False</td>\n",
              "      <td>False</td>\n",
              "      <td>False</td>\n",
              "      <td>False</td>\n",
              "      <td>False</td>\n",
              "      <td>False</td>\n",
              "    </tr>\n",
              "    <tr>\n",
              "      <th>GMSL variation no GIA (mm)</th>\n",
              "      <td>False</td>\n",
              "      <td>True</td>\n",
              "      <td>True</td>\n",
              "      <td>False</td>\n",
              "      <td>False</td>\n",
              "      <td>True</td>\n",
              "      <td>False</td>\n",
              "      <td>True</td>\n",
              "      <td>True</td>\n",
              "      <td>False</td>\n",
              "      <td>True</td>\n",
              "      <td>True</td>\n",
              "    </tr>\n",
              "    <tr>\n",
              "      <th>standard no GIA deviation of GMSL (mm)</th>\n",
              "      <td>False</td>\n",
              "      <td>False</td>\n",
              "      <td>False</td>\n",
              "      <td>False</td>\n",
              "      <td>False</td>\n",
              "      <td>False</td>\n",
              "      <td>True</td>\n",
              "      <td>False</td>\n",
              "      <td>False</td>\n",
              "      <td>True</td>\n",
              "      <td>False</td>\n",
              "      <td>False</td>\n",
              "    </tr>\n",
              "    <tr>\n",
              "      <th>smoothed GMSL (mm)</th>\n",
              "      <td>False</td>\n",
              "      <td>True</td>\n",
              "      <td>True</td>\n",
              "      <td>False</td>\n",
              "      <td>False</td>\n",
              "      <td>True</td>\n",
              "      <td>False</td>\n",
              "      <td>True</td>\n",
              "      <td>True</td>\n",
              "      <td>False</td>\n",
              "      <td>True</td>\n",
              "      <td>True</td>\n",
              "    </tr>\n",
              "    <tr>\n",
              "      <th>GMSL variation (mm)</th>\n",
              "      <td>False</td>\n",
              "      <td>True</td>\n",
              "      <td>True</td>\n",
              "      <td>False</td>\n",
              "      <td>False</td>\n",
              "      <td>True</td>\n",
              "      <td>False</td>\n",
              "      <td>True</td>\n",
              "      <td>True</td>\n",
              "      <td>False</td>\n",
              "      <td>True</td>\n",
              "      <td>True</td>\n",
              "    </tr>\n",
              "    <tr>\n",
              "      <th>standard deviation of GMSL (mm)</th>\n",
              "      <td>False</td>\n",
              "      <td>False</td>\n",
              "      <td>False</td>\n",
              "      <td>False</td>\n",
              "      <td>False</td>\n",
              "      <td>False</td>\n",
              "      <td>True</td>\n",
              "      <td>False</td>\n",
              "      <td>False</td>\n",
              "      <td>True</td>\n",
              "      <td>False</td>\n",
              "      <td>False</td>\n",
              "    </tr>\n",
              "    <tr>\n",
              "      <th>smoothed 60-day variation (mm)</th>\n",
              "      <td>False</td>\n",
              "      <td>True</td>\n",
              "      <td>True</td>\n",
              "      <td>False</td>\n",
              "      <td>False</td>\n",
              "      <td>True</td>\n",
              "      <td>False</td>\n",
              "      <td>True</td>\n",
              "      <td>True</td>\n",
              "      <td>False</td>\n",
              "      <td>True</td>\n",
              "      <td>True</td>\n",
              "    </tr>\n",
              "    <tr>\n",
              "      <th>smoothed (mm) annual and semi-annual signal removed</th>\n",
              "      <td>False</td>\n",
              "      <td>True</td>\n",
              "      <td>True</td>\n",
              "      <td>False</td>\n",
              "      <td>False</td>\n",
              "      <td>True</td>\n",
              "      <td>False</td>\n",
              "      <td>True</td>\n",
              "      <td>True</td>\n",
              "      <td>False</td>\n",
              "      <td>True</td>\n",
              "      <td>True</td>\n",
              "    </tr>\n",
              "  </tbody>\n",
              "</table>\n",
              "</div>\n",
              "      <button class=\"colab-df-convert\" onclick=\"convertToInteractive('df-3a90d303-8105-431b-a5aa-fd445f0da1ee')\"\n",
              "              title=\"Convert this dataframe to an interactive table.\"\n",
              "              style=\"display:none;\">\n",
              "        \n",
              "  <svg xmlns=\"http://www.w3.org/2000/svg\" height=\"24px\"viewBox=\"0 0 24 24\"\n",
              "       width=\"24px\">\n",
              "    <path d=\"M0 0h24v24H0V0z\" fill=\"none\"/>\n",
              "    <path d=\"M18.56 5.44l.94 2.06.94-2.06 2.06-.94-2.06-.94-.94-2.06-.94 2.06-2.06.94zm-11 1L8.5 8.5l.94-2.06 2.06-.94-2.06-.94L8.5 2.5l-.94 2.06-2.06.94zm10 10l.94 2.06.94-2.06 2.06-.94-2.06-.94-.94-2.06-.94 2.06-2.06.94z\"/><path d=\"M17.41 7.96l-1.37-1.37c-.4-.4-.92-.59-1.43-.59-.52 0-1.04.2-1.43.59L10.3 9.45l-7.72 7.72c-.78.78-.78 2.05 0 2.83L4 21.41c.39.39.9.59 1.41.59.51 0 1.02-.2 1.41-.59l7.78-7.78 2.81-2.81c.8-.78.8-2.07 0-2.86zM5.41 20L4 18.59l7.72-7.72 1.47 1.35L5.41 20z\"/>\n",
              "  </svg>\n",
              "      </button>\n",
              "      \n",
              "  <style>\n",
              "    .colab-df-container {\n",
              "      display:flex;\n",
              "      flex-wrap:wrap;\n",
              "      gap: 12px;\n",
              "    }\n",
              "\n",
              "    .colab-df-convert {\n",
              "      background-color: #E8F0FE;\n",
              "      border: none;\n",
              "      border-radius: 50%;\n",
              "      cursor: pointer;\n",
              "      display: none;\n",
              "      fill: #1967D2;\n",
              "      height: 32px;\n",
              "      padding: 0 0 0 0;\n",
              "      width: 32px;\n",
              "    }\n",
              "\n",
              "    .colab-df-convert:hover {\n",
              "      background-color: #E2EBFA;\n",
              "      box-shadow: 0px 1px 2px rgba(60, 64, 67, 0.3), 0px 1px 3px 1px rgba(60, 64, 67, 0.15);\n",
              "      fill: #174EA6;\n",
              "    }\n",
              "\n",
              "    [theme=dark] .colab-df-convert {\n",
              "      background-color: #3B4455;\n",
              "      fill: #D2E3FC;\n",
              "    }\n",
              "\n",
              "    [theme=dark] .colab-df-convert:hover {\n",
              "      background-color: #434B5C;\n",
              "      box-shadow: 0px 1px 3px 1px rgba(0, 0, 0, 0.15);\n",
              "      filter: drop-shadow(0px 1px 2px rgba(0, 0, 0, 0.3));\n",
              "      fill: #FFFFFF;\n",
              "    }\n",
              "  </style>\n",
              "\n",
              "      <script>\n",
              "        const buttonEl =\n",
              "          document.querySelector('#df-3a90d303-8105-431b-a5aa-fd445f0da1ee button.colab-df-convert');\n",
              "        buttonEl.style.display =\n",
              "          google.colab.kernel.accessAllowed ? 'block' : 'none';\n",
              "\n",
              "        async function convertToInteractive(key) {\n",
              "          const element = document.querySelector('#df-3a90d303-8105-431b-a5aa-fd445f0da1ee');\n",
              "          const dataTable =\n",
              "            await google.colab.kernel.invokeFunction('convertToInteractive',\n",
              "                                                     [key], {});\n",
              "          if (!dataTable) return;\n",
              "\n",
              "          const docLinkHtml = 'Like what you see? Visit the ' +\n",
              "            '<a target=\"_blank\" href=https://colab.research.google.com/notebooks/data_table.ipynb>data table notebook</a>'\n",
              "            + ' to learn more about interactive tables.';\n",
              "          element.innerHTML = '';\n",
              "          dataTable['output_type'] = 'display_data';\n",
              "          await google.colab.output.renderOutput(dataTable, element);\n",
              "          const docLink = document.createElement('div');\n",
              "          docLink.innerHTML = docLinkHtml;\n",
              "          element.appendChild(docLink);\n",
              "        }\n",
              "      </script>\n",
              "    </div>\n",
              "  </div>\n",
              "  "
            ]
          },
          "metadata": {},
          "execution_count": 187
        }
      ]
    },
    {
      "cell_type": "markdown",
      "source": [
        "# Visualize the data : 20 points"
      ],
      "metadata": {
        "id": "rUs3vg3HFXN6"
      }
    },
    {
      "cell_type": "markdown",
      "source": [
        "## Task 7 (20 points)\n",
        "Plot time series: make separate plots of the \"GMSL variation no GIA (mm)\", \"smoothed GMSL (mm)\", and \"GMSL variation (mm)\" against the year\n",
        "\n",
        "*HINT: make sure your plots have axes labels.*\n",
        "\n",
        "*HINT:  Figures without captions do not get points. Make sure you write a caption (as a text cell) for each plot describing what the plot shows and anything that you think is noticeable about it.*\n"
      ],
      "metadata": {
        "id": "Fg5QL5bhDB9q"
      }
    },
    {
      "cell_type": "code",
      "source": [
        "# replace ... with your code. \n",
        "searise.plot( \"year\", \"GMSL variation no GIA (mm)\" , kind=\"scatter\");\n",
        "plt.xlabel(\"year\");\n",
        "plt.ylabel(\"GMSL variation no GIA (mm)\");"
      ],
      "metadata": {
        "id": "jAELaO8QcP9R",
        "colab": {
          "base_uri": "https://localhost:8080/",
          "height": 279
        },
        "outputId": "4caf24ea-02d9-430f-815f-c8f1ed5ffdd3"
      },
      "execution_count": null,
      "outputs": [
        {
          "output_type": "display_data",
          "data": {
            "text/plain": [
              "<Figure size 432x288 with 1 Axes>"
            ],
            "image/png": "[encoded data removed]"
          },
          "metadata": {
            "needs_background": "light"
          }
        }
      ]
    },
    {
      "cell_type": "markdown",
      "source": [
        "This figure is the plot showing the year column against the GMSL variation no GIA (mm) "
      ],
      "metadata": {
        "id": "3B4GbqNrBUYT"
      }
    },
    {
      "cell_type": "code",
      "source": [
        "searise.plot(\"year\",\"smoothed GMSL (mm)\",kind= \"scatter\");\n",
        "plt.xlabel(\"year\");\n",
        "plt.ylabel(\"smoothed GMSL (mm)\")"
      ],
      "metadata": {
        "colab": {
          "base_uri": "https://localhost:8080/",
          "height": 296
        },
        "id": "mDnjRRjX_akm",
        "outputId": "a0dec37d-c23a-4139-f1b6-6cb1c667245d"
      },
      "execution_count": null,
      "outputs": [
        {
          "output_type": "execute_result",
          "data": {
            "text/plain": [
              "Text(0, 0.5, 'smoothed GMSL (mm)')"
            ]
          },
          "metadata": {},
          "execution_count": 189
        },
        {
          "output_type": "display_data",
          "data": {
            "text/plain": [
              "<Figure size 432x288 with 1 Axes>"
            ],
            "image/png": "[encoded data removed]"
          },
          "metadata": {
            "needs_background": "light"
          }
        }
      ]
    },
    {
      "cell_type": "markdown",
      "source": [
        "This figure is the plot showing the year column against the Smoothed GMSL variation (mm) column."
      ],
      "metadata": {
        "id": "OrF1QgZDCncD"
      }
    },
    {
      "cell_type": "code",
      "source": [
        "searise.plot(\"year\", \"GMSL variation (mm)\" , kind= \"scatter\");\n",
        "plt.xlabel(\"year\");\n",
        "plt.ylabel(\"GMSL variation (mm)\")"
      ],
      "metadata": {
        "colab": {
          "base_uri": "https://localhost:8080/",
          "height": 296
        },
        "id": "nq7oPNU5BHrL",
        "outputId": "912ed742-94a8-4db2-ca5c-91cb7305c005"
      },
      "execution_count": null,
      "outputs": [
        {
          "output_type": "execute_result",
          "data": {
            "text/plain": [
              "Text(0, 0.5, 'GMSL variation (mm)')"
            ]
          },
          "metadata": {},
          "execution_count": 190
        },
        {
          "output_type": "display_data",
          "data": {
            "text/plain": [
              "<Figure size 432x288 with 1 Axes>"
            ],
            "image/png": "[encoded data removed]"
          },
          "metadata": {
            "needs_background": "light"
          }
        }
      ]
    },
    {
      "cell_type": "markdown",
      "source": [
        "This figure is the plot showing the year column against the GMSL variation (mm) column."
      ],
      "metadata": {
        "id": "D2qulfxACrLp"
      }
    },
    {
      "cell_type": "markdown",
      "source": [
        "# Model the data and make predictions: 20 points"
      ],
      "metadata": {
        "id": "vzmAN9O-FftB"
      }
    },
    {
      "cell_type": "markdown",
      "source": [
        "## Task 8 (15 points)\n",
        "Make a model:\n",
        "choosing whichever method or function you prefer, fit each of the three variables you plotted in Task 7 with a **line fit** to time (years) (2 points for each variable).\n",
        "\n",
        "For each model show a measure of goodness of fit your choice: it could be the R2 for statsmodels, the score for SKlearn, or a function that you write  (2 points for each variable for which you do this).\n",
        "\n",
        "Answer the question and justify your answer: which is the best model? (3 points)\n",
        "\n"
      ],
      "metadata": {
        "id": "_Xe2qKbNDuKo"
      }
    },
    {
      "cell_type": "code",
      "source": [
        "# replace ... with your code. \n",
        "x = searise['year']\n",
        "y = searise['GMSL variation no GIA (mm)']\n",
        "x = sm.add_constant(x)\n",
        "model1 = sm.OLS(endog = y, exog = x)\n",
        "result1 = model1.fit()\n",
        "result1.summary()\n",
        "print(result1.summary())"
      ],
      "metadata": {
        "id": "3aUSrdrG7mFn",
        "colab": {
          "base_uri": "https://localhost:8080/"
        },
        "outputId": "3bfcf406-2c9f-4820-dde5-9ccf6890cb5d"
      },
      "execution_count": null,
      "outputs": [
        {
          "output_type": "stream",
          "name": "stdout",
          "text": [
            "                                OLS Regression Results                                \n",
            "======================================================================================\n",
            "Dep. Variable:     GMSL variation no GIA (mm)   R-squared:                       0.958\n",
            "Model:                                    OLS   Adj. R-squared:                  0.958\n",
            "Method:                         Least Squares   F-statistic:                 2.508e+04\n",
            "Date:                        Thu, 13 Oct 2022   Prob (F-statistic):               0.00\n",
            "Time:                                22:00:43   Log-Likelihood:                -3425.3\n",
            "No. Observations:                        1089   AIC:                             6855.\n",
            "Df Residuals:                            1087   BIC:                             6865.\n",
            "Df Model:                                   1                                         \n",
            "Covariance Type:                    nonrobust                                         \n",
            "==============================================================================\n",
            "                 coef    std err          t      P>|t|      [0.025      0.975]\n",
            "------------------------------------------------------------------------------\n",
            "const      -6336.4524     40.051   -158.209      0.000   -6415.039   -6257.866\n",
            "year           3.1592      0.020    158.373      0.000       3.120       3.198\n",
            "==============================================================================\n",
            "Omnibus:                        0.273   Durbin-Watson:                   0.234\n",
            "Prob(Omnibus):                  0.872   Jarque-Bera (JB):                0.219\n",
            "Skew:                           0.032   Prob(JB):                        0.897\n",
            "Kurtosis:                       3.028   Cond. No.                     4.72e+05\n",
            "==============================================================================\n",
            "\n",
            "Notes:\n",
            "[1] Standard Errors assume that the covariance matrix of the errors is correctly specified.\n",
            "[2] The condition number is large, 4.72e+05. This might indicate that there are\n",
            "strong multicollinearity or other numerical problems.\n"
          ]
        },
        {
          "output_type": "stream",
          "name": "stderr",
          "text": [
            "/usr/local/lib/python3.7/dist-packages/statsmodels/tsa/tsatools.py:142: FutureWarning: In a future version of pandas all arguments of concat except for the argument 'objs' will be keyword-only\n",
            "  x = pd.concat(x[::order], 1)\n"
          ]
        }
      ]
    },
    {
      "cell_type": "code",
      "source": [
        "# replace ... with your code. \n",
        "x = searise['year']\n",
        "y = searise['smoothed GMSL (mm)']\n",
        "x = sm.add_constant(x)\n",
        "model2 = sm.OLS(endog = y, exog = x)\n",
        "result2 = model2.fit()\n",
        "result2.summary()\n",
        "print(result2.summary())"
      ],
      "metadata": {
        "id": "4rvA82i--eLb",
        "colab": {
          "base_uri": "https://localhost:8080/"
        },
        "outputId": "5709a3f6-36f7-42d1-ca81-accb4c4bbcec"
      },
      "execution_count": null,
      "outputs": [
        {
          "output_type": "stream",
          "name": "stdout",
          "text": [
            "                            OLS Regression Results                            \n",
            "==============================================================================\n",
            "Dep. Variable:     smoothed GMSL (mm)   R-squared:                       0.965\n",
            "Model:                            OLS   Adj. R-squared:                  0.965\n",
            "Method:                 Least Squares   F-statistic:                 3.021e+04\n",
            "Date:                Thu, 13 Oct 2022   Prob (F-statistic):               0.00\n",
            "Time:                        22:00:43   Log-Likelihood:                -3320.7\n",
            "No. Observations:                1089   AIC:                             6645.\n",
            "Df Residuals:                    1087   BIC:                             6655.\n",
            "Df Model:                           1                                         \n",
            "Covariance Type:            nonrobust                                         \n",
            "==============================================================================\n",
            "                 coef    std err          t      P>|t|      [0.025      0.975]\n",
            "------------------------------------------------------------------------------\n",
            "const      -6317.0388     36.385   -173.618      0.000   -6388.431   -6245.647\n",
            "year           3.1495      0.018    173.800      0.000       3.114       3.185\n",
            "==============================================================================\n",
            "Omnibus:                        1.471   Durbin-Watson:                   0.020\n",
            "Prob(Omnibus):                  0.479   Jarque-Bera (JB):                1.367\n",
            "Skew:                          -0.081   Prob(JB):                        0.505\n",
            "Kurtosis:                       3.060   Cond. No.                     4.72e+05\n",
            "==============================================================================\n",
            "\n",
            "Notes:\n",
            "[1] Standard Errors assume that the covariance matrix of the errors is correctly specified.\n",
            "[2] The condition number is large, 4.72e+05. This might indicate that there are\n",
            "strong multicollinearity or other numerical problems.\n"
          ]
        },
        {
          "output_type": "stream",
          "name": "stderr",
          "text": [
            "/usr/local/lib/python3.7/dist-packages/statsmodels/tsa/tsatools.py:142: FutureWarning: In a future version of pandas all arguments of concat except for the argument 'objs' will be keyword-only\n",
            "  x = pd.concat(x[::order], 1)\n"
          ]
        }
      ]
    },
    {
      "cell_type": "code",
      "source": [
        "# replace ... with your code. \n",
        "x = searise['year']\n",
        "y = searise['GMSL variation (mm)']\n",
        "x = sm.add_constant(x)\n",
        "model3 =  sm.OLS(endog = y, exog = x)\n",
        "result3 = model3.fit()\n",
        "result3.summary()\n",
        "print(result3.summary())"
      ],
      "metadata": {
        "id": "vOcg4fH3-lZA",
        "colab": {
          "base_uri": "https://localhost:8080/"
        },
        "outputId": "fb0587ed-bca9-413e-cc6f-191adbed36af"
      },
      "execution_count": null,
      "outputs": [
        {
          "output_type": "stream",
          "name": "stdout",
          "text": [
            "                             OLS Regression Results                            \n",
            "===============================================================================\n",
            "Dep. Variable:     GMSL variation (mm)   R-squared:                       0.964\n",
            "Model:                             OLS   Adj. R-squared:                  0.964\n",
            "Method:                  Least Squares   F-statistic:                 2.912e+04\n",
            "Date:                 Thu, 13 Oct 2022   Prob (F-statistic):               0.00\n",
            "Time:                         22:00:43   Log-Likelihood:                -3424.8\n",
            "No. Observations:                 1089   AIC:                             6854.\n",
            "Df Residuals:                     1087   BIC:                             6864.\n",
            "Df Model:                            1                                         \n",
            "Covariance Type:             nonrobust                                         \n",
            "==============================================================================\n",
            "                 coef    std err          t      P>|t|      [0.025      0.975]\n",
            "------------------------------------------------------------------------------\n",
            "const      -6821.5109     40.034   -170.394      0.000   -6900.063   -6742.959\n",
            "year           3.4026      0.020    170.649      0.000       3.363       3.442\n",
            "==============================================================================\n",
            "Omnibus:                        0.294   Durbin-Watson:                   0.232\n",
            "Prob(Omnibus):                  0.864   Jarque-Bera (JB):                0.240\n",
            "Skew:                           0.034   Prob(JB):                        0.887\n",
            "Kurtosis:                       3.027   Cond. No.                     4.72e+05\n",
            "==============================================================================\n",
            "\n",
            "Notes:\n",
            "[1] Standard Errors assume that the covariance matrix of the errors is correctly specified.\n",
            "[2] The condition number is large, 4.72e+05. This might indicate that there are\n",
            "strong multicollinearity or other numerical problems.\n"
          ]
        },
        {
          "output_type": "stream",
          "name": "stderr",
          "text": [
            "/usr/local/lib/python3.7/dist-packages/statsmodels/tsa/tsatools.py:142: FutureWarning: In a future version of pandas all arguments of concat except for the argument 'objs' will be keyword-only\n",
            "  x = pd.concat(x[::order], 1)\n"
          ]
        }
      ]
    },
    {
      "cell_type": "markdown",
      "source": [
        "The best model is the one with the highest R2. This is the second model that compares the year with the GMSL variation (mm). "
      ],
      "metadata": {
        "id": "4uzU_69HNijj"
      }
    },
    {
      "cell_type": "markdown",
      "source": [
        "## Task 9 (5 points)\n",
        "\n",
        "Pick the best model of the three models above and predict the amount of sea rise by 2060 in inches"
      ],
      "metadata": {
        "id": "Il-K_130GAhp"
      }
    },
    {
      "cell_type": "code",
      "source": [
        "npslope,npintercept = np.polyfit(searise[\"year\"], searise[\"smoothed GMSL (mm)\"], 1)\n",
        "npslope,npintercept"
      ],
      "metadata": {
        "colab": {
          "base_uri": "https://localhost:8080/"
        },
        "id": "QccsVrhmRngF",
        "outputId": "8efde3cf-e0e0-4d65-a5d6-223d435d3460"
      },
      "execution_count": null,
      "outputs": [
        {
          "output_type": "execute_result",
          "data": {
            "text/plain": [
              "(3.1495361265957094, -6317.038753871085)"
            ]
          },
          "metadata": {},
          "execution_count": 194
        }
      ]
    },
    {
      "cell_type": "code",
      "source": [
        "# replace ... with your code. \n",
        "yearpredict =  npslope * 2060 + npintercept\n",
        "yearpredict = yearpredict/25.4\n",
        "print(\"the expected see level in 2060 is\" , yearpredict)"
      ],
      "metadata": {
        "id": "R2CRSLtx_eqZ",
        "colab": {
          "base_uri": "https://localhost:8080/"
        },
        "outputId": "2a4981d4-7272-4b79-dc1b-409d861fa362"
      },
      "execution_count": null,
      "outputs": [
        {
          "output_type": "stream",
          "name": "stdout",
          "text": [
            "the expected see level in 2060 is 6.732506571499084\n"
          ]
        }
      ]
    },
    {
      "cell_type": "markdown",
      "source": [
        "## Task 10 (5 points)\n",
        "\n",
        "In what year is the sea level predicted to rises above 4 inches?"
      ],
      "metadata": {
        "id": "Jc5IWhkAK8_E"
      }
    },
    {
      "cell_type": "code",
      "source": [
        "# replace ... with your code. \n",
        "sealevelhighyear = (4 - npintercept)/ npslope\n",
        "print(\"the first year in which the sea level rises above 4 inches is \" , sealevelhighyear)"
      ],
      "metadata": {
        "id": "T1-QsE3t_ppw",
        "colab": {
          "base_uri": "https://localhost:8080/"
        },
        "outputId": "c6116897-8677-48ae-ac4e-e3dc5354e0ae"
      },
      "execution_count": null,
      "outputs": [
        {
          "output_type": "stream",
          "name": "stdout",
          "text": [
            "the first year in which the sea level rises above 4 inches is  2006.9745193567312\n"
          ]
        }
      ]
    }
  ]
}