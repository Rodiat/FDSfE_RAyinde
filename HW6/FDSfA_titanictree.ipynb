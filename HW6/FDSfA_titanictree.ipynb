{
  "nbformat": 4,
  "nbformat_minor": 0,
  "metadata": {
    "anaconda-cloud": {},
    "kernelspec": {
      "display_name": "Python 3",
      "language": "python",
      "name": "python3"
    },
    "language_info": {
      "codemirror_mode": {
        "name": "ipython",
        "version": 3
      },
      "file_extension": ".py",
      "mimetype": "text/x-python",
      "name": "python",
      "nbconvert_exporter": "python",
      "pygments_lexer": "ipython3",
      "version": "3.7.3"
    },
    "latex_envs": {
      "LaTeX_envs_menu_present": true,
      "autoclose": false,
      "autocomplete": true,
      "bibliofile": "biblio.bib",
      "cite_by": "apalike",
      "current_citInitial": 1,
      "eqLabelWithNumbers": true,
      "eqNumInitial": 1,
      "hotkeys": {
        "equation": "Ctrl-E",
        "itemize": "Ctrl-I"
      },
      "labels_anchors": false,
      "latex_user_defs": false,
      "report_style_numbering": false,
      "user_envs_cfg": false
    },
    "nbTranslate": {
      "displayLangs": [
        "*"
      ],
      "hotkey": "alt-t",
      "langInMainMenu": true,
      "sourceLang": "en",
      "targetLang": "fr",
      "useGoogleTranslate": true
    },
    "toc": {
      "base_numbering": 1,
      "nav_menu": {
        "height": "203px",
        "width": "252px"
      },
      "number_sections": false,
      "sideBar": true,
      "skip_h1_title": false,
      "title_cell": "Table of Contents",
      "title_sidebar": "Contents",
      "toc_cell": false,
      "toc_position": {},
      "toc_section_display": "block",
      "toc_window_display": false
    },
    "colab": {
      "provenance": [],
      "include_colab_link": true
    }
  },
  "cells": [
    {
      "cell_type": "markdown",
      "metadata": {
        "id": "view-in-github",
        "colab_type": "text"
      },
      "source": [
        "<a href=\"https://colab.research.google.com/github/Rodiat/FDSfE_RAyinde/blob/main/HW6/FDSfA_titanictree.ipynb\" target=\"_parent\"><img src=\"https://colab.research.google.com/assets/colab-badge.svg\" alt=\"Open In Colab\"/></a>"
      ]
    },
    {
      "cell_type": "code",
      "metadata": {
        "ExecuteTime": {
          "end_time": "2019-10-28T03:54:27.722114Z",
          "start_time": "2019-10-28T03:54:26.787711Z"
        },
        "id": "gCbLLA_Bg12Z",
        "colab": {
          "base_uri": "https://localhost:8080/"
        },
        "outputId": "d76c48df-62c2-4f0d-a3a9-c6fd614f5083"
      },
      "source": [
        "import pandas as pd\n",
        "import numpy as np\n",
        "import pylab as pl\n",
        "import os\n",
        "import json \n",
        "%pylab inline\n",
        "#pl.style.use(\"https://raw.githubusercontent.com/fedhere/DSPS/master/fbb.mplstyle\")"
      ],
      "execution_count": 1,
      "outputs": [
        {
          "output_type": "stream",
          "name": "stdout",
          "text": [
            "Populating the interactive namespace from numpy and matplotlib\n"
          ]
        }
      ]
    },
    {
      "cell_type": "markdown",
      "metadata": {
        "id": "iPgdtu9gsinm"
      },
      "source": [
        "# 0.1 reading data from kaggle"
      ]
    },
    {
      "cell_type": "code",
      "metadata": {
        "id": "pCUXEwM5g12d",
        "colab": {
          "base_uri": "https://localhost:8080/"
        },
        "outputId": "a8e2e028-d560-4b6e-b191-d807b06aa422"
      },
      "source": [
        "pip install kaggle "
      ],
      "execution_count": 2,
      "outputs": [
        {
          "output_type": "stream",
          "name": "stdout",
          "text": [
            "Looking in indexes: https://pypi.org/simple, https://us-python.pkg.dev/colab-wheels/public/simple/\n",
            "Requirement already satisfied: kaggle in /usr/local/lib/python3.7/dist-packages (1.5.12)\n",
            "Requirement already satisfied: urllib3 in /usr/local/lib/python3.7/dist-packages (from kaggle) (1.24.3)\n",
            "Requirement already satisfied: requests in /usr/local/lib/python3.7/dist-packages (from kaggle) (2.23.0)\n",
            "Requirement already satisfied: python-dateutil in /usr/local/lib/python3.7/dist-packages (from kaggle) (2.8.2)\n",
            "Requirement already satisfied: tqdm in /usr/local/lib/python3.7/dist-packages (from kaggle) (4.64.1)\n",
            "Requirement already satisfied: six>=1.10 in /usr/local/lib/python3.7/dist-packages (from kaggle) (1.15.0)\n",
            "Requirement already satisfied: certifi in /usr/local/lib/python3.7/dist-packages (from kaggle) (2022.9.24)\n",
            "Requirement already satisfied: python-slugify in /usr/local/lib/python3.7/dist-packages (from kaggle) (6.1.2)\n",
            "Requirement already satisfied: text-unidecode>=1.3 in /usr/local/lib/python3.7/dist-packages (from python-slugify->kaggle) (1.3)\n",
            "Requirement already satisfied: chardet<4,>=3.0.2 in /usr/local/lib/python3.7/dist-packages (from requests->kaggle) (3.0.4)\n",
            "Requirement already satisfied: idna<3,>=2.5 in /usr/local/lib/python3.7/dist-packages (from requests->kaggle) (2.10)\n"
          ]
        }
      ]
    },
    {
      "cell_type": "code",
      "source": [
        "!kaggle --version"
      ],
      "metadata": {
        "colab": {
          "base_uri": "https://localhost:8080/"
        },
        "id": "udnrVbAXFHdV",
        "outputId": "082c7953-d459-46c8-cd51-19063208a0f8"
      },
      "execution_count": 3,
      "outputs": [
        {
          "output_type": "stream",
          "name": "stdout",
          "text": [
            "Traceback (most recent call last):\n",
            "  File \"/usr/local/bin/kaggle\", line 5, in <module>\n",
            "    from kaggle.cli import main\n",
            "  File \"/usr/local/lib/python3.7/dist-packages/kaggle/__init__.py\", line 23, in <module>\n",
            "    api.authenticate()\n",
            "  File \"/usr/local/lib/python3.7/dist-packages/kaggle/api/kaggle_api_extended.py\", line 166, in authenticate\n",
            "    self.config_file, self.config_dir))\n",
            "OSError: Could not find kaggle.json. Make sure it's located in /root/.kaggle. Or use the environment method.\n"
          ]
        }
      ]
    },
    {
      "cell_type": "markdown",
      "metadata": {
        "id": "Am1XS9yFu5_H"
      },
      "source": [
        "## create a file kaggle.json by requesting and API key to kaggle (under account) \n",
        "## https://www.kaggle.com/docs/api\n",
        "## and upload it to your google drive. \n",
        "## Upload and read in the credential, store them as environmental variables\n",
        "\n",
        "### Before class\n",
        "Please register for an account at kaggle.com, all the work we will do together in class as well as your next homework will require it.\n",
        "To register do the following:\n",
        "- go to kaggle.com\n",
        "- click on “Register” in the upper right corner\n",
        "select either Register with Google, or Register with your email (it’s up to you)\n",
        "- follow the instructions provided by kaggle to create an account (enter your email address, create a password, and choose a username), all of which are up to you, this will be your account after all\n",
        "- Make sure that at the end, you have an account that you can log in with, and be logged in and ready next class\n",
        "\n",
        "### In class\n",
        "\n",
        "- Go to https://www.kaggle.com/ and sign in\n",
        "- click on the icon of your avatar on the top right\n",
        "- select account from the drop menu\n",
        "- scroll down to API and click `create New API Token`. This will download a json file on your computer \n",
        "- open google drive at https://drive.google.com/drive/u/0/my-drive in your browser\n",
        "-  upload the kaggle.json file from your laptop to the drive\n"
      ]
    },
    {
      "cell_type": "code",
      "metadata": {
        "id": "d8O5LOhWrF2s",
        "colab": {
          "base_uri": "https://localhost:8080/"
        },
        "outputId": "90937861-b812-4a4e-efdd-27b3fe24c133"
      },
      "source": [
        "from google.colab import drive\n",
        "drive.mount(\"/content/gdrive\")\n"
      ],
      "execution_count": 4,
      "outputs": [
        {
          "output_type": "stream",
          "name": "stdout",
          "text": [
            "Drive already mounted at /content/gdrive; to attempt to forcibly remount, call drive.mount(\"/content/gdrive\", force_remount=True).\n"
          ]
        }
      ]
    },
    {
      "cell_type": "code",
      "metadata": {
        "id": "tFeYhc7icChm",
        "colab": {
          "base_uri": "https://localhost:8080/"
        },
        "outputId": "81e41169-7dca-46fb-b47f-4388549ee8a4"
      },
      "source": [
        "cd gdrive/My\\ Drive/"
      ],
      "execution_count": 5,
      "outputs": [
        {
          "output_type": "stream",
          "name": "stdout",
          "text": [
            "/content/gdrive/My Drive\n"
          ]
        }
      ]
    },
    {
      "cell_type": "markdown",
      "source": [
        "make sure the file is there: this cell should return \"kaggle.json\""
      ],
      "metadata": {
        "id": "AHURoEtdC-bv"
      }
    },
    {
      "cell_type": "code",
      "metadata": {
        "id": "6_m5iYc-vHq7",
        "colab": {
          "base_uri": "https://localhost:8080/"
        },
        "outputId": "c12d2d35-e40a-432c-e370-8242f0511b60"
      },
      "source": [
        "ls kaggle.json"
      ],
      "execution_count": 6,
      "outputs": [
        {
          "output_type": "stream",
          "name": "stdout",
          "text": [
            "kaggle.json\n"
          ]
        }
      ]
    },
    {
      "cell_type": "markdown",
      "source": [
        "the next cell changes who can access this file. Tokens are a seriously private thing! they are used to access sites. If someone were to hack the kaggle site and steal information from the user using your token you would be legally responsible for that! So keep your files secret. Don't share them with any one, don't print the content of the json file we use in your notebook. "
      ],
      "metadata": {
        "id": "6jzCNriJD16O"
      }
    },
    {
      "cell_type": "code",
      "metadata": {
        "id": "jsICrTrsvKMq"
      },
      "source": [
        "!chmod 600 kaggle.json"
      ],
      "execution_count": 7,
      "outputs": []
    },
    {
      "cell_type": "code",
      "metadata": {
        "id": "AbS20L4_mQry"
      },
      "source": [
        "envs = json.load(open(\"kaggle.json\", \"r\"))\n",
        "os.environ[\"KAGGLE_USERNAME\"] = envs['username']\n",
        "os.environ[\"KAGGLE_KEY\"] = envs['key']"
      ],
      "execution_count": 8,
      "outputs": []
    },
    {
      "cell_type": "code",
      "metadata": {
        "id": "fmjKsHsChHnm",
        "colab": {
          "base_uri": "https://localhost:8080/"
        },
        "outputId": "4eb8b875-4d22-4f61-dafa-c105c6cb0740"
      },
      "source": [
        "#check that it worked by listing the kaggle datasets\n",
        "!kaggle competitions list"
      ],
      "execution_count": 9,
      "outputs": [
        {
          "output_type": "stream",
          "name": "stdout",
          "text": [
            "ref                                             deadline             category            reward  teamCount  userHasEntered  \n",
            "----------------------------------------------  -------------------  ---------------  ---------  ---------  --------------  \n",
            "contradictory-my-dear-watson                    2030-07-01 23:59:00  Getting Started     Prizes         56           False  \n",
            "gan-getting-started                             2030-07-01 23:59:00  Getting Started     Prizes         83           False  \n",
            "store-sales-time-series-forecasting             2030-06-30 23:59:00  Getting Started  Knowledge        584           False  \n",
            "tpu-getting-started                             2030-06-03 23:59:00  Getting Started  Knowledge        112           False  \n",
            "digit-recognizer                                2030-01-01 00:00:00  Getting Started  Knowledge       1334           False  \n",
            "titanic                                         2030-01-01 00:00:00  Getting Started  Knowledge      14588           False  \n",
            "house-prices-advanced-regression-techniques     2030-01-01 00:00:00  Getting Started  Knowledge       4091           False  \n",
            "connectx                                        2030-01-01 00:00:00  Getting Started  Knowledge        206           False  \n",
            "nlp-getting-started                             2030-01-01 00:00:00  Getting Started  Knowledge        878           False  \n",
            "spaceship-titanic                               2030-01-01 00:00:00  Getting Started  Knowledge       2137           False  \n",
            "otto-recommender-system                         2023-01-31 23:59:00  Featured           $30,000        282           False  \n",
            "nfl-big-data-bowl-2023                          2023-01-09 23:59:00  Analytics         $100,000          0           False  \n",
            "g2net-detecting-continuous-gravitational-waves  2023-01-03 23:59:00  Research           $25,000        472           False  \n",
            "novozymes-enzyme-stability-prediction           2023-01-03 23:59:00  Featured           $25,000       1198           False  \n",
            "competitive-data-science-predict-future-sales   2022-12-31 23:59:00  Playground           Kudos      15691           False  \n",
            "dfl-bundesliga-data-shootout                    2022-12-20 23:59:00  Featured           $25,000        530           False  \n",
            "scrabble-player-rating                          2022-12-15 23:59:00  Playground           Kudos         47           False  \n",
            "lux-ai-2022-beta                                2022-12-06 23:59:00  Playground            Swag         27           False  \n",
            "tabular-playground-series-nov-2022              2022-11-30 23:59:00  Playground            Swag        285           False  \n",
            "feedback-prize-english-language-learning        2022-11-29 23:59:00  Featured           $55,000       2182           False  \n"
          ]
        }
      ]
    },
    {
      "cell_type": "markdown",
      "source": [
        "create a directory for these data\n"
      ],
      "metadata": {
        "id": "NNsvw8PgGqKr"
      }
    },
    {
      "cell_type": "code",
      "metadata": {
        "id": "JlZyIqNprVo_"
      },
      "source": [
        "#!mkdir kaggleTitanic"
      ],
      "execution_count": 10,
      "outputs": []
    },
    {
      "cell_type": "markdown",
      "source": [
        "move to that directory\n"
      ],
      "metadata": {
        "id": "AlsS_BEIGoHL"
      }
    },
    {
      "cell_type": "code",
      "metadata": {
        "id": "mqDrRNAKrZy8",
        "colab": {
          "base_uri": "https://localhost:8080/"
        },
        "outputId": "b5707dda-b141-4150-a9a5-ce76d4fc5ba4"
      },
      "source": [
        "cd kaggleTitanic"
      ],
      "execution_count": 11,
      "outputs": [
        {
          "output_type": "stream",
          "name": "stdout",
          "text": [
            "/content/gdrive/My Drive/kaggleTitanic\n"
          ]
        }
      ]
    },
    {
      "cell_type": "markdown",
      "metadata": {
        "id": "f2U_0rHYv0Qk"
      },
      "source": [
        "download the titanic data into the directory you created for it"
      ]
    },
    {
      "cell_type": "code",
      "metadata": {
        "id": "Pk-m5nEZp7ua",
        "colab": {
          "base_uri": "https://localhost:8080/"
        },
        "outputId": "b0df11b8-f62a-422c-81e4-4a3f86503e2d"
      },
      "source": [
        "!kaggle competitions download -c titanic"
      ],
      "execution_count": 12,
      "outputs": [
        {
          "output_type": "stream",
          "name": "stdout",
          "text": [
            "Downloading titanic.zip to /content/gdrive/My Drive/kaggleTitanic\n",
            "\r  0% 0.00/34.1k [00:00<?, ?B/s]\n",
            "\r100% 34.1k/34.1k [00:00<00:00, 3.53MB/s]\n"
          ]
        }
      ]
    },
    {
      "cell_type": "code",
      "metadata": {
        "id": "k0oX-TFgp-df",
        "colab": {
          "base_uri": "https://localhost:8080/"
        },
        "outputId": "41e72b1a-e014-49d1-a4c0-f002e2baf309"
      },
      "source": [
        "!ls"
      ],
      "execution_count": 13,
      "outputs": [
        {
          "output_type": "stream",
          "name": "stdout",
          "text": [
            "kaggleTitanic  titanic.zip\n"
          ]
        }
      ]
    },
    {
      "cell_type": "code",
      "source": [
        "!unzip titanic.zip"
      ],
      "metadata": {
        "id": "9CpX_DcAHFuf",
        "colab": {
          "base_uri": "https://localhost:8080/"
        },
        "outputId": "290c344b-9d49-4eb0-d572-a01d397929ea"
      },
      "execution_count": 17,
      "outputs": [
        {
          "output_type": "stream",
          "name": "stdout",
          "text": [
            "Archive:  titanic.zip\n",
            "  inflating: gender_submission.csv   \n",
            "  inflating: test.csv                \n",
            "  inflating: train.csv               \n"
          ]
        }
      ]
    },
    {
      "cell_type": "markdown",
      "metadata": {
        "id": "QnlbzVpwwSxU"
      },
      "source": [
        "read in the data"
      ]
    },
    {
      "cell_type": "code",
      "metadata": {
        "ExecuteTime": {
          "end_time": "2018-11-28T13:09:38.694413Z",
          "start_time": "2018-11-28T13:09:38.661437Z"
        },
        "id": "WXM9gKq6g12e"
      },
      "source": [
        "titanic = pd.read_csv(\"train.csv\").dropna(subset=[\"Survived\", \"Sex\", \"Pclass\", \"Age\"])"
      ],
      "execution_count": 18,
      "outputs": []
    },
    {
      "cell_type": "code",
      "metadata": {
        "ExecuteTime": {
          "end_time": "2018-11-28T13:09:38.712717Z",
          "start_time": "2018-11-28T13:09:38.700624Z"
        },
        "id": "Cswjv-15g12g",
        "colab": {
          "base_uri": "https://localhost:8080/"
        },
        "outputId": "6119fedb-b72c-489a-b0ca-feb2a61831a9"
      },
      "source": [
        "titanic.shape"
      ],
      "execution_count": 19,
      "outputs": [
        {
          "output_type": "execute_result",
          "data": {
            "text/plain": [
              "(714, 12)"
            ]
          },
          "metadata": {},
          "execution_count": 19
        }
      ]
    },
    {
      "cell_type": "code",
      "metadata": {
        "ExecuteTime": {
          "end_time": "2018-11-28T13:09:38.844735Z",
          "start_time": "2018-11-28T13:09:38.803001Z"
        },
        "id": "PmupK5Jsg12j",
        "colab": {
          "base_uri": "https://localhost:8080/",
          "height": 187
        },
        "outputId": "a11b924e-244f-4e5e-8777-c6f37f4b0bf7"
      },
      "source": [
        "titanic.head(3)"
      ],
      "execution_count": 20,
      "outputs": [
        {
          "output_type": "execute_result",
          "data": {
            "text/plain": [
              "   PassengerId  Survived  Pclass  \\\n",
              "0            1         0       3   \n",
              "1            2         1       1   \n",
              "2            3         1       3   \n",
              "\n",
              "                                                Name     Sex   Age  SibSp  \\\n",
              "0                            Braund, Mr. Owen Harris    male  22.0      1   \n",
              "1  Cumings, Mrs. John Bradley (Florence Briggs Th...  female  38.0      1   \n",
              "2                             Heikkinen, Miss. Laina  female  26.0      0   \n",
              "\n",
              "   Parch            Ticket     Fare Cabin Embarked  \n",
              "0      0         A/5 21171   7.2500   NaN        S  \n",
              "1      0          PC 17599  71.2833   C85        C  \n",
              "2      0  STON/O2. 3101282   7.9250   NaN        S  "
            ],
            "text/html": [
              "\n",
              "  <div id=\"df-a136f738-9d41-4353-b3ce-c4238659f32d\">\n",
              "    <div class=\"colab-df-container\">\n",
              "      <div>\n",
              "<style scoped>\n",
              "    .dataframe tbody tr th:only-of-type {\n",
              "        vertical-align: middle;\n",
              "    }\n",
              "\n",
              "    .dataframe tbody tr th {\n",
              "        vertical-align: top;\n",
              "    }\n",
              "\n",
              "    .dataframe thead th {\n",
              "        text-align: right;\n",
              "    }\n",
              "</style>\n",
              "<table border=\"1\" class=\"dataframe\">\n",
              "  <thead>\n",
              "    <tr style=\"text-align: right;\">\n",
              "      <th></th>\n",
              "      <th>PassengerId</th>\n",
              "      <th>Survived</th>\n",
              "      <th>Pclass</th>\n",
              "      <th>Name</th>\n",
              "      <th>Sex</th>\n",
              "      <th>Age</th>\n",
              "      <th>SibSp</th>\n",
              "      <th>Parch</th>\n",
              "      <th>Ticket</th>\n",
              "      <th>Fare</th>\n",
              "      <th>Cabin</th>\n",
              "      <th>Embarked</th>\n",
              "    </tr>\n",
              "  </thead>\n",
              "  <tbody>\n",
              "    <tr>\n",
              "      <th>0</th>\n",
              "      <td>1</td>\n",
              "      <td>0</td>\n",
              "      <td>3</td>\n",
              "      <td>Braund, Mr. Owen Harris</td>\n",
              "      <td>male</td>\n",
              "      <td>22.0</td>\n",
              "      <td>1</td>\n",
              "      <td>0</td>\n",
              "      <td>A/5 21171</td>\n",
              "      <td>7.2500</td>\n",
              "      <td>NaN</td>\n",
              "      <td>S</td>\n",
              "    </tr>\n",
              "    <tr>\n",
              "      <th>1</th>\n",
              "      <td>2</td>\n",
              "      <td>1</td>\n",
              "      <td>1</td>\n",
              "      <td>Cumings, Mrs. John Bradley (Florence Briggs Th...</td>\n",
              "      <td>female</td>\n",
              "      <td>38.0</td>\n",
              "      <td>1</td>\n",
              "      <td>0</td>\n",
              "      <td>PC 17599</td>\n",
              "      <td>71.2833</td>\n",
              "      <td>C85</td>\n",
              "      <td>C</td>\n",
              "    </tr>\n",
              "    <tr>\n",
              "      <th>2</th>\n",
              "      <td>3</td>\n",
              "      <td>1</td>\n",
              "      <td>3</td>\n",
              "      <td>Heikkinen, Miss. Laina</td>\n",
              "      <td>female</td>\n",
              "      <td>26.0</td>\n",
              "      <td>0</td>\n",
              "      <td>0</td>\n",
              "      <td>STON/O2. 3101282</td>\n",
              "      <td>7.9250</td>\n",
              "      <td>NaN</td>\n",
              "      <td>S</td>\n",
              "    </tr>\n",
              "  </tbody>\n",
              "</table>\n",
              "</div>\n",
              "      <button class=\"colab-df-convert\" onclick=\"convertToInteractive('df-a136f738-9d41-4353-b3ce-c4238659f32d')\"\n",
              "              title=\"Convert this dataframe to an interactive table.\"\n",
              "              style=\"display:none;\">\n",
              "        \n",
              "  <svg xmlns=\"http://www.w3.org/2000/svg\" height=\"24px\"viewBox=\"0 0 24 24\"\n",
              "       width=\"24px\">\n",
              "    <path d=\"M0 0h24v24H0V0z\" fill=\"none\"/>\n",
              "    <path d=\"M18.56 5.44l.94 2.06.94-2.06 2.06-.94-2.06-.94-.94-2.06-.94 2.06-2.06.94zm-11 1L8.5 8.5l.94-2.06 2.06-.94-2.06-.94L8.5 2.5l-.94 2.06-2.06.94zm10 10l.94 2.06.94-2.06 2.06-.94-2.06-.94-.94-2.06-.94 2.06-2.06.94z\"/><path d=\"M17.41 7.96l-1.37-1.37c-.4-.4-.92-.59-1.43-.59-.52 0-1.04.2-1.43.59L10.3 9.45l-7.72 7.72c-.78.78-.78 2.05 0 2.83L4 21.41c.39.39.9.59 1.41.59.51 0 1.02-.2 1.41-.59l7.78-7.78 2.81-2.81c.8-.78.8-2.07 0-2.86zM5.41 20L4 18.59l7.72-7.72 1.47 1.35L5.41 20z\"/>\n",
              "  </svg>\n",
              "      </button>\n",
              "      \n",
              "  <style>\n",
              "    .colab-df-container {\n",
              "      display:flex;\n",
              "      flex-wrap:wrap;\n",
              "      gap: 12px;\n",
              "    }\n",
              "\n",
              "    .colab-df-convert {\n",
              "      background-color: #E8F0FE;\n",
              "      border: none;\n",
              "      border-radius: 50%;\n",
              "      cursor: pointer;\n",
              "      display: none;\n",
              "      fill: #1967D2;\n",
              "      height: 32px;\n",
              "      padding: 0 0 0 0;\n",
              "      width: 32px;\n",
              "    }\n",
              "\n",
              "    .colab-df-convert:hover {\n",
              "      background-color: #E2EBFA;\n",
              "      box-shadow: 0px 1px 2px rgba(60, 64, 67, 0.3), 0px 1px 3px 1px rgba(60, 64, 67, 0.15);\n",
              "      fill: #174EA6;\n",
              "    }\n",
              "\n",
              "    [theme=dark] .colab-df-convert {\n",
              "      background-color: #3B4455;\n",
              "      fill: #D2E3FC;\n",
              "    }\n",
              "\n",
              "    [theme=dark] .colab-df-convert:hover {\n",
              "      background-color: #434B5C;\n",
              "      box-shadow: 0px 1px 3px 1px rgba(0, 0, 0, 0.15);\n",
              "      filter: drop-shadow(0px 1px 2px rgba(0, 0, 0, 0.3));\n",
              "      fill: #FFFFFF;\n",
              "    }\n",
              "  </style>\n",
              "\n",
              "      <script>\n",
              "        const buttonEl =\n",
              "          document.querySelector('#df-a136f738-9d41-4353-b3ce-c4238659f32d button.colab-df-convert');\n",
              "        buttonEl.style.display =\n",
              "          google.colab.kernel.accessAllowed ? 'block' : 'none';\n",
              "\n",
              "        async function convertToInteractive(key) {\n",
              "          const element = document.querySelector('#df-a136f738-9d41-4353-b3ce-c4238659f32d');\n",
              "          const dataTable =\n",
              "            await google.colab.kernel.invokeFunction('convertToInteractive',\n",
              "                                                     [key], {});\n",
              "          if (!dataTable) return;\n",
              "\n",
              "          const docLinkHtml = 'Like what you see? Visit the ' +\n",
              "            '<a target=\"_blank\" href=https://colab.research.google.com/notebooks/data_table.ipynb>data table notebook</a>'\n",
              "            + ' to learn more about interactive tables.';\n",
              "          element.innerHTML = '';\n",
              "          dataTable['output_type'] = 'display_data';\n",
              "          await google.colab.output.renderOutput(dataTable, element);\n",
              "          const docLink = document.createElement('div');\n",
              "          docLink.innerHTML = docLinkHtml;\n",
              "          element.appendChild(docLink);\n",
              "        }\n",
              "      </script>\n",
              "    </div>\n",
              "  </div>\n",
              "  "
            ]
          },
          "metadata": {},
          "execution_count": 20
        }
      ]
    },
    {
      "cell_type": "markdown",
      "metadata": {
        "id": "SxLksqpssnuR"
      },
      "source": [
        "# 0.2 data cleaning and wrangling"
      ]
    },
    {
      "cell_type": "markdown",
      "metadata": {
        "id": "7FvP8SQGsqa6"
      },
      "source": [
        "### turn gender into numeric"
      ]
    },
    {
      "cell_type": "code",
      "metadata": {
        "ExecuteTime": {
          "end_time": "2018-11-28T13:09:39.069804Z",
          "start_time": "2018-11-28T13:09:39.012148Z"
        },
        "id": "W28RcjATg12k"
      },
      "source": [
        "titanic[\"gender\"] = titanic.Sex.map({'male':0, 'female':1})\n"
      ],
      "execution_count": 29,
      "outputs": []
    },
    {
      "cell_type": "markdown",
      "metadata": {
        "id": "uRA3-q3DsuOi"
      },
      "source": [
        "### throw away data that you will not use"
      ]
    },
    {
      "cell_type": "code",
      "metadata": {
        "ExecuteTime": {
          "end_time": "2018-11-28T13:09:39.330446Z",
          "start_time": "2018-11-28T13:09:39.320109Z"
        },
        "id": "tIFPunfDg12m",
        "colab": {
          "base_uri": "https://localhost:8080/",
          "height": 424
        },
        "outputId": "5a4826f9-8d16-434a-f2da-2828edb49b99"
      },
      "source": [
        "titanic_short = titanic[[\"Pclass\",\"gender\",  \"Age\"]]\n",
        "titanic_short"
      ],
      "execution_count": 32,
      "outputs": [
        {
          "output_type": "execute_result",
          "data": {
            "text/plain": [
              "     Pclass  gender   Age\n",
              "0         3       0  22.0\n",
              "1         1       1  38.0\n",
              "2         3       1  26.0\n",
              "3         1       1  35.0\n",
              "4         3       0  35.0\n",
              "..      ...     ...   ...\n",
              "885       3       1  39.0\n",
              "886       2       0  27.0\n",
              "887       1       1  19.0\n",
              "889       1       0  26.0\n",
              "890       3       0  32.0\n",
              "\n",
              "[714 rows x 3 columns]"
            ],
            "text/html": [
              "\n",
              "  <div id=\"df-743e2f3d-a124-476d-beee-ff59e8cd0b2b\">\n",
              "    <div class=\"colab-df-container\">\n",
              "      <div>\n",
              "<style scoped>\n",
              "    .dataframe tbody tr th:only-of-type {\n",
              "        vertical-align: middle;\n",
              "    }\n",
              "\n",
              "    .dataframe tbody tr th {\n",
              "        vertical-align: top;\n",
              "    }\n",
              "\n",
              "    .dataframe thead th {\n",
              "        text-align: right;\n",
              "    }\n",
              "</style>\n",
              "<table border=\"1\" class=\"dataframe\">\n",
              "  <thead>\n",
              "    <tr style=\"text-align: right;\">\n",
              "      <th></th>\n",
              "      <th>Pclass</th>\n",
              "      <th>gender</th>\n",
              "      <th>Age</th>\n",
              "    </tr>\n",
              "  </thead>\n",
              "  <tbody>\n",
              "    <tr>\n",
              "      <th>0</th>\n",
              "      <td>3</td>\n",
              "      <td>0</td>\n",
              "      <td>22.0</td>\n",
              "    </tr>\n",
              "    <tr>\n",
              "      <th>1</th>\n",
              "      <td>1</td>\n",
              "      <td>1</td>\n",
              "      <td>38.0</td>\n",
              "    </tr>\n",
              "    <tr>\n",
              "      <th>2</th>\n",
              "      <td>3</td>\n",
              "      <td>1</td>\n",
              "      <td>26.0</td>\n",
              "    </tr>\n",
              "    <tr>\n",
              "      <th>3</th>\n",
              "      <td>1</td>\n",
              "      <td>1</td>\n",
              "      <td>35.0</td>\n",
              "    </tr>\n",
              "    <tr>\n",
              "      <th>4</th>\n",
              "      <td>3</td>\n",
              "      <td>0</td>\n",
              "      <td>35.0</td>\n",
              "    </tr>\n",
              "    <tr>\n",
              "      <th>...</th>\n",
              "      <td>...</td>\n",
              "      <td>...</td>\n",
              "      <td>...</td>\n",
              "    </tr>\n",
              "    <tr>\n",
              "      <th>885</th>\n",
              "      <td>3</td>\n",
              "      <td>1</td>\n",
              "      <td>39.0</td>\n",
              "    </tr>\n",
              "    <tr>\n",
              "      <th>886</th>\n",
              "      <td>2</td>\n",
              "      <td>0</td>\n",
              "      <td>27.0</td>\n",
              "    </tr>\n",
              "    <tr>\n",
              "      <th>887</th>\n",
              "      <td>1</td>\n",
              "      <td>1</td>\n",
              "      <td>19.0</td>\n",
              "    </tr>\n",
              "    <tr>\n",
              "      <th>889</th>\n",
              "      <td>1</td>\n",
              "      <td>0</td>\n",
              "      <td>26.0</td>\n",
              "    </tr>\n",
              "    <tr>\n",
              "      <th>890</th>\n",
              "      <td>3</td>\n",
              "      <td>0</td>\n",
              "      <td>32.0</td>\n",
              "    </tr>\n",
              "  </tbody>\n",
              "</table>\n",
              "<p>714 rows × 3 columns</p>\n",
              "</div>\n",
              "      <button class=\"colab-df-convert\" onclick=\"convertToInteractive('df-743e2f3d-a124-476d-beee-ff59e8cd0b2b')\"\n",
              "              title=\"Convert this dataframe to an interactive table.\"\n",
              "              style=\"display:none;\">\n",
              "        \n",
              "  <svg xmlns=\"http://www.w3.org/2000/svg\" height=\"24px\"viewBox=\"0 0 24 24\"\n",
              "       width=\"24px\">\n",
              "    <path d=\"M0 0h24v24H0V0z\" fill=\"none\"/>\n",
              "    <path d=\"M18.56 5.44l.94 2.06.94-2.06 2.06-.94-2.06-.94-.94-2.06-.94 2.06-2.06.94zm-11 1L8.5 8.5l.94-2.06 2.06-.94-2.06-.94L8.5 2.5l-.94 2.06-2.06.94zm10 10l.94 2.06.94-2.06 2.06-.94-2.06-.94-.94-2.06-.94 2.06-2.06.94z\"/><path d=\"M17.41 7.96l-1.37-1.37c-.4-.4-.92-.59-1.43-.59-.52 0-1.04.2-1.43.59L10.3 9.45l-7.72 7.72c-.78.78-.78 2.05 0 2.83L4 21.41c.39.39.9.59 1.41.59.51 0 1.02-.2 1.41-.59l7.78-7.78 2.81-2.81c.8-.78.8-2.07 0-2.86zM5.41 20L4 18.59l7.72-7.72 1.47 1.35L5.41 20z\"/>\n",
              "  </svg>\n",
              "      </button>\n",
              "      \n",
              "  <style>\n",
              "    .colab-df-container {\n",
              "      display:flex;\n",
              "      flex-wrap:wrap;\n",
              "      gap: 12px;\n",
              "    }\n",
              "\n",
              "    .colab-df-convert {\n",
              "      background-color: #E8F0FE;\n",
              "      border: none;\n",
              "      border-radius: 50%;\n",
              "      cursor: pointer;\n",
              "      display: none;\n",
              "      fill: #1967D2;\n",
              "      height: 32px;\n",
              "      padding: 0 0 0 0;\n",
              "      width: 32px;\n",
              "    }\n",
              "\n",
              "    .colab-df-convert:hover {\n",
              "      background-color: #E2EBFA;\n",
              "      box-shadow: 0px 1px 2px rgba(60, 64, 67, 0.3), 0px 1px 3px 1px rgba(60, 64, 67, 0.15);\n",
              "      fill: #174EA6;\n",
              "    }\n",
              "\n",
              "    [theme=dark] .colab-df-convert {\n",
              "      background-color: #3B4455;\n",
              "      fill: #D2E3FC;\n",
              "    }\n",
              "\n",
              "    [theme=dark] .colab-df-convert:hover {\n",
              "      background-color: #434B5C;\n",
              "      box-shadow: 0px 1px 3px 1px rgba(0, 0, 0, 0.15);\n",
              "      filter: drop-shadow(0px 1px 2px rgba(0, 0, 0, 0.3));\n",
              "      fill: #FFFFFF;\n",
              "    }\n",
              "  </style>\n",
              "\n",
              "      <script>\n",
              "        const buttonEl =\n",
              "          document.querySelector('#df-743e2f3d-a124-476d-beee-ff59e8cd0b2b button.colab-df-convert');\n",
              "        buttonEl.style.display =\n",
              "          google.colab.kernel.accessAllowed ? 'block' : 'none';\n",
              "\n",
              "        async function convertToInteractive(key) {\n",
              "          const element = document.querySelector('#df-743e2f3d-a124-476d-beee-ff59e8cd0b2b');\n",
              "          const dataTable =\n",
              "            await google.colab.kernel.invokeFunction('convertToInteractive',\n",
              "                                                     [key], {});\n",
              "          if (!dataTable) return;\n",
              "\n",
              "          const docLinkHtml = 'Like what you see? Visit the ' +\n",
              "            '<a target=\"_blank\" href=https://colab.research.google.com/notebooks/data_table.ipynb>data table notebook</a>'\n",
              "            + ' to learn more about interactive tables.';\n",
              "          element.innerHTML = '';\n",
              "          dataTable['output_type'] = 'display_data';\n",
              "          await google.colab.output.renderOutput(dataTable, element);\n",
              "          const docLink = document.createElement('div');\n",
              "          docLink.innerHTML = docLinkHtml;\n",
              "          element.appendChild(docLink);\n",
              "        }\n",
              "      </script>\n",
              "    </div>\n",
              "  </div>\n",
              "  "
            ]
          },
          "metadata": {},
          "execution_count": 32
        }
      ]
    },
    {
      "cell_type": "code",
      "metadata": {
        "ExecuteTime": {
          "end_time": "2018-11-28T13:09:39.541028Z",
          "start_time": "2018-11-28T13:09:39.530005Z"
        },
        "id": "yEpaxVgCg12o",
        "colab": {
          "base_uri": "https://localhost:8080/"
        },
        "outputId": "d7434118-bc6b-47a6-aedf-20e49c979645"
      },
      "source": [
        "titanic_short.values"
      ],
      "execution_count": 33,
      "outputs": [
        {
          "output_type": "execute_result",
          "data": {
            "text/plain": [
              "array([[ 3.,  0., 22.],\n",
              "       [ 1.,  1., 38.],\n",
              "       [ 3.,  1., 26.],\n",
              "       ...,\n",
              "       [ 1.,  1., 19.],\n",
              "       [ 1.,  0., 26.],\n",
              "       [ 3.,  0., 32.]])"
            ]
          },
          "metadata": {},
          "execution_count": 33
        }
      ]
    },
    {
      "cell_type": "markdown",
      "source": [
        "# IDEALLY GET TO HERE IN CLASS TOGETHER - the rest can just be left in the notebook for the students to inspect. Its the by-hand flow chart I made for the slides"
      ],
      "metadata": {
        "id": "aFzbJSrRHU2Z"
      }
    },
    {
      "cell_type": "markdown",
      "metadata": {
        "id": "-AZM8hC8s0WK"
      },
      "source": [
        "# 0.3 test the purity of various splits\n",
        "## first split"
      ]
    },
    {
      "cell_type": "markdown",
      "metadata": {
        "id": "MNAJzyWag12u"
      },
      "source": [
        "### split by gender"
      ]
    },
    {
      "cell_type": "code",
      "metadata": {
        "ExecuteTime": {
          "end_time": "2018-11-28T13:09:40.488815Z",
          "start_time": "2018-11-28T13:09:40.475944Z"
        },
        "run_control": {
          "marked": false
        },
        "id": "h_BcJqubg12u",
        "colab": {
          "base_uri": "https://localhost:8080/"
        },
        "outputId": "77d76d64-f9d0-46ed-9b4f-b428302ced49"
      },
      "source": [
        "print (\"Survived fraction\\n M     F \\n {0:.2f} {1:.2f}\".format\n",
        "    (((titanic_short.gender.values == 0) & (titanic.Survived.values == 1)).sum() * 1.0 / \n",
        "       (titanic_short.gender.values == 0).sum(),\n",
        "     ((titanic_short.gender.values == 1) & (titanic.Survived.values == 1)).sum() * 1.0 / \n",
        "       (titanic_short.gender.values == 1).sum()))"
      ],
      "execution_count": 34,
      "outputs": [
        {
          "output_type": "stream",
          "name": "stdout",
          "text": [
            "Survived fraction\n",
            " M     F \n",
            " 0.21 0.75\n"
          ]
        }
      ]
    },
    {
      "cell_type": "code",
      "metadata": {
        "ExecuteTime": {
          "end_time": "2018-11-28T13:09:40.731240Z",
          "start_time": "2018-11-28T13:09:40.724366Z"
        },
        "id": "Buxu_UpFg12w",
        "colab": {
          "base_uri": "https://localhost:8080/"
        },
        "outputId": "273246f9-2281-4564-acea-11534b501124"
      },
      "source": [
        "print (\"Died fraction\\n M     F \\n {0:.2f} {1:.2f}\".format\n",
        "    (((titanic_short.gender.values == 0) & (titanic.Survived.values == 0)).sum() * 1.0 / \n",
        "       (titanic_short.gender.values == 0).sum(),\n",
        "       ((titanic_short.gender.values == 1) & (titanic.Survived.values == 0)).sum() * 1.0 / \n",
        "      (titanic_short.gender.values == 1).sum()))"
      ],
      "execution_count": 35,
      "outputs": [
        {
          "output_type": "stream",
          "name": "stdout",
          "text": [
            "Died fraction\n",
            " M     F \n",
            " 0.79 0.25\n"
          ]
        }
      ]
    },
    {
      "cell_type": "markdown",
      "metadata": {
        "id": "knRmb0s1g12y"
      },
      "source": [
        "### split by age (at 6.5)"
      ]
    },
    {
      "cell_type": "code",
      "metadata": {
        "ExecuteTime": {
          "end_time": "2018-11-28T13:09:41.365283Z",
          "start_time": "2018-11-28T13:09:41.358825Z"
        },
        "id": "qNeFGsuzg12z",
        "colab": {
          "base_uri": "https://localhost:8080/"
        },
        "outputId": "0a1a0f22-7596-479f-da97-d3b2466a15ac"
      },
      "source": [
        "print (\"Survived fraction\\n >6.5  <6.5 \\n {0:.2f}  {1:.2f}\".format\n",
        "      (((titanic_short.Age.values >6.5) & (titanic.Survived.values == 1)).sum() * 1.0 / \n",
        "       (titanic_short.Age.values >6.5).sum(),\n",
        "      ((titanic_short.Age.values <=6.5) & (titanic.Survived.values == 1)).sum() * 1.0 / \n",
        "       (titanic_short.Age.values <=6.5).sum()))"
      ],
      "execution_count": 36,
      "outputs": [
        {
          "output_type": "stream",
          "name": "stdout",
          "text": [
            "Survived fraction\n",
            " >6.5  <6.5 \n",
            " 0.39  0.70\n"
          ]
        }
      ]
    },
    {
      "cell_type": "code",
      "metadata": {
        "ExecuteTime": {
          "end_time": "2018-11-28T13:09:41.800766Z",
          "start_time": "2018-11-28T13:09:41.788626Z"
        },
        "id": "CZZhLCPSg120",
        "colab": {
          "base_uri": "https://localhost:8080/"
        },
        "outputId": "f909b94f-ed11-44ab-c54a-4751520dfd66"
      },
      "source": [
        "print (\"Died fraction\\n >6.5  <6.5 \\n {0:.2f}  {1:.2f}\".format\n",
        "      (((titanic_short.Age.values >6.5) & (titanic.Survived.values == 0)).sum() * 1.0 / \n",
        "       (titanic_short.Age.values >6.5).sum(),\n",
        "      ((titanic_short.Age.values <=6.5) & (titanic.Survived.values == 0)).sum() * 1.0 / \n",
        "       (titanic_short.Age.values <=6.5).sum()))"
      ],
      "execution_count": 37,
      "outputs": [
        {
          "output_type": "stream",
          "name": "stdout",
          "text": [
            "Died fraction\n",
            " >6.5  <6.5 \n",
            " 0.61  0.30\n"
          ]
        }
      ]
    },
    {
      "cell_type": "markdown",
      "metadata": {
        "id": "wSRTJgwmg122"
      },
      "source": [
        "### split by travel class"
      ]
    },
    {
      "cell_type": "code",
      "metadata": {
        "ExecuteTime": {
          "end_time": "2018-11-28T13:09:42.656895Z",
          "start_time": "2018-11-28T13:09:42.642363Z"
        },
        "id": "Sms6s_E8g123",
        "colab": {
          "base_uri": "https://localhost:8080/"
        },
        "outputId": "63ac3f41-3f92-4b4e-f00a-d62c98a2056a"
      },
      "source": [
        "print (\"Survived fraction\\n 1st   2nd \\n {0:.2f}  {1:.2f}\".format\n",
        "     (((titanic_short.Pclass.values == 1) & (titanic.Survived.values == 1)).sum() * 1.0 / \n",
        "      (titanic_short.Pclass.values == 1).sum(),\n",
        "       ((titanic_short.Pclass.values == 2) & (titanic.Survived.values == 1)).sum() * 1.0 / \n",
        "      (titanic_short.Pclass.values == 2).sum()))"
      ],
      "execution_count": 38,
      "outputs": [
        {
          "output_type": "stream",
          "name": "stdout",
          "text": [
            "Survived fraction\n",
            " 1st   2nd \n",
            " 0.66  0.48\n"
          ]
        }
      ]
    },
    {
      "cell_type": "code",
      "metadata": {
        "ExecuteTime": {
          "end_time": "2018-11-28T13:09:43.049658Z",
          "start_time": "2018-11-28T13:09:43.044122Z"
        },
        "id": "KS6RfFx_g124",
        "colab": {
          "base_uri": "https://localhost:8080/"
        },
        "outputId": "73a3b854-bf5c-40d4-fe1d-4bd52cb4000e"
      },
      "source": [
        "print (\"Survived fraction\\n 2nd   3rd \\n {0:.2f}  {1:.2f}\".format\n",
        "      (((titanic_short.Pclass.values == 2) & (titanic.Survived.values == 1)).sum() * 1.0 / \n",
        "       (titanic_short.Pclass.values == 2).sum(),\n",
        "        ((titanic_short.Pclass.values == 3) & (titanic.Survived.values == 1)).sum() * 1.0 / \n",
        "      (titanic_short.Pclass.values == 3).sum()))"
      ],
      "execution_count": 39,
      "outputs": [
        {
          "output_type": "stream",
          "name": "stdout",
          "text": [
            "Survived fraction\n",
            " 2nd   3rd \n",
            " 0.48  0.24\n"
          ]
        }
      ]
    },
    {
      "cell_type": "code",
      "metadata": {
        "ExecuteTime": {
          "end_time": "2018-11-28T13:09:43.652574Z",
          "start_time": "2018-11-28T13:09:43.645860Z"
        },
        "id": "8unypVofg126",
        "colab": {
          "base_uri": "https://localhost:8080/"
        },
        "outputId": "76bd8b4a-df72-4eb3-ddaa-2b731d0ec06a"
      },
      "source": [
        "print (\"Survived fraction\\n 1st   3rd \\n {0:.2f}  {1:.2f}\".format\n",
        "      (((titanic_short.Pclass.values == 1) & (titanic.Survived.values == 1)).sum() * 1.0 / \n",
        "       (titanic_short.Pclass.values == 1).sum(),\n",
        "        ((titanic_short.Pclass.values == 3) & (titanic.Survived.values == 1)).sum() * 1.0 / \n",
        "      (titanic_short.Pclass.values == 3).sum()))"
      ],
      "execution_count": 40,
      "outputs": [
        {
          "output_type": "stream",
          "name": "stdout",
          "text": [
            "Survived fraction\n",
            " 1st   3rd \n",
            " 0.66  0.24\n"
          ]
        }
      ]
    },
    {
      "cell_type": "code",
      "metadata": {
        "ExecuteTime": {
          "end_time": "2018-11-28T13:09:44.245202Z",
          "start_time": "2018-11-28T13:09:44.230460Z"
        },
        "id": "CILoiJb9g127",
        "colab": {
          "base_uri": "https://localhost:8080/"
        },
        "outputId": "c244853e-7f30-4c35-8553-f4f96cf9c3a6"
      },
      "source": [
        "print (\"Survived fraction\\n 1st   2nd or 3rd \\n {0:.2f}  {1:.2f}\".format\n",
        "      (((titanic_short.Pclass.values == 1) & (titanic.Survived.values == 1)).sum() * 1.0 / \n",
        "       (titanic_short.Pclass.values == 1).sum(),\n",
        "        (((titanic_short.Pclass.values == 3) | (titanic_short.Pclass.values == 2)) & (titanic.Survived.values == 1)).sum() * 1.0 / \n",
        "      ((titanic_short.Pclass.values == 3) | (titanic_short.Pclass.values == 3)).sum()))"
      ],
      "execution_count": 41,
      "outputs": [
        {
          "output_type": "stream",
          "name": "stdout",
          "text": [
            "Survived fraction\n",
            " 1st   2nd or 3rd \n",
            " 0.66  0.47\n"
          ]
        }
      ]
    },
    {
      "cell_type": "markdown",
      "metadata": {
        "id": "TJBRNmgjg12-"
      },
      "source": [
        "# The purest split is by gender, so that is chosen as the first node"
      ]
    },
    {
      "cell_type": "markdown",
      "metadata": {
        "id": "1PaE2qUzg12_"
      },
      "source": [
        "# second split"
      ]
    },
    {
      "cell_type": "markdown",
      "metadata": {
        "id": "UHczabkDg12_"
      },
      "source": [
        "### by travel class"
      ]
    },
    {
      "cell_type": "code",
      "metadata": {
        "ExecuteTime": {
          "end_time": "2018-11-28T13:09:46.216158Z",
          "start_time": "2018-11-28T13:09:46.207263Z"
        },
        "run_control": {
          "marked": false
        },
        "id": "oT5_zuaRg13A",
        "colab": {
          "base_uri": "https://localhost:8080/"
        },
        "outputId": "e38d9611-0808-4361-c4b2-1e82e3cce5b6"
      },
      "source": [
        "print (\"Survived fraction of females: \\n 1st   2nd,3rd\\n {0:.2f}  {1:.2f}\".format\n",
        "       (((titanic_short.gender.values == 1) & \n",
        "        (titanic_short.Pclass.values == 1) & (titanic.Survived.values == 1)).sum() * 1.0 / \n",
        "       ((titanic_short.gender.values == 1) & (titanic_short.Pclass.values == 1)).sum(),\n",
        "        ((titanic_short.gender.values == 1) & \n",
        "        ~(titanic_short.Pclass.values == 1) & (titanic.Survived.values == 1)).sum() * 1.0 / \n",
        "       ((titanic_short.gender.values == 1) & ~(titanic_short.Pclass.values == 1)).sum()))"
      ],
      "execution_count": 42,
      "outputs": [
        {
          "output_type": "stream",
          "name": "stdout",
          "text": [
            "Survived fraction of females: \n",
            " 1st   2nd,3rd\n",
            " 0.96  0.65\n"
          ]
        }
      ]
    },
    {
      "cell_type": "code",
      "metadata": {
        "ExecuteTime": {
          "end_time": "2018-11-28T13:09:46.907705Z",
          "start_time": "2018-11-28T13:09:46.893404Z"
        },
        "id": "dIWg-4X2g13C",
        "colab": {
          "base_uri": "https://localhost:8080/"
        },
        "outputId": "274c800d-9117-462c-bbbd-a29dce1804fa"
      },
      "source": [
        "print (\"Survived fraction of males: \\n 1st   2nd,3rd\\n {0:.2f}  {1:.2f}\".format\n",
        "        (((titanic_short.gender.values == 0) & \n",
        "        (titanic_short.Pclass.values == 1) & (titanic.Survived.values == 1)).sum() * 1.0 / \n",
        "       ((titanic_short.gender.values == 0) & (titanic_short.Pclass.values == 1)).sum(), \n",
        "        ((titanic_short.gender.values == 0) & \n",
        "        (~(titanic_short.Pclass.values == 1)) & (titanic.Survived.values == 1)).sum() * 1.0 / \n",
        "       ((titanic_short.gender.values == 0) & (~(titanic_short.Pclass.values == 1))).sum() ))"
      ],
      "execution_count": 43,
      "outputs": [
        {
          "output_type": "stream",
          "name": "stdout",
          "text": [
            "Survived fraction of males: \n",
            " 1st   2nd,3rd\n",
            " 0.40  0.15\n"
          ]
        }
      ]
    },
    {
      "cell_type": "markdown",
      "metadata": {
        "ExecuteTime": {
          "end_time": "2017-12-12T08:47:52.293498",
          "start_time": "2017-12-12T08:47:52.289236"
        },
        "id": "VYJwqL7Eg13H"
      },
      "source": [
        "### by age"
      ]
    },
    {
      "cell_type": "code",
      "metadata": {
        "ExecuteTime": {
          "end_time": "2018-11-28T13:09:48.097535Z",
          "start_time": "2018-11-28T13:09:48.084522Z"
        },
        "id": "p51dnJGLg13J",
        "colab": {
          "base_uri": "https://localhost:8080/"
        },
        "outputId": "db4525df-3d15-4e6f-966a-749ce6e173f7"
      },
      "source": [
        "print (\"Survived fraction of females: \\n <6.5  >=6.5   \\n {0:.2f} {1:.2f}\".format\n",
        "        (((titanic_short.gender.values == 1) & \n",
        "        (titanic_short.Age.values < 6.5) & (titanic.Survived.values == 1)).sum() * 1.0 / \n",
        "       ((titanic_short.gender.values == 1) & (titanic_short.Age.values < 6.5)).sum(),\n",
        "      \n",
        "       ((titanic_short.gender.values == 1) & \n",
        "        (titanic_short.Age.values >= 6.5) & (titanic.Survived.values == 1)).sum() * 1.0 / \n",
        "       ((titanic_short.gender.values == 1) & (titanic_short.Age.values >= 6.5)).sum()))"
      ],
      "execution_count": 44,
      "outputs": [
        {
          "output_type": "stream",
          "name": "stdout",
          "text": [
            "Survived fraction of females: \n",
            " <6.5  >=6.5   \n",
            " 0.74 0.76\n"
          ]
        }
      ]
    },
    {
      "cell_type": "code",
      "metadata": {
        "ExecuteTime": {
          "end_time": "2018-11-28T13:09:48.650616Z",
          "start_time": "2018-11-28T13:09:48.639223Z"
        },
        "id": "mW9H41Mqg13K",
        "colab": {
          "base_uri": "https://localhost:8080/"
        },
        "outputId": "73b2876c-d6d7-4c05-e55d-00b102f4b4a4"
      },
      "source": [
        "print (\"Survived fraction of males: \\n <6.5 >=6.5   \\n {0:.2f}  {1:.2f}\".format\n",
        "     (((titanic_short.gender.values == 0) & \n",
        "        (titanic_short.Age.values < 6.5) & (titanic.Survived.values == 1)).sum() * 1.0 / \n",
        "       ((titanic_short.gender.values == 0) & (titanic_short.Age.values < 6.5)).sum(),\n",
        "     ((titanic_short.gender.values == 0) & \n",
        "        (titanic_short.Age.values >= 6.5) & (titanic.Survived.values == 1)).sum() * 1.0 / \n",
        "       ((titanic_short.gender.values == 0) & (titanic_short.Age.values >= 6.5)).sum()))"
      ],
      "execution_count": 45,
      "outputs": [
        {
          "output_type": "stream",
          "name": "stdout",
          "text": [
            "Survived fraction of males: \n",
            " <6.5 >=6.5   \n",
            " 0.67  0.18\n"
          ]
        }
      ]
    },
    {
      "cell_type": "markdown",
      "metadata": {
        "id": "oEWlCoRpg13M"
      },
      "source": [
        "## The purest split is \n",
        "## - for females by travel class\n",
        "## - for males by age"
      ]
    },
    {
      "cell_type": "markdown",
      "metadata": {
        "id": "7S2SN4dSsejR"
      },
      "source": [
        "# 0.4 actually run a tree model\n",
        "\n",
        "Below I run a tree model, a simple Decision tree. Check out the syntax of the call and the hyperparameters. Next you will run tree ensamble models by yourself for the homework, but the syntax is generally the same"
      ]
    },
    {
      "cell_type": "code",
      "metadata": {
        "ExecuteTime": {
          "end_time": "2018-11-28T13:09:50.794182Z",
          "start_time": "2018-11-28T13:09:49.925197Z"
        },
        "id": "JI9y8ccgg13N",
        "colab": {
          "base_uri": "https://localhost:8080/"
        },
        "outputId": "e522cc43-8a5a-4425-c1eb-215458b862c9"
      },
      "source": [
        "from sklearn import tree\n",
        "clf =  tree.DecisionTreeClassifier(max_depth=3, criterion=\"gini\", \n",
        "                        random_state=222).fit(titanic_short.values, \n",
        "                                              titanic[\"Survived\"])\n",
        "clf.score(titanic_short.values, titanic[\"Survived\"])"
      ],
      "execution_count": 46,
      "outputs": [
        {
          "output_type": "execute_result",
          "data": {
            "text/plain": [
              "0.8081232492997199"
            ]
          },
          "metadata": {},
          "execution_count": 46
        }
      ]
    },
    {
      "cell_type": "markdown",
      "metadata": {
        "id": "dJ9qzAzNsbcI"
      },
      "source": [
        "# 0.5 create the dendrogram viz"
      ]
    },
    {
      "cell_type": "code",
      "metadata": {
        "ExecuteTime": {
          "end_time": "2018-11-28T13:11:47.928354Z",
          "start_time": "2018-11-28T13:11:47.908993Z"
        },
        "id": "OepK1Xoog13P"
      },
      "source": [
        "import graphviz \n",
        "dot_data = tree.export_graphviz(clf, feature_names=titanic_short.columns, \n",
        "                                out_file=None) \n",
        "graph = graphviz.Source(dot_data) "
      ],
      "execution_count": 47,
      "outputs": []
    },
    {
      "cell_type": "code",
      "metadata": {
        "ExecuteTime": {
          "end_time": "2018-11-28T13:11:50.327060Z",
          "start_time": "2018-11-28T13:11:49.158795Z"
        },
        "id": "y4qLKPb1g13Q",
        "colab": {
          "base_uri": "https://localhost:8080/",
          "height": 539
        },
        "outputId": "ccd30874-f3ef-402f-de24-c576d1327980"
      },
      "source": [
        "graph"
      ],
      "execution_count": 48,
      "outputs": [
        {
          "output_type": "execute_result",
          "data": {
            "text/plain": [
              "<graphviz.files.Source at 0x7f014919b590>"
            ],
            "image/svg+xml": "<?xml version=\"1.0\" encoding=\"UTF-8\" standalone=\"no\"?>\n<!DOCTYPE svg PUBLIC \"-//W3C//DTD SVG 1.1//EN\"\n \"http://www.w3.org/Graphics/SVG/1.1/DTD/svg11.dtd\">\n<!-- Generated by graphviz version 2.40.1 (20161225.0304)\n -->\n<!-- Title: Tree Pages: 1 -->\n<svg width=\"1025pt\" height=\"373pt\"\n viewBox=\"0.00 0.00 1025.00 373.00\" xmlns=\"http://www.w3.org/2000/svg\" xmlns:xlink=\"http://www.w3.org/1999/xlink\">\n<g id=\"graph0\" class=\"graph\" transform=\"scale(1 1) rotate(0) translate(4 369)\">\n<title>Tree</title>\n<polygon fill=\"#ffffff\" stroke=\"transparent\" points=\"-4,4 -4,-369 1021,-369 1021,4 -4,4\"/>\n<!-- 0 -->\n<g id=\"node1\" class=\"node\">\n<title>0</title>\n<polygon fill=\"none\" stroke=\"#000000\" points=\"568.5,-365 436.5,-365 436.5,-297 568.5,-297 568.5,-365\"/>\n<text text-anchor=\"middle\" x=\"502.5\" y=\"-349.8\" font-family=\"Helvetica,sans-Serif\" font-size=\"14.00\" fill=\"#000000\">gender &lt;= 0.5</text>\n<text text-anchor=\"middle\" x=\"502.5\" y=\"-334.8\" font-family=\"Helvetica,sans-Serif\" font-size=\"14.00\" fill=\"#000000\">gini = 0.482</text>\n<text text-anchor=\"middle\" x=\"502.5\" y=\"-319.8\" font-family=\"Helvetica,sans-Serif\" font-size=\"14.00\" fill=\"#000000\">samples = 714</text>\n<text text-anchor=\"middle\" x=\"502.5\" y=\"-304.8\" font-family=\"Helvetica,sans-Serif\" font-size=\"14.00\" fill=\"#000000\">value = [424, 290]</text>\n</g>\n<!-- 1 -->\n<g id=\"node2\" class=\"node\">\n<title>1</title>\n<polygon fill=\"none\" stroke=\"#000000\" points=\"433.5,-261 309.5,-261 309.5,-193 433.5,-193 433.5,-261\"/>\n<text text-anchor=\"middle\" x=\"371.5\" y=\"-245.8\" font-family=\"Helvetica,sans-Serif\" font-size=\"14.00\" fill=\"#000000\">Age &lt;= 6.5</text>\n<text text-anchor=\"middle\" x=\"371.5\" y=\"-230.8\" font-family=\"Helvetica,sans-Serif\" font-size=\"14.00\" fill=\"#000000\">gini = 0.326</text>\n<text text-anchor=\"middle\" x=\"371.5\" y=\"-215.8\" font-family=\"Helvetica,sans-Serif\" font-size=\"14.00\" fill=\"#000000\">samples = 453</text>\n<text text-anchor=\"middle\" x=\"371.5\" y=\"-200.8\" font-family=\"Helvetica,sans-Serif\" font-size=\"14.00\" fill=\"#000000\">value = [360, 93]</text>\n</g>\n<!-- 0&#45;&gt;1 -->\n<g id=\"edge1\" class=\"edge\">\n<title>0&#45;&gt;1</title>\n<path fill=\"none\" stroke=\"#000000\" d=\"M459.6057,-296.9465C447.7307,-287.519 434.7259,-277.1946 422.4407,-267.4415\"/>\n<polygon fill=\"#000000\" stroke=\"#000000\" points=\"424.4989,-264.6066 414.4907,-261.13 420.1464,-270.089 424.4989,-264.6066\"/>\n<text text-anchor=\"middle\" x=\"417.3442\" y=\"-282.2666\" font-family=\"Helvetica,sans-Serif\" font-size=\"14.00\" fill=\"#000000\">True</text>\n</g>\n<!-- 8 -->\n<g id=\"node9\" class=\"node\">\n<title>8</title>\n<polygon fill=\"none\" stroke=\"#000000\" points=\"698.5,-261 574.5,-261 574.5,-193 698.5,-193 698.5,-261\"/>\n<text text-anchor=\"middle\" x=\"636.5\" y=\"-245.8\" font-family=\"Helvetica,sans-Serif\" font-size=\"14.00\" fill=\"#000000\">Pclass &lt;= 2.5</text>\n<text text-anchor=\"middle\" x=\"636.5\" y=\"-230.8\" font-family=\"Helvetica,sans-Serif\" font-size=\"14.00\" fill=\"#000000\">gini = 0.37</text>\n<text text-anchor=\"middle\" x=\"636.5\" y=\"-215.8\" font-family=\"Helvetica,sans-Serif\" font-size=\"14.00\" fill=\"#000000\">samples = 261</text>\n<text text-anchor=\"middle\" x=\"636.5\" y=\"-200.8\" font-family=\"Helvetica,sans-Serif\" font-size=\"14.00\" fill=\"#000000\">value = [64, 197]</text>\n</g>\n<!-- 0&#45;&gt;8 -->\n<g id=\"edge8\" class=\"edge\">\n<title>0&#45;&gt;8</title>\n<path fill=\"none\" stroke=\"#000000\" d=\"M546.3766,-296.9465C558.5235,-287.519 571.8262,-277.1946 584.3927,-267.4415\"/>\n<polygon fill=\"#000000\" stroke=\"#000000\" points=\"586.7709,-270.0262 592.5248,-261.13 582.479,-264.4963 586.7709,-270.0262\"/>\n<text text-anchor=\"middle\" x=\"589.3983\" y=\"-282.2337\" font-family=\"Helvetica,sans-Serif\" font-size=\"14.00\" fill=\"#000000\">False</text>\n</g>\n<!-- 2 -->\n<g id=\"node3\" class=\"node\">\n<title>2</title>\n<polygon fill=\"none\" stroke=\"#000000\" points=\"231,-157 124,-157 124,-89 231,-89 231,-157\"/>\n<text text-anchor=\"middle\" x=\"177.5\" y=\"-141.8\" font-family=\"Helvetica,sans-Serif\" font-size=\"14.00\" fill=\"#000000\">Pclass &lt;= 2.5</text>\n<text text-anchor=\"middle\" x=\"177.5\" y=\"-126.8\" font-family=\"Helvetica,sans-Serif\" font-size=\"14.00\" fill=\"#000000\">gini = 0.444</text>\n<text text-anchor=\"middle\" x=\"177.5\" y=\"-111.8\" font-family=\"Helvetica,sans-Serif\" font-size=\"14.00\" fill=\"#000000\">samples = 24</text>\n<text text-anchor=\"middle\" x=\"177.5\" y=\"-96.8\" font-family=\"Helvetica,sans-Serif\" font-size=\"14.00\" fill=\"#000000\">value = [8, 16]</text>\n</g>\n<!-- 1&#45;&gt;2 -->\n<g id=\"edge2\" class=\"edge\">\n<title>1&#45;&gt;2</title>\n<path fill=\"none\" stroke=\"#000000\" d=\"M309.3167,-193.6646C287.2051,-181.811 262.3105,-168.4654 240.1593,-156.5905\"/>\n<polygon fill=\"#000000\" stroke=\"#000000\" points=\"241.6412,-153.4138 231.1741,-151.7737 238.3339,-159.5832 241.6412,-153.4138\"/>\n</g>\n<!-- 5 -->\n<g id=\"node6\" class=\"node\">\n<title>5</title>\n<polygon fill=\"none\" stroke=\"#000000\" points=\"433.5,-157 309.5,-157 309.5,-89 433.5,-89 433.5,-157\"/>\n<text text-anchor=\"middle\" x=\"371.5\" y=\"-141.8\" font-family=\"Helvetica,sans-Serif\" font-size=\"14.00\" fill=\"#000000\">Pclass &lt;= 1.5</text>\n<text text-anchor=\"middle\" x=\"371.5\" y=\"-126.8\" font-family=\"Helvetica,sans-Serif\" font-size=\"14.00\" fill=\"#000000\">gini = 0.295</text>\n<text text-anchor=\"middle\" x=\"371.5\" y=\"-111.8\" font-family=\"Helvetica,sans-Serif\" font-size=\"14.00\" fill=\"#000000\">samples = 429</text>\n<text text-anchor=\"middle\" x=\"371.5\" y=\"-96.8\" font-family=\"Helvetica,sans-Serif\" font-size=\"14.00\" fill=\"#000000\">value = [352, 77]</text>\n</g>\n<!-- 1&#45;&gt;5 -->\n<g id=\"edge5\" class=\"edge\">\n<title>1&#45;&gt;5</title>\n<path fill=\"none\" stroke=\"#000000\" d=\"M371.5,-192.9465C371.5,-184.776 371.5,-175.9318 371.5,-167.3697\"/>\n<polygon fill=\"#000000\" stroke=\"#000000\" points=\"375.0001,-167.13 371.5,-157.13 368.0001,-167.13 375.0001,-167.13\"/>\n</g>\n<!-- 3 -->\n<g id=\"node4\" class=\"node\">\n<title>3</title>\n<polygon fill=\"none\" stroke=\"#000000\" points=\"107,-53 0,-53 0,0 107,0 107,-53\"/>\n<text text-anchor=\"middle\" x=\"53.5\" y=\"-37.8\" font-family=\"Helvetica,sans-Serif\" font-size=\"14.00\" fill=\"#000000\">gini = 0.0</text>\n<text text-anchor=\"middle\" x=\"53.5\" y=\"-22.8\" font-family=\"Helvetica,sans-Serif\" font-size=\"14.00\" fill=\"#000000\">samples = 10</text>\n<text text-anchor=\"middle\" x=\"53.5\" y=\"-7.8\" font-family=\"Helvetica,sans-Serif\" font-size=\"14.00\" fill=\"#000000\">value = [0, 10]</text>\n</g>\n<!-- 2&#45;&gt;3 -->\n<g id=\"edge3\" class=\"edge\">\n<title>2&#45;&gt;3</title>\n<path fill=\"none\" stroke=\"#000000\" d=\"M133.7822,-88.9777C121.5451,-79.4545 108.2645,-69.1191 96.0934,-59.6473\"/>\n<polygon fill=\"#000000\" stroke=\"#000000\" points=\"97.9125,-56.628 87.8711,-53.2485 93.6134,-62.1523 97.9125,-56.628\"/>\n</g>\n<!-- 4 -->\n<g id=\"node5\" class=\"node\">\n<title>4</title>\n<polygon fill=\"none\" stroke=\"#000000\" points=\"229.5,-53 125.5,-53 125.5,0 229.5,0 229.5,-53\"/>\n<text text-anchor=\"middle\" x=\"177.5\" y=\"-37.8\" font-family=\"Helvetica,sans-Serif\" font-size=\"14.00\" fill=\"#000000\">gini = 0.49</text>\n<text text-anchor=\"middle\" x=\"177.5\" y=\"-22.8\" font-family=\"Helvetica,sans-Serif\" font-size=\"14.00\" fill=\"#000000\">samples = 14</text>\n<text text-anchor=\"middle\" x=\"177.5\" y=\"-7.8\" font-family=\"Helvetica,sans-Serif\" font-size=\"14.00\" fill=\"#000000\">value = [8, 6]</text>\n</g>\n<!-- 2&#45;&gt;4 -->\n<g id=\"edge4\" class=\"edge\">\n<title>2&#45;&gt;4</title>\n<path fill=\"none\" stroke=\"#000000\" d=\"M177.5,-88.9777C177.5,-80.7364 177.5,-71.887 177.5,-63.5153\"/>\n<polygon fill=\"#000000\" stroke=\"#000000\" points=\"181.0001,-63.2484 177.5,-53.2485 174.0001,-63.2485 181.0001,-63.2484\"/>\n</g>\n<!-- 6 -->\n<g id=\"node7\" class=\"node\">\n<title>6</title>\n<polygon fill=\"none\" stroke=\"#000000\" points=\"363.5,-53 247.5,-53 247.5,0 363.5,0 363.5,-53\"/>\n<text text-anchor=\"middle\" x=\"305.5\" y=\"-37.8\" font-family=\"Helvetica,sans-Serif\" font-size=\"14.00\" fill=\"#000000\">gini = 0.473</text>\n<text text-anchor=\"middle\" x=\"305.5\" y=\"-22.8\" font-family=\"Helvetica,sans-Serif\" font-size=\"14.00\" fill=\"#000000\">samples = 99</text>\n<text text-anchor=\"middle\" x=\"305.5\" y=\"-7.8\" font-family=\"Helvetica,sans-Serif\" font-size=\"14.00\" fill=\"#000000\">value = [61, 38]</text>\n</g>\n<!-- 5&#45;&gt;6 -->\n<g id=\"edge6\" class=\"edge\">\n<title>5&#45;&gt;6</title>\n<path fill=\"none\" stroke=\"#000000\" d=\"M348.2309,-88.9777C342.156,-80.0954 335.5979,-70.5067 329.4865,-61.5711\"/>\n<polygon fill=\"#000000\" stroke=\"#000000\" points=\"332.3286,-59.5267 323.7943,-53.2485 326.5507,-63.4785 332.3286,-59.5267\"/>\n</g>\n<!-- 7 -->\n<g id=\"node8\" class=\"node\">\n<title>7</title>\n<polygon fill=\"none\" stroke=\"#000000\" points=\"505.5,-53 381.5,-53 381.5,0 505.5,0 505.5,-53\"/>\n<text text-anchor=\"middle\" x=\"443.5\" y=\"-37.8\" font-family=\"Helvetica,sans-Serif\" font-size=\"14.00\" fill=\"#000000\">gini = 0.208</text>\n<text text-anchor=\"middle\" x=\"443.5\" y=\"-22.8\" font-family=\"Helvetica,sans-Serif\" font-size=\"14.00\" fill=\"#000000\">samples = 330</text>\n<text text-anchor=\"middle\" x=\"443.5\" y=\"-7.8\" font-family=\"Helvetica,sans-Serif\" font-size=\"14.00\" fill=\"#000000\">value = [291, 39]</text>\n</g>\n<!-- 5&#45;&gt;7 -->\n<g id=\"edge7\" class=\"edge\">\n<title>5&#45;&gt;7</title>\n<path fill=\"none\" stroke=\"#000000\" d=\"M396.8845,-88.9777C403.58,-80.0039 410.8135,-70.3089 417.539,-61.295\"/>\n<polygon fill=\"#000000\" stroke=\"#000000\" points=\"420.3677,-63.3565 423.5426,-53.2485 414.7573,-59.1704 420.3677,-63.3565\"/>\n</g>\n<!-- 9 -->\n<g id=\"node10\" class=\"node\">\n<title>9</title>\n<polygon fill=\"none\" stroke=\"#000000\" points=\"694.5,-157 578.5,-157 578.5,-89 694.5,-89 694.5,-157\"/>\n<text text-anchor=\"middle\" x=\"636.5\" y=\"-141.8\" font-family=\"Helvetica,sans-Serif\" font-size=\"14.00\" fill=\"#000000\">Age &lt;= 2.5</text>\n<text text-anchor=\"middle\" x=\"636.5\" y=\"-126.8\" font-family=\"Helvetica,sans-Serif\" font-size=\"14.00\" fill=\"#000000\">gini = 0.107</text>\n<text text-anchor=\"middle\" x=\"636.5\" y=\"-111.8\" font-family=\"Helvetica,sans-Serif\" font-size=\"14.00\" fill=\"#000000\">samples = 159</text>\n<text text-anchor=\"middle\" x=\"636.5\" y=\"-96.8\" font-family=\"Helvetica,sans-Serif\" font-size=\"14.00\" fill=\"#000000\">value = [9, 150]</text>\n</g>\n<!-- 8&#45;&gt;9 -->\n<g id=\"edge9\" class=\"edge\">\n<title>8&#45;&gt;9</title>\n<path fill=\"none\" stroke=\"#000000\" d=\"M636.5,-192.9465C636.5,-184.776 636.5,-175.9318 636.5,-167.3697\"/>\n<polygon fill=\"#000000\" stroke=\"#000000\" points=\"640.0001,-167.13 636.5,-157.13 633.0001,-167.13 640.0001,-167.13\"/>\n</g>\n<!-- 12 -->\n<g id=\"node13\" class=\"node\">\n<title>12</title>\n<polygon fill=\"none\" stroke=\"#000000\" points=\"891.5,-157 775.5,-157 775.5,-89 891.5,-89 891.5,-157\"/>\n<text text-anchor=\"middle\" x=\"833.5\" y=\"-141.8\" font-family=\"Helvetica,sans-Serif\" font-size=\"14.00\" fill=\"#000000\">Age &lt;= 38.5</text>\n<text text-anchor=\"middle\" x=\"833.5\" y=\"-126.8\" font-family=\"Helvetica,sans-Serif\" font-size=\"14.00\" fill=\"#000000\">gini = 0.497</text>\n<text text-anchor=\"middle\" x=\"833.5\" y=\"-111.8\" font-family=\"Helvetica,sans-Serif\" font-size=\"14.00\" fill=\"#000000\">samples = 102</text>\n<text text-anchor=\"middle\" x=\"833.5\" y=\"-96.8\" font-family=\"Helvetica,sans-Serif\" font-size=\"14.00\" fill=\"#000000\">value = [55, 47]</text>\n</g>\n<!-- 8&#45;&gt;12 -->\n<g id=\"edge12\" class=\"edge\">\n<title>8&#45;&gt;12</title>\n<path fill=\"none\" stroke=\"#000000\" d=\"M698.5616,-194.2365C720.1709,-182.8286 744.5039,-169.9827 766.4958,-158.3728\"/>\n<polygon fill=\"#000000\" stroke=\"#000000\" points=\"768.23,-161.4151 775.4393,-153.6513 764.9619,-155.2248 768.23,-161.4151\"/>\n</g>\n<!-- 10 -->\n<g id=\"node11\" class=\"node\">\n<title>10</title>\n<polygon fill=\"none\" stroke=\"#000000\" points=\"623,-53 524,-53 524,0 623,0 623,-53\"/>\n<text text-anchor=\"middle\" x=\"573.5\" y=\"-37.8\" font-family=\"Helvetica,sans-Serif\" font-size=\"14.00\" fill=\"#000000\">gini = 0.5</text>\n<text text-anchor=\"middle\" x=\"573.5\" y=\"-22.8\" font-family=\"Helvetica,sans-Serif\" font-size=\"14.00\" fill=\"#000000\">samples = 2</text>\n<text text-anchor=\"middle\" x=\"573.5\" y=\"-7.8\" font-family=\"Helvetica,sans-Serif\" font-size=\"14.00\" fill=\"#000000\">value = [1, 1]</text>\n</g>\n<!-- 9&#45;&gt;10 -->\n<g id=\"edge10\" class=\"edge\">\n<title>9&#45;&gt;10</title>\n<path fill=\"none\" stroke=\"#000000\" d=\"M614.2886,-88.9777C608.5496,-80.187 602.3588,-70.7044 596.5767,-61.8477\"/>\n<polygon fill=\"#000000\" stroke=\"#000000\" points=\"599.3602,-59.7087 590.9627,-53.2485 593.4987,-63.5354 599.3602,-59.7087\"/>\n</g>\n<!-- 11 -->\n<g id=\"node12\" class=\"node\">\n<title>11</title>\n<polygon fill=\"none\" stroke=\"#000000\" points=\"757.5,-53 641.5,-53 641.5,0 757.5,0 757.5,-53\"/>\n<text text-anchor=\"middle\" x=\"699.5\" y=\"-37.8\" font-family=\"Helvetica,sans-Serif\" font-size=\"14.00\" fill=\"#000000\">gini = 0.097</text>\n<text text-anchor=\"middle\" x=\"699.5\" y=\"-22.8\" font-family=\"Helvetica,sans-Serif\" font-size=\"14.00\" fill=\"#000000\">samples = 157</text>\n<text text-anchor=\"middle\" x=\"699.5\" y=\"-7.8\" font-family=\"Helvetica,sans-Serif\" font-size=\"14.00\" fill=\"#000000\">value = [8, 149]</text>\n</g>\n<!-- 9&#45;&gt;11 -->\n<g id=\"edge11\" class=\"edge\">\n<title>9&#45;&gt;11</title>\n<path fill=\"none\" stroke=\"#000000\" d=\"M658.7114,-88.9777C664.4504,-80.187 670.6412,-70.7044 676.4233,-61.8477\"/>\n<polygon fill=\"#000000\" stroke=\"#000000\" points=\"679.5013,-63.5354 682.0373,-53.2485 673.6398,-59.7087 679.5013,-63.5354\"/>\n</g>\n<!-- 13 -->\n<g id=\"node14\" class=\"node\">\n<title>13</title>\n<polygon fill=\"none\" stroke=\"#000000\" points=\"891.5,-53 775.5,-53 775.5,0 891.5,0 891.5,-53\"/>\n<text text-anchor=\"middle\" x=\"833.5\" y=\"-37.8\" font-family=\"Helvetica,sans-Serif\" font-size=\"14.00\" fill=\"#000000\">gini = 0.5</text>\n<text text-anchor=\"middle\" x=\"833.5\" y=\"-22.8\" font-family=\"Helvetica,sans-Serif\" font-size=\"14.00\" fill=\"#000000\">samples = 90</text>\n<text text-anchor=\"middle\" x=\"833.5\" y=\"-7.8\" font-family=\"Helvetica,sans-Serif\" font-size=\"14.00\" fill=\"#000000\">value = [44, 46]</text>\n</g>\n<!-- 12&#45;&gt;13 -->\n<g id=\"edge13\" class=\"edge\">\n<title>12&#45;&gt;13</title>\n<path fill=\"none\" stroke=\"#000000\" d=\"M833.5,-88.9777C833.5,-80.7364 833.5,-71.887 833.5,-63.5153\"/>\n<polygon fill=\"#000000\" stroke=\"#000000\" points=\"837.0001,-63.2484 833.5,-53.2485 830.0001,-63.2485 837.0001,-63.2484\"/>\n</g>\n<!-- 14 -->\n<g id=\"node15\" class=\"node\">\n<title>14</title>\n<polygon fill=\"none\" stroke=\"#000000\" points=\"1017,-53 910,-53 910,0 1017,0 1017,-53\"/>\n<text text-anchor=\"middle\" x=\"963.5\" y=\"-37.8\" font-family=\"Helvetica,sans-Serif\" font-size=\"14.00\" fill=\"#000000\">gini = 0.153</text>\n<text text-anchor=\"middle\" x=\"963.5\" y=\"-22.8\" font-family=\"Helvetica,sans-Serif\" font-size=\"14.00\" fill=\"#000000\">samples = 12</text>\n<text text-anchor=\"middle\" x=\"963.5\" y=\"-7.8\" font-family=\"Helvetica,sans-Serif\" font-size=\"14.00\" fill=\"#000000\">value = [11, 1]</text>\n</g>\n<!-- 12&#45;&gt;14 -->\n<g id=\"edge14\" class=\"edge\">\n<title>12&#45;&gt;14</title>\n<path fill=\"none\" stroke=\"#000000\" d=\"M879.3331,-88.9777C892.2857,-79.3629 906.3535,-68.9203 919.2133,-59.3743\"/>\n<polygon fill=\"#000000\" stroke=\"#000000\" points=\"921.5224,-62.0193 927.4658,-53.2485 917.3501,-56.3986 921.5224,-62.0193\"/>\n</g>\n</g>\n</svg>\n"
          },
          "metadata": {},
          "execution_count": 48
        }
      ]
    },
    {
      "cell_type": "code",
      "metadata": {
        "ExecuteTime": {
          "end_time": "2017-12-12T10:14:58.113961",
          "start_time": "2017-12-12T10:14:57.944488"
        },
        "id": "hBaMY4rag13S",
        "colab": {
          "base_uri": "https://localhost:8080/",
          "height": 35
        },
        "outputId": "d3c6f030-4546-4d57-8b7d-3efec79399bb"
      },
      "source": [
        "graph.render(\"TitanicTree\")"
      ],
      "execution_count": 49,
      "outputs": [
        {
          "output_type": "execute_result",
          "data": {
            "text/plain": [
              "'TitanicTree.pdf'"
            ],
            "application/vnd.google.colaboratory.intrinsic+json": {
              "type": "string"
            }
          },
          "metadata": {},
          "execution_count": 49
        }
      ]
    },
    {
      "cell_type": "markdown",
      "source": [
        "## THIS IS WHERE THE HOMEWORK YOU DO BY YOURSELF STARTS"
      ],
      "metadata": {
        "id": "1Akj19Y9HfRu"
      }
    },
    {
      "cell_type": "markdown",
      "metadata": {
        "id": "idvKNoCvg13U"
      },
      "source": [
        "# 1 run ensamble method: \n",
        "## changing model to Random Forest"
      ]
    },
    {
      "cell_type": "code",
      "source": [
        "titanic_short"
      ],
      "metadata": {
        "id": "ivbe8OxCJqlR",
        "colab": {
          "base_uri": "https://localhost:8080/",
          "height": 424
        },
        "outputId": "fc06342a-0591-4d9e-b32f-9f4412ae8a95"
      },
      "execution_count": 50,
      "outputs": [
        {
          "output_type": "execute_result",
          "data": {
            "text/plain": [
              "     Pclass  gender   Age\n",
              "0         3       0  22.0\n",
              "1         1       1  38.0\n",
              "2         3       1  26.0\n",
              "3         1       1  35.0\n",
              "4         3       0  35.0\n",
              "..      ...     ...   ...\n",
              "885       3       1  39.0\n",
              "886       2       0  27.0\n",
              "887       1       1  19.0\n",
              "889       1       0  26.0\n",
              "890       3       0  32.0\n",
              "\n",
              "[714 rows x 3 columns]"
            ],
            "text/html": [
              "\n",
              "  <div id=\"df-d6dec51f-9f2a-43b1-802b-bb5c1717fe05\">\n",
              "    <div class=\"colab-df-container\">\n",
              "      <div>\n",
              "<style scoped>\n",
              "    .dataframe tbody tr th:only-of-type {\n",
              "        vertical-align: middle;\n",
              "    }\n",
              "\n",
              "    .dataframe tbody tr th {\n",
              "        vertical-align: top;\n",
              "    }\n",
              "\n",
              "    .dataframe thead th {\n",
              "        text-align: right;\n",
              "    }\n",
              "</style>\n",
              "<table border=\"1\" class=\"dataframe\">\n",
              "  <thead>\n",
              "    <tr style=\"text-align: right;\">\n",
              "      <th></th>\n",
              "      <th>Pclass</th>\n",
              "      <th>gender</th>\n",
              "      <th>Age</th>\n",
              "    </tr>\n",
              "  </thead>\n",
              "  <tbody>\n",
              "    <tr>\n",
              "      <th>0</th>\n",
              "      <td>3</td>\n",
              "      <td>0</td>\n",
              "      <td>22.0</td>\n",
              "    </tr>\n",
              "    <tr>\n",
              "      <th>1</th>\n",
              "      <td>1</td>\n",
              "      <td>1</td>\n",
              "      <td>38.0</td>\n",
              "    </tr>\n",
              "    <tr>\n",
              "      <th>2</th>\n",
              "      <td>3</td>\n",
              "      <td>1</td>\n",
              "      <td>26.0</td>\n",
              "    </tr>\n",
              "    <tr>\n",
              "      <th>3</th>\n",
              "      <td>1</td>\n",
              "      <td>1</td>\n",
              "      <td>35.0</td>\n",
              "    </tr>\n",
              "    <tr>\n",
              "      <th>4</th>\n",
              "      <td>3</td>\n",
              "      <td>0</td>\n",
              "      <td>35.0</td>\n",
              "    </tr>\n",
              "    <tr>\n",
              "      <th>...</th>\n",
              "      <td>...</td>\n",
              "      <td>...</td>\n",
              "      <td>...</td>\n",
              "    </tr>\n",
              "    <tr>\n",
              "      <th>885</th>\n",
              "      <td>3</td>\n",
              "      <td>1</td>\n",
              "      <td>39.0</td>\n",
              "    </tr>\n",
              "    <tr>\n",
              "      <th>886</th>\n",
              "      <td>2</td>\n",
              "      <td>0</td>\n",
              "      <td>27.0</td>\n",
              "    </tr>\n",
              "    <tr>\n",
              "      <th>887</th>\n",
              "      <td>1</td>\n",
              "      <td>1</td>\n",
              "      <td>19.0</td>\n",
              "    </tr>\n",
              "    <tr>\n",
              "      <th>889</th>\n",
              "      <td>1</td>\n",
              "      <td>0</td>\n",
              "      <td>26.0</td>\n",
              "    </tr>\n",
              "    <tr>\n",
              "      <th>890</th>\n",
              "      <td>3</td>\n",
              "      <td>0</td>\n",
              "      <td>32.0</td>\n",
              "    </tr>\n",
              "  </tbody>\n",
              "</table>\n",
              "<p>714 rows × 3 columns</p>\n",
              "</div>\n",
              "      <button class=\"colab-df-convert\" onclick=\"convertToInteractive('df-d6dec51f-9f2a-43b1-802b-bb5c1717fe05')\"\n",
              "              title=\"Convert this dataframe to an interactive table.\"\n",
              "              style=\"display:none;\">\n",
              "        \n",
              "  <svg xmlns=\"http://www.w3.org/2000/svg\" height=\"24px\"viewBox=\"0 0 24 24\"\n",
              "       width=\"24px\">\n",
              "    <path d=\"M0 0h24v24H0V0z\" fill=\"none\"/>\n",
              "    <path d=\"M18.56 5.44l.94 2.06.94-2.06 2.06-.94-2.06-.94-.94-2.06-.94 2.06-2.06.94zm-11 1L8.5 8.5l.94-2.06 2.06-.94-2.06-.94L8.5 2.5l-.94 2.06-2.06.94zm10 10l.94 2.06.94-2.06 2.06-.94-2.06-.94-.94-2.06-.94 2.06-2.06.94z\"/><path d=\"M17.41 7.96l-1.37-1.37c-.4-.4-.92-.59-1.43-.59-.52 0-1.04.2-1.43.59L10.3 9.45l-7.72 7.72c-.78.78-.78 2.05 0 2.83L4 21.41c.39.39.9.59 1.41.59.51 0 1.02-.2 1.41-.59l7.78-7.78 2.81-2.81c.8-.78.8-2.07 0-2.86zM5.41 20L4 18.59l7.72-7.72 1.47 1.35L5.41 20z\"/>\n",
              "  </svg>\n",
              "      </button>\n",
              "      \n",
              "  <style>\n",
              "    .colab-df-container {\n",
              "      display:flex;\n",
              "      flex-wrap:wrap;\n",
              "      gap: 12px;\n",
              "    }\n",
              "\n",
              "    .colab-df-convert {\n",
              "      background-color: #E8F0FE;\n",
              "      border: none;\n",
              "      border-radius: 50%;\n",
              "      cursor: pointer;\n",
              "      display: none;\n",
              "      fill: #1967D2;\n",
              "      height: 32px;\n",
              "      padding: 0 0 0 0;\n",
              "      width: 32px;\n",
              "    }\n",
              "\n",
              "    .colab-df-convert:hover {\n",
              "      background-color: #E2EBFA;\n",
              "      box-shadow: 0px 1px 2px rgba(60, 64, 67, 0.3), 0px 1px 3px 1px rgba(60, 64, 67, 0.15);\n",
              "      fill: #174EA6;\n",
              "    }\n",
              "\n",
              "    [theme=dark] .colab-df-convert {\n",
              "      background-color: #3B4455;\n",
              "      fill: #D2E3FC;\n",
              "    }\n",
              "\n",
              "    [theme=dark] .colab-df-convert:hover {\n",
              "      background-color: #434B5C;\n",
              "      box-shadow: 0px 1px 3px 1px rgba(0, 0, 0, 0.15);\n",
              "      filter: drop-shadow(0px 1px 2px rgba(0, 0, 0, 0.3));\n",
              "      fill: #FFFFFF;\n",
              "    }\n",
              "  </style>\n",
              "\n",
              "      <script>\n",
              "        const buttonEl =\n",
              "          document.querySelector('#df-d6dec51f-9f2a-43b1-802b-bb5c1717fe05 button.colab-df-convert');\n",
              "        buttonEl.style.display =\n",
              "          google.colab.kernel.accessAllowed ? 'block' : 'none';\n",
              "\n",
              "        async function convertToInteractive(key) {\n",
              "          const element = document.querySelector('#df-d6dec51f-9f2a-43b1-802b-bb5c1717fe05');\n",
              "          const dataTable =\n",
              "            await google.colab.kernel.invokeFunction('convertToInteractive',\n",
              "                                                     [key], {});\n",
              "          if (!dataTable) return;\n",
              "\n",
              "          const docLinkHtml = 'Like what you see? Visit the ' +\n",
              "            '<a target=\"_blank\" href=https://colab.research.google.com/notebooks/data_table.ipynb>data table notebook</a>'\n",
              "            + ' to learn more about interactive tables.';\n",
              "          element.innerHTML = '';\n",
              "          dataTable['output_type'] = 'display_data';\n",
              "          await google.colab.output.renderOutput(dataTable, element);\n",
              "          const docLink = document.createElement('div');\n",
              "          docLink.innerHTML = docLinkHtml;\n",
              "          element.appendChild(docLink);\n",
              "        }\n",
              "      </script>\n",
              "    </div>\n",
              "  </div>\n",
              "  "
            ]
          },
          "metadata": {},
          "execution_count": 50
        }
      ]
    },
    {
      "cell_type": "code",
      "source": [
        "from sklearn.model_selection import train_test_split\n",
        "x_train, x_test, y_train, y_test = train_test_split(titanic_short.values, titanic[\"Survived\"], test_size=0.25)\n",
        "x_train, x_test, y_train, y_test"
      ],
      "metadata": {
        "id": "cbTFDdHeJJEP"
      },
      "execution_count": null,
      "outputs": []
    },
    {
      "cell_type": "code",
      "source": [
        "x_train.shape"
      ],
      "metadata": {
        "colab": {
          "base_uri": "https://localhost:8080/"
        },
        "id": "OHs3MpHmX4o3",
        "outputId": "e369d6ae-3fd4-47ac-b62e-14a3f76200d8"
      },
      "execution_count": 225,
      "outputs": [
        {
          "output_type": "execute_result",
          "data": {
            "text/plain": [
              "(535, 3)"
            ]
          },
          "metadata": {},
          "execution_count": 225
        }
      ]
    },
    {
      "cell_type": "code",
      "source": [
        "x_test.shape"
      ],
      "metadata": {
        "colab": {
          "base_uri": "https://localhost:8080/"
        },
        "id": "wNJKw9l2YD7I",
        "outputId": "b73b5c75-ec1e-4b60-9f6d-ce57c2a576ff"
      },
      "execution_count": 226,
      "outputs": [
        {
          "output_type": "execute_result",
          "data": {
            "text/plain": [
              "(179, 3)"
            ]
          },
          "metadata": {},
          "execution_count": 226
        }
      ]
    },
    {
      "cell_type": "code",
      "source": [
        "y_train.shape"
      ],
      "metadata": {
        "colab": {
          "base_uri": "https://localhost:8080/"
        },
        "id": "MrzRfc05YJN4",
        "outputId": "3e21720b-c6a5-432f-865e-54f0029578c2"
      },
      "execution_count": 227,
      "outputs": [
        {
          "output_type": "execute_result",
          "data": {
            "text/plain": [
              "(535,)"
            ]
          },
          "metadata": {},
          "execution_count": 227
        }
      ]
    },
    {
      "cell_type": "markdown",
      "source": [
        "# 1. Split the data into a training and a test set"
      ],
      "metadata": {
        "id": "GWipFAtyJE7h"
      }
    },
    {
      "cell_type": "code",
      "metadata": {
        "ExecuteTime": {
          "end_time": "2018-11-28T13:09:16.763505Z",
          "start_time": "2018-11-28T13:09:16.733856Z"
        },
        "id": "efrFemIHg13U",
        "colab": {
          "base_uri": "https://localhost:8080/"
        },
        "outputId": "e218825a-709a-4791-92bf-ed7e6cdc8214"
      },
      "source": [
        "from sklearn import ensemble\n",
        "rf =  ensemble.RandomForestClassifier(max_depth=6, criterion=\"gini\", random_state=433).fit(titanic_short.values, titanic[\"Survived\"])\n",
        "\n",
        "print (\"train score %.2f\"%rf.score(x_train, y_train),\n",
        "       \"test score %.2f\"%rf.score(x_test, y_test))"
      ],
      "execution_count": 202,
      "outputs": [
        {
          "output_type": "stream",
          "name": "stdout",
          "text": [
            "train score 0.88 test score 0.85\n"
          ]
        }
      ]
    },
    {
      "cell_type": "markdown",
      "source": [
        "## change the hyper parameters and check the train and test score"
      ],
      "metadata": {
        "id": "WXzxUvziH2Jo"
      }
    },
    {
      "cell_type": "markdown",
      "metadata": {
        "id": "44eq5WgPg13V"
      },
      "source": [
        "changing max depth and check the score of the model"
      ]
    },
    {
      "cell_type": "code",
      "metadata": {
        "ExecuteTime": {
          "end_time": "2018-11-28T13:09:18.181974Z",
          "start_time": "2018-11-28T13:09:18.155416Z"
        },
        "id": "E2ZxOEvPg13W",
        "colab": {
          "base_uri": "https://localhost:8080/"
        },
        "outputId": "7b548612-5699-4133-8074-5c595b5dad67"
      },
      "source": [
        "rf =  ensemble.RandomForestClassifier(max_depth=4, criterion=\"gini\", random_state=433).fit(titanic_short.values, titanic[\"Survived\"])\n",
        "print (\"train score %.2f\"%rf.score(x_train, y_train),\n",
        "       \"test score %.2f\"%rf.score(x_test, y_test))"
      ],
      "execution_count": 196,
      "outputs": [
        {
          "output_type": "stream",
          "name": "stdout",
          "text": [
            "train score 0.84 test score 0.82\n"
          ]
        }
      ]
    },
    {
      "cell_type": "markdown",
      "source": [
        "try another max depth and check the score of the model"
      ],
      "metadata": {
        "id": "sVl_POUoIzaG"
      }
    },
    {
      "cell_type": "code",
      "metadata": {
        "ExecuteTime": {
          "end_time": "2018-11-28T13:09:18.413903Z",
          "start_time": "2018-11-28T13:09:18.378558Z"
        },
        "id": "7dbi9T2mg13Y",
        "colab": {
          "base_uri": "https://localhost:8080/"
        },
        "outputId": "f27be1b4-c20a-4926-e24e-98f1e2d09731"
      },
      "source": [
        "rf =  ensemble.RandomForestClassifier(max_depth=10, criterion=\"gini\", random_state=433).fit(titanic_short.values, titanic[\"Survived\"])\n",
        "print (\"train score %.2f\"%rf.score(x_train, y_train),\n",
        "       \"test score %.2f\"%rf.score(x_test, y_test))"
      ],
      "execution_count": 201,
      "outputs": [
        {
          "output_type": "stream",
          "name": "stdout",
          "text": [
            "train score 0.91 test score 0.86\n"
          ]
        }
      ]
    },
    {
      "cell_type": "markdown",
      "source": [
        "Which model is better? why? what would you report as your model accuracy?\n",
        "\n",
        "The first model is better. The train score is closest to 1, and the difference between the train score and the test score is only 0.03."
      ],
      "metadata": {
        "id": "qZXqOQtDKVXm"
      }
    },
    {
      "cell_type": "markdown",
      "metadata": {
        "id": "0Ae1iLdag13Z"
      },
      "source": [
        "## changing model: do the same with the Gradient Boosted Trees"
      ]
    },
    {
      "cell_type": "code",
      "metadata": {
        "ExecuteTime": {
          "end_time": "2018-11-28T13:05:53.724656Z",
          "start_time": "2018-11-28T13:05:53.574109Z"
        },
        "id": "An_1eIupg13a",
        "colab": {
          "base_uri": "https://localhost:8080/"
        },
        "outputId": "70f3631a-475e-44f1-834d-05b39f81e3c6"
      },
      "source": [
        "gbt =  ensemble.GradientBoostingClassifier(max_depth=3, random_state=433).fit(titanic_short.values, titanic[\"Survived\"])\n",
        "print (\"score %.2f\"%gbt.score(titanic_short.values, titanic[\"Survived\"]))"
      ],
      "execution_count": 221,
      "outputs": [
        {
          "output_type": "stream",
          "name": "stdout",
          "text": [
            "score 0.86\n"
          ]
        }
      ]
    },
    {
      "cell_type": "code",
      "source": [
        "gbt =  ensemble.GradientBoostingClassifier(max_depth=2, random_state=433).fit(titanic_short.values, titanic[\"Survived\"])\n",
        "print (\"score %.2f\"%gbt.score(titanic_short.values, titanic[\"Survived\"]))"
      ],
      "metadata": {
        "id": "xVsSuGBcKmU3",
        "colab": {
          "base_uri": "https://localhost:8080/"
        },
        "outputId": "f12e8664-f366-4cf4-f444-77e631e3e2bc"
      },
      "execution_count": 222,
      "outputs": [
        {
          "output_type": "stream",
          "name": "stdout",
          "text": [
            "score 0.83\n"
          ]
        }
      ]
    },
    {
      "cell_type": "code",
      "source": [
        "gbt =  ensemble.GradientBoostingClassifier(max_depth=6, random_state=433).fit(titanic_short.values, titanic[\"Survived\"])\n",
        "print (\"score %.2f\"%gbt.score(titanic_short.values, titanic[\"Survived\"]))"
      ],
      "metadata": {
        "colab": {
          "base_uri": "https://localhost:8080/"
        },
        "id": "S3KreLPiVHwW",
        "outputId": "e4ac2f43-caa8-41c1-d676-82d41364e7be"
      },
      "execution_count": 223,
      "outputs": [
        {
          "output_type": "stream",
          "name": "stdout",
          "text": [
            "score 0.90\n"
          ]
        }
      ]
    },
    {
      "cell_type": "markdown",
      "metadata": {
        "id": "8PI0S_w_zaYw"
      },
      "source": [
        "# 2 feature importance"
      ]
    },
    {
      "cell_type": "markdown",
      "source": [
        "Calculate the feature importance and their uncertainties for the Random Forest:\n",
        "\n",
        "*   the feature importance of the model overall is contained in `rf.feature_importances_'\n",
        "*   the feature importance of each tree in the forest is obtained by\n",
        "\n",
        "\n",
        "1.  extracting the i'th tree from the forest as `tree = rf.estimatorss[i]'\n",
        "2.   extracting the features importance for that tree as tree.feature_importances_\n",
        "\n",
        "this way, one can calculate the variance or standard deviation of the importance of each feature"
      ],
      "metadata": {
        "id": "58NkEdw1Y6oA"
      }
    },
    {
      "cell_type": "code",
      "source": [
        "rf.feature_importances_"
      ],
      "metadata": {
        "colab": {
          "base_uri": "https://localhost:8080/"
        },
        "id": "8oP0thjLcNYY",
        "outputId": "0214945d-3f52-44da-c42b-62b36dee8934"
      },
      "execution_count": 228,
      "outputs": [
        {
          "output_type": "execute_result",
          "data": {
            "text/plain": [
              "array([0.23715059, 0.44422521, 0.3186242 ])"
            ]
          },
          "metadata": {},
          "execution_count": 228
        }
      ]
    },
    {
      "cell_type": "code",
      "source": [
        "gbt.feature_importances_"
      ],
      "metadata": {
        "colab": {
          "base_uri": "https://localhost:8080/"
        },
        "id": "wfkyIhN1gEzq",
        "outputId": "c81a1274-04a5-4a15-b5ee-68fcc0ec2cf1"
      },
      "execution_count": 235,
      "outputs": [
        {
          "output_type": "execute_result",
          "data": {
            "text/plain": [
              "array([0.2118804 , 0.41420012, 0.37391947])"
            ]
          },
          "metadata": {},
          "execution_count": 235
        }
      ]
    },
    {
      "cell_type": "code",
      "source": [
        "# calculate the error on the feature importance as the standard deviation of the feature importance for the trees in the forest\n",
        "fistd = np.std([tree.feature_importances_ for tree in rf.estimators_], # in the [] build a \"list comprehension statement\" that results in a list of one feature importance vector for each tree in the forest\n",
        "             axis=0)\n",
        "print(\"Random Forest feature importance\")\n",
        "for f, fi, s in zip (titanic_short.columns, rf.feature_importances_, fistd):\n",
        "  print (f, fi.round(2), \"+/-\", s.round(2))"
      ],
      "metadata": {
        "colab": {
          "base_uri": "https://localhost:8080/"
        },
        "id": "RJwIA50zXL5Y",
        "outputId": "f6fa11db-e8c9-40b3-b218-ca3b29750326"
      },
      "execution_count": 233,
      "outputs": [
        {
          "output_type": "stream",
          "name": "stdout",
          "text": [
            "Random Forest feature importance\n",
            "Pclass 0.24 +/- 0.07\n",
            "gender 0.44 +/- 0.1\n",
            "Age 0.32 +/- 0.06\n"
          ]
        }
      ]
    },
    {
      "cell_type": "code",
      "source": [
        "indices = np.argsort(rf.feature_importances_)\n",
        "pl.figure()\n",
        "pl.title(\"Feature importances (Random Trees)\")\n",
        "pl.barh(np.arange(rf.feature_importances_.shape[0]), \n",
        "        rf.feature_importances_[indices],\n",
        "       xerr=fistd[indices], align=\"center\")\n",
        "pl.xticks(range(rf.feature_importances_.shape[0]), indices)\n",
        "pl.yticks(range(rf.feature_importances_.shape[0]), \n",
        "          labels=titanic_short.columns[indices])\n",
        "pl.xlim(0, 1)\n",
        "pl.show()"
      ],
      "metadata": {
        "colab": {
          "base_uri": "https://localhost:8080/",
          "height": 281
        },
        "id": "UAUwX171bfBB",
        "outputId": "3d1cfc6c-bd12-4635-ff18-a486cdd2a452"
      },
      "execution_count": 239,
      "outputs": [
        {
          "output_type": "display_data",
          "data": {
            "text/plain": [
              "<Figure size 432x288 with 1 Axes>"
            ],
            "image/png": "[encoded data removed]"
          },
          "metadata": {
            "needs_background": "light"
          }
        }
      ]
    }
  ]
}