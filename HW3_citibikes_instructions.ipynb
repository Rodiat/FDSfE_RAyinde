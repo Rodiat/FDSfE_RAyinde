{
  "nbformat": 4,
  "nbformat_minor": 0,
  "metadata": {
    "colab": {
      "provenance": [],
      "authorship_tag": "ABX9TyOELt51qmTq7HMAU5qTXc7c",
      "include_colab_link": true
    },
    "kernelspec": {
      "name": "python3",
      "display_name": "Python 3"
    },
    "language_info": {
      "name": "python"
    }
  },
  "cells": [
    {
      "cell_type": "markdown",
      "metadata": {
        "id": "view-in-github",
        "colab_type": "text"
      },
      "source": [
        "<a href=\"https://colab.research.google.com/github/Rodiat/FDSfE_RAyinde/blob/main/HW3_citibikes_instructions.ipynb\" target=\"_parent\"><img src=\"https://colab.research.google.com/assets/colab-badge.svg\" alt=\"Open In Colab\"/></a>"
      ]
    },
    {
      "cell_type": "code",
      "execution_count": 2,
      "metadata": {
        "id": "rQ2BS5DTZuJu"
      },
      "outputs": [],
      "source": [
        "import matplotlib.pyplot as plt\n",
        "import pandas as pd\n",
        "import numpy as np\n",
        "from scipy import stats"
      ]
    },
    {
      "cell_type": "code",
      "source": [
        "pvalue = 0.05"
      ],
      "metadata": {
        "id": "taoKt7Jh2nkl"
      },
      "execution_count": 3,
      "outputs": []
    },
    {
      "cell_type": "markdown",
      "source": [
        "NULL Hypothesis"
      ],
      "metadata": {
        "id": "2GTwoX1ZanQJ"
      }
    },
    {
      "cell_type": "code",
      "source": [
        "datestring = '201905'\n",
        "cbMay19 = pd.read_csv(\"https://s3.amazonaws.com/tripdata/\"+ datestring + \"-citibike-tripdata.csv.zip\")\n",
        "cbMay19"
      ],
      "metadata": {
        "id": "3NRbe7YiGeJi"
      },
      "execution_count": null,
      "outputs": []
    },
    {
      "cell_type": "code",
      "source": [
        "cbMay19.describe()"
      ],
      "metadata": {
        "id": "HSKzViqPHfS5"
      },
      "execution_count": null,
      "outputs": []
    },
    {
      "cell_type": "markdown",
      "source": [
        "The statistical values of the dataframe."
      ],
      "metadata": {
        "id": "BPfgds76awTg"
      }
    },
    {
      "cell_type": "code",
      "source": [
        "cbMay19.head()"
      ],
      "metadata": {
        "id": "keZtj0Sma2hv"
      },
      "execution_count": null,
      "outputs": []
    },
    {
      "cell_type": "markdown",
      "source": [
        "The first five rows of the dataframe."
      ],
      "metadata": {
        "id": "OlUSmOHra68f"
      }
    },
    {
      "cell_type": "code",
      "source": [
        "cbMay19.tail()"
      ],
      "metadata": {
        "id": "4-B9K5yza9pi"
      },
      "execution_count": null,
      "outputs": []
    },
    {
      "cell_type": "markdown",
      "source": [
        "The last five rows of the dataframe."
      ],
      "metadata": {
        "id": "zDAxX8cAbAr5"
      }
    },
    {
      "cell_type": "code",
      "source": [
        "cbMay19.hist(column = \"tripduration\");\n",
        "#plt.ticklabel_format(style='plain')"
      ],
      "metadata": {
        "colab": {
          "base_uri": "https://localhost:8080/",
          "height": 294
        },
        "id": "lTIAsTiVIC6K",
        "outputId": "3dc27891-009a-42a2-bfe3-3c83031c4ffc"
      },
      "execution_count": 6,
      "outputs": [
        {
          "output_type": "display_data",
          "data": {
            "text/plain": [
              "<Figure size 432x288 with 1 Axes>"
            ],
            "image/png": "[encoded data removed]"
          },
          "metadata": {
            "needs_background": "light"
          }
        }
      ]
    },
    {
      "cell_type": "markdown",
      "source": [
        "Figure 1: This is the plot for the trip duration."
      ],
      "metadata": {
        "id": "Ob6pzCHVMBov"
      }
    },
    {
      "cell_type": "code",
      "source": [
        "cbMay19_clean = cbMay19[cbMay19[\"tripduration\"] < 1440]\n",
        "cbMay19_clean.hist(column = \"tripduration\");\n",
        "plt.xlabel(\"trip duration in minutes\");\n",
        "plt.ylabel(\"number of trips\");"
      ],
      "metadata": {
        "colab": {
          "base_uri": "https://localhost:8080/",
          "height": 295
        },
        "id": "UCXRFAcvNyfb",
        "outputId": "71f3bce2-786a-4b9a-c8fb-7780f59fcfbd"
      },
      "execution_count": 8,
      "outputs": [
        {
          "output_type": "display_data",
          "data": {
            "text/plain": [
              "<Figure size 432x288 with 1 Axes>"
            ],
            "image/png": "[encoded data removed]"
          },
          "metadata": {
            "needs_background": "light"
          }
        }
      ]
    },
    {
      "cell_type": "markdown",
      "source": [
        "Figure 2: This is the plot for the trip duration where any value greater than 1440 has been removed. "
      ],
      "metadata": {
        "id": "98NYyQzkbrLP"
      }
    },
    {
      "cell_type": "code",
      "source": [
        "cbMay19_female = cbMay19_clean[cbMay19_clean[\"gender\"] == 2]\n",
        "cbMay19_female"
      ],
      "metadata": {
        "id": "PP4jhTnlQ0sR",
        "colab": {
          "base_uri": "https://localhost:8080/",
          "height": 765
        },
        "outputId": "7938588b-8a8a-4b8b-f849-3351f1ea7f39"
      },
      "execution_count": 39,
      "outputs": [
        {
          "output_type": "execute_result",
          "data": {
            "text/plain": [
              "         tripduration                 starttime                  stoptime  \\\n",
              "10                236  2019-05-01 00:01:36.4020  2019-05-01 00:05:33.1980   \n",
              "12                536  2019-05-01 00:01:44.6580  2019-05-01 00:10:41.3390   \n",
              "20                290  2019-05-01 00:02:27.8000  2019-05-01 00:07:18.1110   \n",
              "22                553  2019-05-01 00:02:37.0480  2019-05-01 00:11:50.9870   \n",
              "30                355  2019-05-01 00:03:23.7070  2019-05-01 00:09:18.8550   \n",
              "...               ...                       ...                       ...   \n",
              "1924554           699  2019-05-31 23:59:40.5130  2019-06-01 00:11:20.1020   \n",
              "1924556           432  2019-05-31 23:59:42.1250  2019-06-01 00:06:54.9420   \n",
              "1924558           304  2019-05-31 23:59:45.5760  2019-06-01 00:04:50.4620   \n",
              "1924559           324  2019-05-31 23:59:46.4650  2019-06-01 00:05:11.1630   \n",
              "1924562           964  2019-05-31 23:59:55.5500  2019-06-01 00:15:59.8680   \n",
              "\n",
              "         start station id             start station name  \\\n",
              "10                   3232            Bond St & Fulton St   \n",
              "12                    243        Fulton St & Rockwell Pl   \n",
              "20                    346            Bank St & Hudson St   \n",
              "22                    448               W 37 St & 10 Ave   \n",
              "30                    325                E 19 St & 3 Ave   \n",
              "...                   ...                            ...   \n",
              "1924554               368             Carmine St & 6 Ave   \n",
              "1924556               358  Christopher St & Greenwich St   \n",
              "1924558              3175        W 70 St & Amsterdam Ave   \n",
              "1924559              2003                1 Ave & E 18 St   \n",
              "1924562               285             Broadway & E 14 St   \n",
              "\n",
              "         start station latitude  start station longitude  end station id  \\\n",
              "10                    40.689622               -73.983043            3411   \n",
              "12                    40.688410               -73.979458             397   \n",
              "20                    40.736529               -74.006180             168   \n",
              "22                    40.756604               -73.997901             485   \n",
              "30                    40.736245               -73.984738             438   \n",
              "...                         ...                      ...             ...   \n",
              "1924554               40.730386               -74.002150             470   \n",
              "1924556               40.732916               -74.007114             405   \n",
              "1924558               40.777480               -73.982886             423   \n",
              "1924559               40.733812               -73.980544             536   \n",
              "1924562               40.734546               -73.990741            3656   \n",
              "\n",
              "                      end station name  end station latitude  \\\n",
              "10                 Bond St & Bergen St             40.684967   \n",
              "12            Fulton St & Clermont Ave             40.684157   \n",
              "20                     W 18 St & 6 Ave             40.739713   \n",
              "22                     W 37 St & 5 Ave             40.750380   \n",
              "30                 St Marks Pl & 1 Ave             40.727791   \n",
              "...                                ...                   ...   \n",
              "1924554                W 20 St & 8 Ave             40.743453   \n",
              "1924556  Washington St & Gansevoort St             40.739323   \n",
              "1924558                W 54 St & 9 Ave             40.765849   \n",
              "1924559                1 Ave & E 30 St             40.741444   \n",
              "1924562              E 2 St & Avenue A             40.723077   \n",
              "\n",
              "         end station longitude  bikeid    usertype  birth year  gender  \n",
              "10                  -73.986208   34411  Subscriber        1957       2  \n",
              "12                  -73.969223   30962  Subscriber        1974       2  \n",
              "20                  -73.994564   30209  Subscriber        1984       2  \n",
              "22                  -73.983390   21028  Subscriber        1989       2  \n",
              "30                  -73.985649   25468  Subscriber        1990       2  \n",
              "...                        ...     ...         ...         ...     ...  \n",
              "1924554             -74.000040   16373  Subscriber        1976       2  \n",
              "1924556             -74.008119   34352    Customer        1985       2  \n",
              "1924558             -73.986905   32285  Subscriber        1987       2  \n",
              "1924559             -73.975361   33874  Subscriber        1994       2  \n",
              "1924562             -73.985836   32565  Subscriber        1992       2  \n",
              "\n",
              "[376590 rows x 15 columns]"
            ],
            "text/html": [
              "\n",
              "  <div id=\"df-186e6237-0a28-461c-9fe4-55c763f8d049\">\n",
              "    <div class=\"colab-df-container\">\n",
              "      <div>\n",
              "<style scoped>\n",
              "    .dataframe tbody tr th:only-of-type {\n",
              "        vertical-align: middle;\n",
              "    }\n",
              "\n",
              "    .dataframe tbody tr th {\n",
              "        vertical-align: top;\n",
              "    }\n",
              "\n",
              "    .dataframe thead th {\n",
              "        text-align: right;\n",
              "    }\n",
              "</style>\n",
              "<table border=\"1\" class=\"dataframe\">\n",
              "  <thead>\n",
              "    <tr style=\"text-align: right;\">\n",
              "      <th></th>\n",
              "      <th>tripduration</th>\n",
              "      <th>starttime</th>\n",
              "      <th>stoptime</th>\n",
              "      <th>start station id</th>\n",
              "      <th>start station name</th>\n",
              "      <th>start station latitude</th>\n",
              "      <th>start station longitude</th>\n",
              "      <th>end station id</th>\n",
              "      <th>end station name</th>\n",
              "      <th>end station latitude</th>\n",
              "      <th>end station longitude</th>\n",
              "      <th>bikeid</th>\n",
              "      <th>usertype</th>\n",
              "      <th>birth year</th>\n",
              "      <th>gender</th>\n",
              "    </tr>\n",
              "  </thead>\n",
              "  <tbody>\n",
              "    <tr>\n",
              "      <th>10</th>\n",
              "      <td>236</td>\n",
              "      <td>2019-05-01 00:01:36.4020</td>\n",
              "      <td>2019-05-01 00:05:33.1980</td>\n",
              "      <td>3232</td>\n",
              "      <td>Bond St &amp; Fulton St</td>\n",
              "      <td>40.689622</td>\n",
              "      <td>-73.983043</td>\n",
              "      <td>3411</td>\n",
              "      <td>Bond St &amp; Bergen St</td>\n",
              "      <td>40.684967</td>\n",
              "      <td>-73.986208</td>\n",
              "      <td>34411</td>\n",
              "      <td>Subscriber</td>\n",
              "      <td>1957</td>\n",
              "      <td>2</td>\n",
              "    </tr>\n",
              "    <tr>\n",
              "      <th>12</th>\n",
              "      <td>536</td>\n",
              "      <td>2019-05-01 00:01:44.6580</td>\n",
              "      <td>2019-05-01 00:10:41.3390</td>\n",
              "      <td>243</td>\n",
              "      <td>Fulton St &amp; Rockwell Pl</td>\n",
              "      <td>40.688410</td>\n",
              "      <td>-73.979458</td>\n",
              "      <td>397</td>\n",
              "      <td>Fulton St &amp; Clermont Ave</td>\n",
              "      <td>40.684157</td>\n",
              "      <td>-73.969223</td>\n",
              "      <td>30962</td>\n",
              "      <td>Subscriber</td>\n",
              "      <td>1974</td>\n",
              "      <td>2</td>\n",
              "    </tr>\n",
              "    <tr>\n",
              "      <th>20</th>\n",
              "      <td>290</td>\n",
              "      <td>2019-05-01 00:02:27.8000</td>\n",
              "      <td>2019-05-01 00:07:18.1110</td>\n",
              "      <td>346</td>\n",
              "      <td>Bank St &amp; Hudson St</td>\n",
              "      <td>40.736529</td>\n",
              "      <td>-74.006180</td>\n",
              "      <td>168</td>\n",
              "      <td>W 18 St &amp; 6 Ave</td>\n",
              "      <td>40.739713</td>\n",
              "      <td>-73.994564</td>\n",
              "      <td>30209</td>\n",
              "      <td>Subscriber</td>\n",
              "      <td>1984</td>\n",
              "      <td>2</td>\n",
              "    </tr>\n",
              "    <tr>\n",
              "      <th>22</th>\n",
              "      <td>553</td>\n",
              "      <td>2019-05-01 00:02:37.0480</td>\n",
              "      <td>2019-05-01 00:11:50.9870</td>\n",
              "      <td>448</td>\n",
              "      <td>W 37 St &amp; 10 Ave</td>\n",
              "      <td>40.756604</td>\n",
              "      <td>-73.997901</td>\n",
              "      <td>485</td>\n",
              "      <td>W 37 St &amp; 5 Ave</td>\n",
              "      <td>40.750380</td>\n",
              "      <td>-73.983390</td>\n",
              "      <td>21028</td>\n",
              "      <td>Subscriber</td>\n",
              "      <td>1989</td>\n",
              "      <td>2</td>\n",
              "    </tr>\n",
              "    <tr>\n",
              "      <th>30</th>\n",
              "      <td>355</td>\n",
              "      <td>2019-05-01 00:03:23.7070</td>\n",
              "      <td>2019-05-01 00:09:18.8550</td>\n",
              "      <td>325</td>\n",
              "      <td>E 19 St &amp; 3 Ave</td>\n",
              "      <td>40.736245</td>\n",
              "      <td>-73.984738</td>\n",
              "      <td>438</td>\n",
              "      <td>St Marks Pl &amp; 1 Ave</td>\n",
              "      <td>40.727791</td>\n",
              "      <td>-73.985649</td>\n",
              "      <td>25468</td>\n",
              "      <td>Subscriber</td>\n",
              "      <td>1990</td>\n",
              "      <td>2</td>\n",
              "    </tr>\n",
              "    <tr>\n",
              "      <th>...</th>\n",
              "      <td>...</td>\n",
              "      <td>...</td>\n",
              "      <td>...</td>\n",
              "      <td>...</td>\n",
              "      <td>...</td>\n",
              "      <td>...</td>\n",
              "      <td>...</td>\n",
              "      <td>...</td>\n",
              "      <td>...</td>\n",
              "      <td>...</td>\n",
              "      <td>...</td>\n",
              "      <td>...</td>\n",
              "      <td>...</td>\n",
              "      <td>...</td>\n",
              "      <td>...</td>\n",
              "    </tr>\n",
              "    <tr>\n",
              "      <th>1924554</th>\n",
              "      <td>699</td>\n",
              "      <td>2019-05-31 23:59:40.5130</td>\n",
              "      <td>2019-06-01 00:11:20.1020</td>\n",
              "      <td>368</td>\n",
              "      <td>Carmine St &amp; 6 Ave</td>\n",
              "      <td>40.730386</td>\n",
              "      <td>-74.002150</td>\n",
              "      <td>470</td>\n",
              "      <td>W 20 St &amp; 8 Ave</td>\n",
              "      <td>40.743453</td>\n",
              "      <td>-74.000040</td>\n",
              "      <td>16373</td>\n",
              "      <td>Subscriber</td>\n",
              "      <td>1976</td>\n",
              "      <td>2</td>\n",
              "    </tr>\n",
              "    <tr>\n",
              "      <th>1924556</th>\n",
              "      <td>432</td>\n",
              "      <td>2019-05-31 23:59:42.1250</td>\n",
              "      <td>2019-06-01 00:06:54.9420</td>\n",
              "      <td>358</td>\n",
              "      <td>Christopher St &amp; Greenwich St</td>\n",
              "      <td>40.732916</td>\n",
              "      <td>-74.007114</td>\n",
              "      <td>405</td>\n",
              "      <td>Washington St &amp; Gansevoort St</td>\n",
              "      <td>40.739323</td>\n",
              "      <td>-74.008119</td>\n",
              "      <td>34352</td>\n",
              "      <td>Customer</td>\n",
              "      <td>1985</td>\n",
              "      <td>2</td>\n",
              "    </tr>\n",
              "    <tr>\n",
              "      <th>1924558</th>\n",
              "      <td>304</td>\n",
              "      <td>2019-05-31 23:59:45.5760</td>\n",
              "      <td>2019-06-01 00:04:50.4620</td>\n",
              "      <td>3175</td>\n",
              "      <td>W 70 St &amp; Amsterdam Ave</td>\n",
              "      <td>40.777480</td>\n",
              "      <td>-73.982886</td>\n",
              "      <td>423</td>\n",
              "      <td>W 54 St &amp; 9 Ave</td>\n",
              "      <td>40.765849</td>\n",
              "      <td>-73.986905</td>\n",
              "      <td>32285</td>\n",
              "      <td>Subscriber</td>\n",
              "      <td>1987</td>\n",
              "      <td>2</td>\n",
              "    </tr>\n",
              "    <tr>\n",
              "      <th>1924559</th>\n",
              "      <td>324</td>\n",
              "      <td>2019-05-31 23:59:46.4650</td>\n",
              "      <td>2019-06-01 00:05:11.1630</td>\n",
              "      <td>2003</td>\n",
              "      <td>1 Ave &amp; E 18 St</td>\n",
              "      <td>40.733812</td>\n",
              "      <td>-73.980544</td>\n",
              "      <td>536</td>\n",
              "      <td>1 Ave &amp; E 30 St</td>\n",
              "      <td>40.741444</td>\n",
              "      <td>-73.975361</td>\n",
              "      <td>33874</td>\n",
              "      <td>Subscriber</td>\n",
              "      <td>1994</td>\n",
              "      <td>2</td>\n",
              "    </tr>\n",
              "    <tr>\n",
              "      <th>1924562</th>\n",
              "      <td>964</td>\n",
              "      <td>2019-05-31 23:59:55.5500</td>\n",
              "      <td>2019-06-01 00:15:59.8680</td>\n",
              "      <td>285</td>\n",
              "      <td>Broadway &amp; E 14 St</td>\n",
              "      <td>40.734546</td>\n",
              "      <td>-73.990741</td>\n",
              "      <td>3656</td>\n",
              "      <td>E 2 St &amp; Avenue A</td>\n",
              "      <td>40.723077</td>\n",
              "      <td>-73.985836</td>\n",
              "      <td>32565</td>\n",
              "      <td>Subscriber</td>\n",
              "      <td>1992</td>\n",
              "      <td>2</td>\n",
              "    </tr>\n",
              "  </tbody>\n",
              "</table>\n",
              "<p>376590 rows × 15 columns</p>\n",
              "</div>\n",
              "      <button class=\"colab-df-convert\" onclick=\"convertToInteractive('df-186e6237-0a28-461c-9fe4-55c763f8d049')\"\n",
              "              title=\"Convert this dataframe to an interactive table.\"\n",
              "              style=\"display:none;\">\n",
              "        \n",
              "  <svg xmlns=\"http://www.w3.org/2000/svg\" height=\"24px\"viewBox=\"0 0 24 24\"\n",
              "       width=\"24px\">\n",
              "    <path d=\"M0 0h24v24H0V0z\" fill=\"none\"/>\n",
              "    <path d=\"M18.56 5.44l.94 2.06.94-2.06 2.06-.94-2.06-.94-.94-2.06-.94 2.06-2.06.94zm-11 1L8.5 8.5l.94-2.06 2.06-.94-2.06-.94L8.5 2.5l-.94 2.06-2.06.94zm10 10l.94 2.06.94-2.06 2.06-.94-2.06-.94-.94-2.06-.94 2.06-2.06.94z\"/><path d=\"M17.41 7.96l-1.37-1.37c-.4-.4-.92-.59-1.43-.59-.52 0-1.04.2-1.43.59L10.3 9.45l-7.72 7.72c-.78.78-.78 2.05 0 2.83L4 21.41c.39.39.9.59 1.41.59.51 0 1.02-.2 1.41-.59l7.78-7.78 2.81-2.81c.8-.78.8-2.07 0-2.86zM5.41 20L4 18.59l7.72-7.72 1.47 1.35L5.41 20z\"/>\n",
              "  </svg>\n",
              "      </button>\n",
              "      \n",
              "  <style>\n",
              "    .colab-df-container {\n",
              "      display:flex;\n",
              "      flex-wrap:wrap;\n",
              "      gap: 12px;\n",
              "    }\n",
              "\n",
              "    .colab-df-convert {\n",
              "      background-color: #E8F0FE;\n",
              "      border: none;\n",
              "      border-radius: 50%;\n",
              "      cursor: pointer;\n",
              "      display: none;\n",
              "      fill: #1967D2;\n",
              "      height: 32px;\n",
              "      padding: 0 0 0 0;\n",
              "      width: 32px;\n",
              "    }\n",
              "\n",
              "    .colab-df-convert:hover {\n",
              "      background-color: #E2EBFA;\n",
              "      box-shadow: 0px 1px 2px rgba(60, 64, 67, 0.3), 0px 1px 3px 1px rgba(60, 64, 67, 0.15);\n",
              "      fill: #174EA6;\n",
              "    }\n",
              "\n",
              "    [theme=dark] .colab-df-convert {\n",
              "      background-color: #3B4455;\n",
              "      fill: #D2E3FC;\n",
              "    }\n",
              "\n",
              "    [theme=dark] .colab-df-convert:hover {\n",
              "      background-color: #434B5C;\n",
              "      box-shadow: 0px 1px 3px 1px rgba(0, 0, 0, 0.15);\n",
              "      filter: drop-shadow(0px 1px 2px rgba(0, 0, 0, 0.3));\n",
              "      fill: #FFFFFF;\n",
              "    }\n",
              "  </style>\n",
              "\n",
              "      <script>\n",
              "        const buttonEl =\n",
              "          document.querySelector('#df-186e6237-0a28-461c-9fe4-55c763f8d049 button.colab-df-convert');\n",
              "        buttonEl.style.display =\n",
              "          google.colab.kernel.accessAllowed ? 'block' : 'none';\n",
              "\n",
              "        async function convertToInteractive(key) {\n",
              "          const element = document.querySelector('#df-186e6237-0a28-461c-9fe4-55c763f8d049');\n",
              "          const dataTable =\n",
              "            await google.colab.kernel.invokeFunction('convertToInteractive',\n",
              "                                                     [key], {});\n",
              "          if (!dataTable) return;\n",
              "\n",
              "          const docLinkHtml = 'Like what you see? Visit the ' +\n",
              "            '<a target=\"_blank\" href=https://colab.research.google.com/notebooks/data_table.ipynb>data table notebook</a>'\n",
              "            + ' to learn more about interactive tables.';\n",
              "          element.innerHTML = '';\n",
              "          dataTable['output_type'] = 'display_data';\n",
              "          await google.colab.output.renderOutput(dataTable, element);\n",
              "          const docLink = document.createElement('div');\n",
              "          docLink.innerHTML = docLinkHtml;\n",
              "          element.appendChild(docLink);\n",
              "        }\n",
              "      </script>\n",
              "    </div>\n",
              "  </div>\n",
              "  "
            ]
          },
          "metadata": {},
          "execution_count": 39
        }
      ]
    },
    {
      "cell_type": "markdown",
      "source": [
        "Creates a new sample of only female users."
      ],
      "metadata": {
        "id": "lHL19g1qcE-K"
      }
    },
    {
      "cell_type": "code",
      "source": [
        "cbMay19_male = cbMay19[cbMay19[\"gender\"] == 1]\n",
        "cbMay19_male"
      ],
      "metadata": {
        "id": "UhInnk2pRXBp",
        "colab": {
          "base_uri": "https://localhost:8080/",
          "height": 870
        },
        "outputId": "e7e139b0-85b6-4829-c16e-0fb2844c1257"
      },
      "execution_count": 38,
      "outputs": [
        {
          "output_type": "execute_result",
          "data": {
            "text/plain": [
              "         tripduration                 starttime                  stoptime  \\\n",
              "0                 139  2019-05-01 00:00:01.9010  2019-05-01 00:02:21.5170   \n",
              "2                2308  2019-05-01 00:00:04.6270  2019-05-01 00:38:33.1710   \n",
              "3                 143  2019-05-01 00:00:19.3340  2019-05-01 00:02:42.5200   \n",
              "4                 138  2019-05-01 00:00:22.1840  2019-05-01 00:02:40.6480   \n",
              "5                1598  2019-05-01 00:00:47.5650  2019-05-01 00:27:26.4150   \n",
              "...               ...                       ...                       ...   \n",
              "1924551           233  2019-05-31 23:59:28.4400  2019-06-01 00:03:21.5050   \n",
              "1924553           824  2019-05-31 23:59:29.8370  2019-06-01 00:13:13.8450   \n",
              "1924555           432  2019-05-31 23:59:41.6790  2019-06-01 00:06:54.2000   \n",
              "1924557          2819  2019-05-31 23:59:45.4930  2019-06-01 00:46:45.1570   \n",
              "1924560          1926  2019-05-31 23:59:51.5060  2019-06-01 00:31:58.3920   \n",
              "\n",
              "         start station id         start station name  start station latitude  \\\n",
              "0                     447            8 Ave & W 52 St               40.763707   \n",
              "2                    3093       N 6 St & Bedford Ave               40.717452   \n",
              "3                    3486  Schermerhorn St & Bond St               40.688417   \n",
              "4                     388           W 26 St & 10 Ave               40.749718   \n",
              "5                     310        State St & Smith St               40.689269   \n",
              "...                   ...                        ...                     ...   \n",
              "1924551              3232        Bond St & Fulton St               40.689622   \n",
              "1924553              3117    Franklin St & Dupont St               40.735640   \n",
              "1924555               382    University Pl & E 14 St               40.734927   \n",
              "1924557               436   Hancock St & Bedford Ave               40.682166   \n",
              "1924560               146       Hudson St & Reade St               40.716250   \n",
              "\n",
              "         start station longitude  end station id            end station name  \\\n",
              "0                     -73.985162             423             W 54 St & 9 Ave   \n",
              "2                     -73.958509            3676  Van Brunt St & Van Dyke St   \n",
              "3                     -73.984517            3412      Pacific St & Nevins St   \n",
              "4                     -74.002950             494             W 26 St & 8 Ave   \n",
              "5                     -73.989129            3322               12 St & 4 Ave   \n",
              "...                          ...             ...                         ...   \n",
              "1924551               -73.983043            3411         Bond St & Bergen St   \n",
              "1924553               -73.958660            3093        N 6 St & Bedford Ave   \n",
              "1924555               -73.992005             507             E 25 St & 2 Ave   \n",
              "1924557               -73.953990             436    Hancock St & Bedford Ave   \n",
              "1924560               -74.009106             422            W 59 St & 10 Ave   \n",
              "\n",
              "         end station latitude  end station longitude  bikeid    usertype  \\\n",
              "0                   40.765849             -73.986905   31170  Subscriber   \n",
              "2                   40.675833             -74.014726   33369  Subscriber   \n",
              "3                   40.685376             -73.983021   32041  Subscriber   \n",
              "4                   40.747348             -73.997236   35237  Subscriber   \n",
              "5                   40.668603             -73.990439   16614    Customer   \n",
              "...                       ...                    ...     ...         ...   \n",
              "1924551             40.684967             -73.986208   34972  Subscriber   \n",
              "1924553             40.717452             -73.958509   15228  Subscriber   \n",
              "1924555             40.739126             -73.979738   21562  Subscriber   \n",
              "1924557             40.682166             -73.953990   26539    Customer   \n",
              "1924560             40.770513             -73.988038   33395  Subscriber   \n",
              "\n",
              "         birth year  gender                tripdate  \n",
              "0              1983       1 2019-05-01 00:00:01.901  \n",
              "2              1978       1 2019-05-01 00:00:04.627  \n",
              "3              1997       1 2019-05-01 00:00:19.334  \n",
              "4              1967       1 2019-05-01 00:00:22.184  \n",
              "5              1973       1 2019-05-01 00:00:47.565  \n",
              "...             ...     ...                     ...  \n",
              "1924551        1974       1 2019-05-31 23:59:28.440  \n",
              "1924553        1987       1 2019-05-31 23:59:29.837  \n",
              "1924555        1995       1 2019-05-31 23:59:41.679  \n",
              "1924557        1993       1 2019-05-31 23:59:45.493  \n",
              "1924560        1985       1 2019-05-31 23:59:51.506  \n",
              "\n",
              "[1293779 rows x 16 columns]"
            ],
            "text/html": [
              "\n",
              "  <div id=\"df-aff7a711-4479-4c0d-a892-3e9b33a1e1d0\">\n",
              "    <div class=\"colab-df-container\">\n",
              "      <div>\n",
              "<style scoped>\n",
              "    .dataframe tbody tr th:only-of-type {\n",
              "        vertical-align: middle;\n",
              "    }\n",
              "\n",
              "    .dataframe tbody tr th {\n",
              "        vertical-align: top;\n",
              "    }\n",
              "\n",
              "    .dataframe thead th {\n",
              "        text-align: right;\n",
              "    }\n",
              "</style>\n",
              "<table border=\"1\" class=\"dataframe\">\n",
              "  <thead>\n",
              "    <tr style=\"text-align: right;\">\n",
              "      <th></th>\n",
              "      <th>tripduration</th>\n",
              "      <th>starttime</th>\n",
              "      <th>stoptime</th>\n",
              "      <th>start station id</th>\n",
              "      <th>start station name</th>\n",
              "      <th>start station latitude</th>\n",
              "      <th>start station longitude</th>\n",
              "      <th>end station id</th>\n",
              "      <th>end station name</th>\n",
              "      <th>end station latitude</th>\n",
              "      <th>end station longitude</th>\n",
              "      <th>bikeid</th>\n",
              "      <th>usertype</th>\n",
              "      <th>birth year</th>\n",
              "      <th>gender</th>\n",
              "      <th>tripdate</th>\n",
              "    </tr>\n",
              "  </thead>\n",
              "  <tbody>\n",
              "    <tr>\n",
              "      <th>0</th>\n",
              "      <td>139</td>\n",
              "      <td>2019-05-01 00:00:01.9010</td>\n",
              "      <td>2019-05-01 00:02:21.5170</td>\n",
              "      <td>447</td>\n",
              "      <td>8 Ave &amp; W 52 St</td>\n",
              "      <td>40.763707</td>\n",
              "      <td>-73.985162</td>\n",
              "      <td>423</td>\n",
              "      <td>W 54 St &amp; 9 Ave</td>\n",
              "      <td>40.765849</td>\n",
              "      <td>-73.986905</td>\n",
              "      <td>31170</td>\n",
              "      <td>Subscriber</td>\n",
              "      <td>1983</td>\n",
              "      <td>1</td>\n",
              "      <td>2019-05-01 00:00:01.901</td>\n",
              "    </tr>\n",
              "    <tr>\n",
              "      <th>2</th>\n",
              "      <td>2308</td>\n",
              "      <td>2019-05-01 00:00:04.6270</td>\n",
              "      <td>2019-05-01 00:38:33.1710</td>\n",
              "      <td>3093</td>\n",
              "      <td>N 6 St &amp; Bedford Ave</td>\n",
              "      <td>40.717452</td>\n",
              "      <td>-73.958509</td>\n",
              "      <td>3676</td>\n",
              "      <td>Van Brunt St &amp; Van Dyke St</td>\n",
              "      <td>40.675833</td>\n",
              "      <td>-74.014726</td>\n",
              "      <td>33369</td>\n",
              "      <td>Subscriber</td>\n",
              "      <td>1978</td>\n",
              "      <td>1</td>\n",
              "      <td>2019-05-01 00:00:04.627</td>\n",
              "    </tr>\n",
              "    <tr>\n",
              "      <th>3</th>\n",
              "      <td>143</td>\n",
              "      <td>2019-05-01 00:00:19.3340</td>\n",
              "      <td>2019-05-01 00:02:42.5200</td>\n",
              "      <td>3486</td>\n",
              "      <td>Schermerhorn St &amp; Bond St</td>\n",
              "      <td>40.688417</td>\n",
              "      <td>-73.984517</td>\n",
              "      <td>3412</td>\n",
              "      <td>Pacific St &amp; Nevins St</td>\n",
              "      <td>40.685376</td>\n",
              "      <td>-73.983021</td>\n",
              "      <td>32041</td>\n",
              "      <td>Subscriber</td>\n",
              "      <td>1997</td>\n",
              "      <td>1</td>\n",
              "      <td>2019-05-01 00:00:19.334</td>\n",
              "    </tr>\n",
              "    <tr>\n",
              "      <th>4</th>\n",
              "      <td>138</td>\n",
              "      <td>2019-05-01 00:00:22.1840</td>\n",
              "      <td>2019-05-01 00:02:40.6480</td>\n",
              "      <td>388</td>\n",
              "      <td>W 26 St &amp; 10 Ave</td>\n",
              "      <td>40.749718</td>\n",
              "      <td>-74.002950</td>\n",
              "      <td>494</td>\n",
              "      <td>W 26 St &amp; 8 Ave</td>\n",
              "      <td>40.747348</td>\n",
              "      <td>-73.997236</td>\n",
              "      <td>35237</td>\n",
              "      <td>Subscriber</td>\n",
              "      <td>1967</td>\n",
              "      <td>1</td>\n",
              "      <td>2019-05-01 00:00:22.184</td>\n",
              "    </tr>\n",
              "    <tr>\n",
              "      <th>5</th>\n",
              "      <td>1598</td>\n",
              "      <td>2019-05-01 00:00:47.5650</td>\n",
              "      <td>2019-05-01 00:27:26.4150</td>\n",
              "      <td>310</td>\n",
              "      <td>State St &amp; Smith St</td>\n",
              "      <td>40.689269</td>\n",
              "      <td>-73.989129</td>\n",
              "      <td>3322</td>\n",
              "      <td>12 St &amp; 4 Ave</td>\n",
              "      <td>40.668603</td>\n",
              "      <td>-73.990439</td>\n",
              "      <td>16614</td>\n",
              "      <td>Customer</td>\n",
              "      <td>1973</td>\n",
              "      <td>1</td>\n",
              "      <td>2019-05-01 00:00:47.565</td>\n",
              "    </tr>\n",
              "    <tr>\n",
              "      <th>...</th>\n",
              "      <td>...</td>\n",
              "      <td>...</td>\n",
              "      <td>...</td>\n",
              "      <td>...</td>\n",
              "      <td>...</td>\n",
              "      <td>...</td>\n",
              "      <td>...</td>\n",
              "      <td>...</td>\n",
              "      <td>...</td>\n",
              "      <td>...</td>\n",
              "      <td>...</td>\n",
              "      <td>...</td>\n",
              "      <td>...</td>\n",
              "      <td>...</td>\n",
              "      <td>...</td>\n",
              "      <td>...</td>\n",
              "    </tr>\n",
              "    <tr>\n",
              "      <th>1924551</th>\n",
              "      <td>233</td>\n",
              "      <td>2019-05-31 23:59:28.4400</td>\n",
              "      <td>2019-06-01 00:03:21.5050</td>\n",
              "      <td>3232</td>\n",
              "      <td>Bond St &amp; Fulton St</td>\n",
              "      <td>40.689622</td>\n",
              "      <td>-73.983043</td>\n",
              "      <td>3411</td>\n",
              "      <td>Bond St &amp; Bergen St</td>\n",
              "      <td>40.684967</td>\n",
              "      <td>-73.986208</td>\n",
              "      <td>34972</td>\n",
              "      <td>Subscriber</td>\n",
              "      <td>1974</td>\n",
              "      <td>1</td>\n",
              "      <td>2019-05-31 23:59:28.440</td>\n",
              "    </tr>\n",
              "    <tr>\n",
              "      <th>1924553</th>\n",
              "      <td>824</td>\n",
              "      <td>2019-05-31 23:59:29.8370</td>\n",
              "      <td>2019-06-01 00:13:13.8450</td>\n",
              "      <td>3117</td>\n",
              "      <td>Franklin St &amp; Dupont St</td>\n",
              "      <td>40.735640</td>\n",
              "      <td>-73.958660</td>\n",
              "      <td>3093</td>\n",
              "      <td>N 6 St &amp; Bedford Ave</td>\n",
              "      <td>40.717452</td>\n",
              "      <td>-73.958509</td>\n",
              "      <td>15228</td>\n",
              "      <td>Subscriber</td>\n",
              "      <td>1987</td>\n",
              "      <td>1</td>\n",
              "      <td>2019-05-31 23:59:29.837</td>\n",
              "    </tr>\n",
              "    <tr>\n",
              "      <th>1924555</th>\n",
              "      <td>432</td>\n",
              "      <td>2019-05-31 23:59:41.6790</td>\n",
              "      <td>2019-06-01 00:06:54.2000</td>\n",
              "      <td>382</td>\n",
              "      <td>University Pl &amp; E 14 St</td>\n",
              "      <td>40.734927</td>\n",
              "      <td>-73.992005</td>\n",
              "      <td>507</td>\n",
              "      <td>E 25 St &amp; 2 Ave</td>\n",
              "      <td>40.739126</td>\n",
              "      <td>-73.979738</td>\n",
              "      <td>21562</td>\n",
              "      <td>Subscriber</td>\n",
              "      <td>1995</td>\n",
              "      <td>1</td>\n",
              "      <td>2019-05-31 23:59:41.679</td>\n",
              "    </tr>\n",
              "    <tr>\n",
              "      <th>1924557</th>\n",
              "      <td>2819</td>\n",
              "      <td>2019-05-31 23:59:45.4930</td>\n",
              "      <td>2019-06-01 00:46:45.1570</td>\n",
              "      <td>436</td>\n",
              "      <td>Hancock St &amp; Bedford Ave</td>\n",
              "      <td>40.682166</td>\n",
              "      <td>-73.953990</td>\n",
              "      <td>436</td>\n",
              "      <td>Hancock St &amp; Bedford Ave</td>\n",
              "      <td>40.682166</td>\n",
              "      <td>-73.953990</td>\n",
              "      <td>26539</td>\n",
              "      <td>Customer</td>\n",
              "      <td>1993</td>\n",
              "      <td>1</td>\n",
              "      <td>2019-05-31 23:59:45.493</td>\n",
              "    </tr>\n",
              "    <tr>\n",
              "      <th>1924560</th>\n",
              "      <td>1926</td>\n",
              "      <td>2019-05-31 23:59:51.5060</td>\n",
              "      <td>2019-06-01 00:31:58.3920</td>\n",
              "      <td>146</td>\n",
              "      <td>Hudson St &amp; Reade St</td>\n",
              "      <td>40.716250</td>\n",
              "      <td>-74.009106</td>\n",
              "      <td>422</td>\n",
              "      <td>W 59 St &amp; 10 Ave</td>\n",
              "      <td>40.770513</td>\n",
              "      <td>-73.988038</td>\n",
              "      <td>33395</td>\n",
              "      <td>Subscriber</td>\n",
              "      <td>1985</td>\n",
              "      <td>1</td>\n",
              "      <td>2019-05-31 23:59:51.506</td>\n",
              "    </tr>\n",
              "  </tbody>\n",
              "</table>\n",
              "<p>1293779 rows × 16 columns</p>\n",
              "</div>\n",
              "      <button class=\"colab-df-convert\" onclick=\"convertToInteractive('df-aff7a711-4479-4c0d-a892-3e9b33a1e1d0')\"\n",
              "              title=\"Convert this dataframe to an interactive table.\"\n",
              "              style=\"display:none;\">\n",
              "        \n",
              "  <svg xmlns=\"http://www.w3.org/2000/svg\" height=\"24px\"viewBox=\"0 0 24 24\"\n",
              "       width=\"24px\">\n",
              "    <path d=\"M0 0h24v24H0V0z\" fill=\"none\"/>\n",
              "    <path d=\"M18.56 5.44l.94 2.06.94-2.06 2.06-.94-2.06-.94-.94-2.06-.94 2.06-2.06.94zm-11 1L8.5 8.5l.94-2.06 2.06-.94-2.06-.94L8.5 2.5l-.94 2.06-2.06.94zm10 10l.94 2.06.94-2.06 2.06-.94-2.06-.94-.94-2.06-.94 2.06-2.06.94z\"/><path d=\"M17.41 7.96l-1.37-1.37c-.4-.4-.92-.59-1.43-.59-.52 0-1.04.2-1.43.59L10.3 9.45l-7.72 7.72c-.78.78-.78 2.05 0 2.83L4 21.41c.39.39.9.59 1.41.59.51 0 1.02-.2 1.41-.59l7.78-7.78 2.81-2.81c.8-.78.8-2.07 0-2.86zM5.41 20L4 18.59l7.72-7.72 1.47 1.35L5.41 20z\"/>\n",
              "  </svg>\n",
              "      </button>\n",
              "      \n",
              "  <style>\n",
              "    .colab-df-container {\n",
              "      display:flex;\n",
              "      flex-wrap:wrap;\n",
              "      gap: 12px;\n",
              "    }\n",
              "\n",
              "    .colab-df-convert {\n",
              "      background-color: #E8F0FE;\n",
              "      border: none;\n",
              "      border-radius: 50%;\n",
              "      cursor: pointer;\n",
              "      display: none;\n",
              "      fill: #1967D2;\n",
              "      height: 32px;\n",
              "      padding: 0 0 0 0;\n",
              "      width: 32px;\n",
              "    }\n",
              "\n",
              "    .colab-df-convert:hover {\n",
              "      background-color: #E2EBFA;\n",
              "      box-shadow: 0px 1px 2px rgba(60, 64, 67, 0.3), 0px 1px 3px 1px rgba(60, 64, 67, 0.15);\n",
              "      fill: #174EA6;\n",
              "    }\n",
              "\n",
              "    [theme=dark] .colab-df-convert {\n",
              "      background-color: #3B4455;\n",
              "      fill: #D2E3FC;\n",
              "    }\n",
              "\n",
              "    [theme=dark] .colab-df-convert:hover {\n",
              "      background-color: #434B5C;\n",
              "      box-shadow: 0px 1px 3px 1px rgba(0, 0, 0, 0.15);\n",
              "      filter: drop-shadow(0px 1px 2px rgba(0, 0, 0, 0.3));\n",
              "      fill: #FFFFFF;\n",
              "    }\n",
              "  </style>\n",
              "\n",
              "      <script>\n",
              "        const buttonEl =\n",
              "          document.querySelector('#df-aff7a711-4479-4c0d-a892-3e9b33a1e1d0 button.colab-df-convert');\n",
              "        buttonEl.style.display =\n",
              "          google.colab.kernel.accessAllowed ? 'block' : 'none';\n",
              "\n",
              "        async function convertToInteractive(key) {\n",
              "          const element = document.querySelector('#df-aff7a711-4479-4c0d-a892-3e9b33a1e1d0');\n",
              "          const dataTable =\n",
              "            await google.colab.kernel.invokeFunction('convertToInteractive',\n",
              "                                                     [key], {});\n",
              "          if (!dataTable) return;\n",
              "\n",
              "          const docLinkHtml = 'Like what you see? Visit the ' +\n",
              "            '<a target=\"_blank\" href=https://colab.research.google.com/notebooks/data_table.ipynb>data table notebook</a>'\n",
              "            + ' to learn more about interactive tables.';\n",
              "          element.innerHTML = '';\n",
              "          dataTable['output_type'] = 'display_data';\n",
              "          await google.colab.output.renderOutput(dataTable, element);\n",
              "          const docLink = document.createElement('div');\n",
              "          docLink.innerHTML = docLinkHtml;\n",
              "          element.appendChild(docLink);\n",
              "        }\n",
              "      </script>\n",
              "    </div>\n",
              "  </div>\n",
              "  "
            ]
          },
          "metadata": {},
          "execution_count": 38
        }
      ]
    },
    {
      "cell_type": "markdown",
      "source": [
        "Creates a new sample of only male users."
      ],
      "metadata": {
        "id": "UuKprlvFcMLi"
      }
    },
    {
      "cell_type": "code",
      "source": [
        "cbMay19_female = cbMay19_clean[cbMay19_clean[\"gender\"] == 2]\n",
        "cbMay19_male = cbMay19_clean[cbMay19_clean[\"gender\"] == 1]\n",
        "plt.hist(cbMay19_female[\"tripduration\"], density = 1);\n",
        "plt.hist(cbMay19_male[\"tripduration\"], density = 1, alpha = 0.7 );\n",
        "plt.xlabel(\"trip duration in minutes\");\n",
        "plt.ylabel(\"number of trips\");"
      ],
      "metadata": {
        "colab": {
          "base_uri": "https://localhost:8080/",
          "height": 279
        },
        "id": "1PAOGR91Rfhv",
        "outputId": "e0e6c753-0ae7-44a2-ff6f-0da1e325b978"
      },
      "execution_count": 11,
      "outputs": [
        {
          "output_type": "display_data",
          "data": {
            "text/plain": [
              "<Figure size 432x288 with 1 Axes>"
            ],
            "image/png": "[encoded data removed]"
          },
          "metadata": {
            "needs_background": "light"
          }
        }
      ]
    },
    {
      "cell_type": "markdown",
      "source": [
        "Figure 3: A diagram showing two distributions: the female trip duration in blue; and the male trip duration in yellow."
      ],
      "metadata": {
        "id": "A0eds-fKkIpJ"
      }
    },
    {
      "cell_type": "code",
      "source": [
        "cbMay19_female[\"tripduration\"].mean()"
      ],
      "metadata": {
        "colab": {
          "base_uri": "https://localhost:8080/"
        },
        "id": "7yLIkWHGqTkr",
        "outputId": "d2f4417d-733d-4308-fd9c-3a1d7c7d44dd"
      },
      "execution_count": 40,
      "outputs": [
        {
          "output_type": "execute_result",
          "data": {
            "text/plain": [
              "652.1760137019039"
            ]
          },
          "metadata": {},
          "execution_count": 40
        }
      ]
    },
    {
      "cell_type": "code",
      "source": [
        "cbMay19_male[\"tripduration\"].mean()"
      ],
      "metadata": {
        "colab": {
          "base_uri": "https://localhost:8080/"
        },
        "id": "s5elVtPXqffj",
        "outputId": "da63b1c5-f35b-43ce-cb02-c495fe7861d2"
      },
      "execution_count": 13,
      "outputs": [
        {
          "output_type": "execute_result",
          "data": {
            "text/plain": [
              "588.2070911461445"
            ]
          },
          "metadata": {},
          "execution_count": 13
        }
      ]
    },
    {
      "cell_type": "code",
      "source": [
        "cbMay19_female[\"tripduration\"].std()"
      ],
      "metadata": {
        "colab": {
          "base_uri": "https://localhost:8080/"
        },
        "id": "s7EGTtq8jJck",
        "outputId": "1cb9e362-6dc0-4e4d-b69c-b9a3b03a99ee"
      },
      "execution_count": 41,
      "outputs": [
        {
          "output_type": "execute_result",
          "data": {
            "text/plain": [
              "342.0291207094665"
            ]
          },
          "metadata": {},
          "execution_count": 41
        }
      ]
    },
    {
      "cell_type": "code",
      "source": [
        "cbMay19_male[\"tripduration\"].std()"
      ],
      "metadata": {
        "colab": {
          "base_uri": "https://localhost:8080/"
        },
        "id": "GFVzMf0ujNfD",
        "outputId": "77d10843-dee8-4e36-8216-d75b457db292"
      },
      "execution_count": 42,
      "outputs": [
        {
          "output_type": "execute_result",
          "data": {
            "text/plain": [
              "10338.85865345463"
            ]
          },
          "metadata": {},
          "execution_count": 42
        }
      ]
    },
    {
      "cell_type": "markdown",
      "source": [
        "The means are not the same, however, the mean of the male trip duration is larger than the subtraction of the mean of the standard deviation of the female trip duration from the mean of the female trip duration.  \n",
        "Thus, it can be estimated that the null hypothesis will be rejected."
      ],
      "metadata": {
        "id": "9Du4SuP8uHMj"
      }
    },
    {
      "cell_type": "code",
      "source": [
        "stats.ttest_ind(cbMay19_female[\"tripduration\"], cbMay19_male[\"tripduration\"])"
      ],
      "metadata": {
        "colab": {
          "base_uri": "https://localhost:8080/"
        },
        "id": "N9jV_JcBSXgB",
        "outputId": "35de3092-91fe-42ca-a37e-846a749201fd"
      },
      "execution_count": 15,
      "outputs": [
        {
          "output_type": "execute_result",
          "data": {
            "text/plain": [
              "Ttest_indResult(statistic=100.84403665697793, pvalue=0.0)"
            ]
          },
          "metadata": {},
          "execution_count": 15
        }
      ]
    },
    {
      "cell_type": "markdown",
      "source": [
        "This rejects the null hypothesis and shows that more men than women use Citibikes."
      ],
      "metadata": {
        "id": "rXE2paepfVli"
      }
    },
    {
      "cell_type": "markdown",
      "source": [
        "NULL hypothesis: 0.05  \n",
        "Alternative Hypothesis: 2 sigma"
      ],
      "metadata": {
        "id": "xf37y9Y9fuYZ"
      }
    },
    {
      "cell_type": "code",
      "source": [
        "stats.ks_2samp(cbMay19_female[\"tripduration\"], cbMay19_male[\"tripduration\"])"
      ],
      "metadata": {
        "colab": {
          "base_uri": "https://localhost:8080/"
        },
        "id": "o6zlUG_Qoxnr",
        "outputId": "0d5d653f-b104-4e70-9227-44114a60e7a9"
      },
      "execution_count": 16,
      "outputs": [
        {
          "output_type": "execute_result",
          "data": {
            "text/plain": [
              "KstestResult(statistic=0.08422140452629323, pvalue=0.0)"
            ]
          },
          "metadata": {},
          "execution_count": 16
        }
      ]
    },
    {
      "cell_type": "markdown",
      "source": [
        "Since the pvalue is less than the significance threshold, it can be concluded that the two samples do not come from the same parent distribution."
      ],
      "metadata": {
        "id": "deaApi5YhCK_"
      }
    },
    {
      "cell_type": "code",
      "source": [
        "normed_female = (cbMay19_female[\"tripduration\"] - cbMay19_female[\"tripduration\"].mean()) / cbMay19_female[\"tripduration\"].std()\n",
        "normed_male = (cbMay19_male[\"tripduration\"] - cbMay19_male[\"tripduration\"].mean()) / cbMay19_male[\"tripduration\"].std()"
      ],
      "metadata": {
        "id": "Es9TTL7kyGam"
      },
      "execution_count": 17,
      "outputs": []
    },
    {
      "cell_type": "markdown",
      "source": [
        "This normalizing the samples in order to get a more accurate answer to the kstest."
      ],
      "metadata": {
        "id": "rLE9UBo2h2Ti"
      }
    },
    {
      "cell_type": "code",
      "source": [
        "stats.ks_2samp(cbMay19_female[\"tripduration\"], cbMay19_male[\"tripduration\"])"
      ],
      "metadata": {
        "colab": {
          "base_uri": "https://localhost:8080/"
        },
        "id": "4Pml8yrhySV-",
        "outputId": "cb91ae16-0e50-4623-92bc-df5bb5557d84"
      },
      "execution_count": 18,
      "outputs": [
        {
          "output_type": "execute_result",
          "data": {
            "text/plain": [
              "KstestResult(statistic=0.08422140452629323, pvalue=0.0)"
            ]
          },
          "metadata": {},
          "execution_count": 18
        }
      ]
    },
    {
      "cell_type": "markdown",
      "source": [
        "There is no change in the pvalue, thus, it can be concluded that the two samples do not come from the same parent distribution."
      ],
      "metadata": {
        "id": "FrpWI_0ciEW9"
      }
    },
    {
      "cell_type": "markdown",
      "source": [
        "**Extra Credit** "
      ],
      "metadata": {
        "id": "9N1TDzcgvmfP"
      }
    },
    {
      "cell_type": "code",
      "source": [
        "pvalue_startime = 0.05"
      ],
      "metadata": {
        "id": "xiICQP2Grki5"
      },
      "execution_count": null,
      "outputs": []
    },
    {
      "cell_type": "code",
      "source": [
        "cbMay19[\"starttime\"]"
      ],
      "metadata": {
        "colab": {
          "base_uri": "https://localhost:8080/"
        },
        "id": "T5su_TheZ46C",
        "outputId": "d30c5ea3-6d4e-45fe-d0aa-c2d4309fa55d"
      },
      "execution_count": 19,
      "outputs": [
        {
          "output_type": "execute_result",
          "data": {
            "text/plain": [
              "0          2019-05-01 00:00:01.9010\n",
              "1          2019-05-01 00:00:03.0210\n",
              "2          2019-05-01 00:00:04.6270\n",
              "3          2019-05-01 00:00:19.3340\n",
              "4          2019-05-01 00:00:22.1840\n",
              "                     ...           \n",
              "1924558    2019-05-31 23:59:45.5760\n",
              "1924559    2019-05-31 23:59:46.4650\n",
              "1924560    2019-05-31 23:59:51.5060\n",
              "1924561    2019-05-31 23:59:52.4170\n",
              "1924562    2019-05-31 23:59:55.5500\n",
              "Name: starttime, Length: 1924563, dtype: object"
            ]
          },
          "metadata": {},
          "execution_count": 19
        }
      ]
    },
    {
      "cell_type": "markdown",
      "source": [
        "This prints out the start time values for the distribution."
      ],
      "metadata": {
        "id": "KfcKU42KiSay"
      }
    },
    {
      "cell_type": "code",
      "source": [
        "cbMay19[\"tripdate\"] = pd.to_datetime(cbMay19.starttime)\n",
        "cbMay19[\"tripdate\"]"
      ],
      "metadata": {
        "colab": {
          "base_uri": "https://localhost:8080/"
        },
        "id": "1hI59pjlaFvH",
        "outputId": "44d2e5a2-446e-4bee-a30a-c2fa486825b3"
      },
      "execution_count": 20,
      "outputs": [
        {
          "output_type": "execute_result",
          "data": {
            "text/plain": [
              "0         2019-05-01 00:00:01.901\n",
              "1         2019-05-01 00:00:03.021\n",
              "2         2019-05-01 00:00:04.627\n",
              "3         2019-05-01 00:00:19.334\n",
              "4         2019-05-01 00:00:22.184\n",
              "                    ...          \n",
              "1924558   2019-05-31 23:59:45.576\n",
              "1924559   2019-05-31 23:59:46.465\n",
              "1924560   2019-05-31 23:59:51.506\n",
              "1924561   2019-05-31 23:59:52.417\n",
              "1924562   2019-05-31 23:59:55.550\n",
              "Name: tripdate, Length: 1924563, dtype: datetime64[ns]"
            ]
          },
          "metadata": {},
          "execution_count": 20
        }
      ]
    },
    {
      "cell_type": "markdown",
      "source": [
        "This converts the datatype in the starttime column to datetime in nanoseconds."
      ],
      "metadata": {
        "id": "xxxAVhw-iaHR"
      }
    },
    {
      "cell_type": "code",
      "source": [
        "cbMay19_weekday = cbMay19[cbMay19[\"tripdate\"].dt.weekday < 5]"
      ],
      "metadata": {
        "id": "t9jIE8sJaH0l"
      },
      "execution_count": 59,
      "outputs": []
    },
    {
      "cell_type": "code",
      "source": [
        "cbMay19_weekday[\"tripduration\"]"
      ],
      "metadata": {
        "colab": {
          "base_uri": "https://localhost:8080/"
        },
        "id": "Jk4QctvqqgOs",
        "outputId": "46a01b50-ea73-4ff0-f1af-210f7de512cf"
      },
      "execution_count": 64,
      "outputs": [
        {
          "output_type": "execute_result",
          "data": {
            "text/plain": [
              "0           139\n",
              "1           754\n",
              "2          2308\n",
              "3           143\n",
              "4           138\n",
              "           ... \n",
              "1924558     304\n",
              "1924559     324\n",
              "1924560    1926\n",
              "1924561    2047\n",
              "1924562     964\n",
              "Name: tripduration, Length: 1519349, dtype: int64"
            ]
          },
          "metadata": {},
          "execution_count": 64
        }
      ]
    },
    {
      "cell_type": "markdown",
      "source": [
        "This divides the dataframe by weekdays"
      ],
      "metadata": {
        "id": "Uc3tjbg6ikkb"
      }
    },
    {
      "cell_type": "code",
      "source": [
        "cbMay19_weekday[\"tripduration\"].mean()"
      ],
      "metadata": {
        "colab": {
          "base_uri": "https://localhost:8080/"
        },
        "id": "HfleIQg3tNH8",
        "outputId": "b38b9e29-7d16-4ac7-fd13-0d04c241836c"
      },
      "execution_count": 65,
      "outputs": [
        {
          "output_type": "execute_result",
          "data": {
            "text/plain": [
              "997.8067363061416"
            ]
          },
          "metadata": {},
          "execution_count": 65
        }
      ]
    },
    {
      "cell_type": "code",
      "source": [
        "cbMay19_weekday[\"tripduration\"].std()"
      ],
      "metadata": {
        "colab": {
          "base_uri": "https://localhost:8080/"
        },
        "id": "a5y70VhQtQ7b",
        "outputId": "20cf9b06-5784-443a-d084-269e926bb98d"
      },
      "execution_count": 66,
      "outputs": [
        {
          "output_type": "execute_result",
          "data": {
            "text/plain": [
              "11732.690924587994"
            ]
          },
          "metadata": {},
          "execution_count": 66
        }
      ]
    },
    {
      "cell_type": "code",
      "source": [
        "cbMay19_weekend = cbMay19[cbMay19[\"tripdate\"].dt.weekday >= 5]"
      ],
      "metadata": {
        "id": "HDuT8IU2aPpG"
      },
      "execution_count": 58,
      "outputs": []
    },
    {
      "cell_type": "markdown",
      "source": [
        "This divides the dataframe by weekends."
      ],
      "metadata": {
        "id": "d_eetV7Iixoi"
      }
    },
    {
      "cell_type": "code",
      "source": [
        "cbMay19_weekend[\"tripduration\"]"
      ],
      "metadata": {
        "id": "CN6zGyH3qsYn"
      },
      "execution_count": null,
      "outputs": []
    },
    {
      "cell_type": "code",
      "source": [
        "cbMay19_weekend[\"tripduration\"].mean()"
      ],
      "metadata": {
        "colab": {
          "base_uri": "https://localhost:8080/"
        },
        "id": "jPzQ-zZGtXCv",
        "outputId": "3172f979-82c4-425d-ddfb-701d84e9f8a0"
      },
      "execution_count": 68,
      "outputs": [
        {
          "output_type": "execute_result",
          "data": {
            "text/plain": [
              "1327.3382953204973"
            ]
          },
          "metadata": {},
          "execution_count": 68
        }
      ]
    },
    {
      "cell_type": "code",
      "source": [
        "cbMay19_weekend[\"tripduration\"].std()"
      ],
      "metadata": {
        "colab": {
          "base_uri": "https://localhost:8080/"
        },
        "id": "uXiCln2atZJq",
        "outputId": "ddb20244-e7b6-4537-c90a-5fdd6aa3dc5a"
      },
      "execution_count": 69,
      "outputs": [
        {
          "output_type": "execute_result",
          "data": {
            "text/plain": [
              "15211.761726988416"
            ]
          },
          "metadata": {},
          "execution_count": 69
        }
      ]
    },
    {
      "cell_type": "code",
      "source": [
        "stats.ttest_ind(cbMay19_weekday[\"tripduration\"], cbMay19_weekend[\"tripduration\"])"
      ],
      "metadata": {
        "colab": {
          "base_uri": "https://localhost:8080/"
        },
        "id": "q3KqYhwwrI9h",
        "outputId": "65b6c72a-9781-451a-86da-c26174b30a05"
      },
      "execution_count": 61,
      "outputs": [
        {
          "output_type": "execute_result",
          "data": {
            "text/plain": [
              "Ttest_indResult(statistic=-14.856242632365019, pvalue=6.378763724430235e-50)"
            ]
          },
          "metadata": {},
          "execution_count": 61
        }
      ]
    },
    {
      "cell_type": "markdown",
      "source": [
        "The pvalue is much higher than the threshold, thus, the trip durations on weekends and weekdays are not characteristically different."
      ],
      "metadata": {
        "id": "ERLMz8Wwro9w"
      }
    }
  ]
}